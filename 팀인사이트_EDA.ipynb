{
 "cells": [
  {
   "cell_type": "markdown",
   "metadata": {},
   "source": [
    "---"
   ]
  },
  {
   "cell_type": "markdown",
   "metadata": {},
   "source": [
    "<center><b> 개요 </b> :  본 대회는 다양한 장비/서비스에서 일어나는 시스템 데이터를 통해 사용자의 <u><b>불편을 예지</b></u>하기 위해<br>‘시스템 데이터’와 ‘사용자 불편 발생 데이터’를 분석하여 <u><b>불편을 느낀 사용자와 불편 요인들</b></u>을 찾는 대회입니다.<br><br></center>"
   ]
  },
  {
   "cell_type": "markdown",
   "metadata": {},
   "source": [
    "---"
   ]
  },
  {
   "cell_type": "markdown",
   "metadata": {},
   "source": [
    "# <center>EDA 목차</center>"
   ]
  },
  {
   "cell_type": "markdown",
   "metadata": {},
   "source": [
    "* `Index`\n",
    "    1. 패키지 불러오기\n",
    "    2. 데이터 불러오기\n",
    "    3. 데이터 정보  \n",
    "        - 3-1. 데이터 소개\n",
    "        - 3-2. 결측치 확인\n",
    "        - 3-3. 데이터 기본 전처리\n",
    "        - 3-3. 이상치 확인\n",
    "    4. 불만 제기 시간 확인  \n",
    "        - 4-1. 고객들의 시간별 불만 제기\n",
    "    5. Err Data 관계 해석\n",
    "        - 5-1. Errtype\n",
    "        - 5-2. Errcode\n",
    "        - 5-3. Fwver\n",
    "        - 5-4. Model\n",
    "    6. Quality Data 수치 해석\n",
    "        - 6-1. Quality 값\n",
    "        - 6-2. Fwver\n",
    "    7. Err Data와 Quality Data 관계 해석\n",
    "    8. 결과 정리"
   ]
  },
  {
   "cell_type": "markdown",
   "metadata": {},
   "source": [
    "---"
   ]
  },
  {
   "cell_type": "markdown",
   "metadata": {},
   "source": [
    "#  <center>1. 패키지 불러오기</center>"
   ]
  },
  {
   "cell_type": "markdown",
   "metadata": {},
   "source": [
    "|라이브러리|버전|\n",
    "|-------|---|\n",
    "|OS|macOS Catalina|\n",
    "|python|3.8.3|\n",
    "|numpy|1.20.0|\n",
    "|pandas|1.2.1|\n",
    "|tqdm|4.56.0|"
   ]
  },
  {
   "cell_type": "markdown",
   "metadata": {},
   "source": [
    "---"
   ]
  },
  {
   "cell_type": "code",
   "execution_count": 130,
   "metadata": {
    "ExecuteTime": {
     "end_time": "2021-02-04T16:33:21.063223Z",
     "start_time": "2021-02-04T16:33:17.531330Z"
    }
   },
   "outputs": [],
   "source": [
    "import os\n",
    "import random # Analysis\n",
    "import datetime as dt # Analysis\n",
    "import numpy as np # Analysis\n",
    "import pandas as pd # Analysis\n",
    "\n",
    "from tqdm import tqdm"
   ]
  },
  {
   "cell_type": "code",
   "execution_count": 131,
   "metadata": {
    "ExecuteTime": {
     "end_time": "2021-02-04T16:33:21.242601Z",
     "start_time": "2021-02-04T16:33:21.232794Z"
    }
   },
   "outputs": [],
   "source": [
    "import warnings\n",
    "warnings.filterwarnings(action='ignore') # ignore warnings"
   ]
  },
  {
   "cell_type": "code",
   "execution_count": 132,
   "metadata": {
    "ExecuteTime": {
     "end_time": "2021-02-04T16:33:21.366350Z",
     "start_time": "2021-02-04T16:33:21.357512Z"
    }
   },
   "outputs": [],
   "source": [
    "# datafarme 보여주는 범위 설정\n",
    "\n",
    "pd.options.display.max_columns=1000\n",
    "pd.options.display.max_rows=200\n",
    "pd.options.display.float_format = '{:.5f}'.format"
   ]
  },
  {
   "cell_type": "markdown",
   "metadata": {},
   "source": [
    "---"
   ]
  },
  {
   "cell_type": "markdown",
   "metadata": {},
   "source": [
    "#  <center>2. 데이터 불러오기</center>"
   ]
  },
  {
   "cell_type": "markdown",
   "metadata": {},
   "source": [
    "---"
   ]
  },
  {
   "cell_type": "code",
   "execution_count": 4,
   "metadata": {
    "ExecuteTime": {
     "end_time": "2021-02-04T16:33:21.635898Z",
     "start_time": "2021-02-04T16:33:21.627089Z"
    }
   },
   "outputs": [],
   "source": [
    "load_path = './data/' # 데이터 불러오는 경로\n",
    "save_path = './preprocessing/' # 전처리 이후 데이터 저장하는 경로"
   ]
  },
  {
   "cell_type": "code",
   "execution_count": 5,
   "metadata": {
    "ExecuteTime": {
     "end_time": "2021-02-04T16:33:46.144521Z",
     "start_time": "2021-02-04T16:33:21.755697Z"
    }
   },
   "outputs": [],
   "source": [
    "train_err = pd.read_csv(load_path + 'train_err_data.csv')\n",
    "train_qual = pd.read_csv(load_path + 'train_quality_data.csv')\n",
    "train_prob = pd.read_csv(load_path + 'train_problem_data.csv')"
   ]
  },
  {
   "cell_type": "code",
   "execution_count": 6,
   "metadata": {
    "ExecuteTime": {
     "end_time": "2021-02-04T16:34:11.146772Z",
     "start_time": "2021-02-04T16:33:46.667508Z"
    }
   },
   "outputs": [],
   "source": [
    "test_err = pd.read_csv(load_path + 'test_err_data.csv')\n",
    "test_qual = pd.read_csv(load_path + 'test_quality_data.csv')"
   ]
  },
  {
   "cell_type": "markdown",
   "metadata": {},
   "source": [
    "---"
   ]
  },
  {
   "cell_type": "markdown",
   "metadata": {},
   "source": [
    "#  <center>3. 데이터 정보</center>"
   ]
  },
  {
   "cell_type": "markdown",
   "metadata": {},
   "source": [
    "---"
   ]
  },
  {
   "cell_type": "markdown",
   "metadata": {},
   "source": [
    "## 3-1. 데이터 소개"
   ]
  },
  {
   "cell_type": "markdown",
   "metadata": {},
   "source": [
    "* `Err Data`는 사람들이 에러를 접한 시간을 기준으로  \n",
    "  <u><b>어떤 Model</b> & <b>Fwver을 사용</b>하고, <b>접한 Errtype</b> & <b>Errcode는 무엇인지</b></u>에 대하여 알려주는 데이터이다."
   ]
  },
  {
   "cell_type": "markdown",
   "metadata": {},
   "source": [
    "* 변수는 총 6개이고, 관측치는 약 1600만개로 User ID별로 시계열 데이터가 나와있는 자료이다.  \n",
    "    * User ID : 사용자 고유 ID\n",
    "    * Time : 에러 발생 시간\n",
    "    * Model : 에러가 발생한 모델명\n",
    "    * Fwver : 에러가 발생한 펌웨어 버전\n",
    "    * Errtype : 에러 분류 (에러 타입)\n",
    "    * Errcode : 어떤 에러가 발생하였는지 (에러 코드)"
   ]
  },
  {
   "cell_type": "code",
   "execution_count": 7,
   "metadata": {
    "ExecuteTime": {
     "end_time": "2021-02-04T16:34:12.216218Z",
     "start_time": "2021-02-04T16:34:12.170011Z"
    }
   },
   "outputs": [
    {
     "name": "stdout",
     "output_type": "stream",
     "text": [
      "<class 'pandas.core.frame.DataFrame'>\n",
      "RangeIndex: 16554663 entries, 0 to 16554662\n",
      "Data columns (total 6 columns):\n",
      " #   Column    Dtype \n",
      "---  ------    ----- \n",
      " 0   user_id   int64 \n",
      " 1   time      int64 \n",
      " 2   model_nm  object\n",
      " 3   fwver     object\n",
      " 4   errtype   int64 \n",
      " 5   errcode   object\n",
      "dtypes: int64(3), object(3)\n",
      "memory usage: 757.8+ MB\n"
     ]
    }
   ],
   "source": [
    "train_err.info()"
   ]
  },
  {
   "cell_type": "code",
   "execution_count": 8,
   "metadata": {
    "ExecuteTime": {
     "end_time": "2021-02-04T16:34:13.035498Z",
     "start_time": "2021-02-04T16:34:13.020938Z"
    }
   },
   "outputs": [
    {
     "name": "stdout",
     "output_type": "stream",
     "text": [
      "<class 'pandas.core.frame.DataFrame'>\n",
      "RangeIndex: 16532648 entries, 0 to 16532647\n",
      "Data columns (total 6 columns):\n",
      " #   Column    Dtype \n",
      "---  ------    ----- \n",
      " 0   user_id   int64 \n",
      " 1   time      int64 \n",
      " 2   model_nm  object\n",
      " 3   fwver     object\n",
      " 4   errtype   int64 \n",
      " 5   errcode   object\n",
      "dtypes: int64(3), object(3)\n",
      "memory usage: 756.8+ MB\n"
     ]
    }
   ],
   "source": [
    "test_err.info()"
   ]
  },
  {
   "cell_type": "markdown",
   "metadata": {},
   "source": [
    "* `Quality Data`는 사용자의 시스템 작동 중 문제가 발생하면  \n",
    "  측정 가능한 지표들로 <b><u>해당 시점으로부터 2시간 단위로 수집한 정보</u></b>를 알려주는 데이터이다.\n",
    "    * User ID : 사용자 고유 ID\n",
    "    * Time : 퀄리티가 수집되기 시작한 시간\n",
    "    * Fwver : 퀄리티 시작 시점 기준의 펌웨어 버전\n",
    "    * Quality : 에러 퀄리티 수치 (0~12, 총 13개 컬럼)"
   ]
  },
  {
   "cell_type": "code",
   "execution_count": 9,
   "metadata": {
    "ExecuteTime": {
     "end_time": "2021-02-04T16:34:14.322116Z",
     "start_time": "2021-02-04T16:34:13.870832Z"
    }
   },
   "outputs": [
    {
     "name": "stdout",
     "output_type": "stream",
     "text": [
      "<class 'pandas.core.frame.DataFrame'>\n",
      "RangeIndex: 828624 entries, 0 to 828623\n",
      "Data columns (total 16 columns):\n",
      " #   Column      Non-Null Count   Dtype  \n",
      "---  ------      --------------   -----  \n",
      " 0   time        828624 non-null  int64  \n",
      " 1   user_id     828624 non-null  int64  \n",
      " 2   fwver       788544 non-null  object \n",
      " 3   quality_0   684192 non-null  float64\n",
      " 4   quality_1   828624 non-null  int64  \n",
      " 5   quality_2   788511 non-null  float64\n",
      " 6   quality_3   828624 non-null  int64  \n",
      " 7   quality_4   828624 non-null  int64  \n",
      " 8   quality_5   828604 non-null  object \n",
      " 9   quality_6   828624 non-null  int64  \n",
      " 10  quality_7   828624 non-null  object \n",
      " 11  quality_8   828624 non-null  object \n",
      " 12  quality_9   828624 non-null  object \n",
      " 13  quality_10  828624 non-null  object \n",
      " 14  quality_11  828624 non-null  int64  \n",
      " 15  quality_12  828624 non-null  int64  \n",
      "dtypes: float64(2), int64(8), object(6)\n",
      "memory usage: 101.2+ MB\n"
     ]
    }
   ],
   "source": [
    "train_qual.info()"
   ]
  },
  {
   "cell_type": "code",
   "execution_count": 10,
   "metadata": {
    "ExecuteTime": {
     "end_time": "2021-02-04T16:34:15.757851Z",
     "start_time": "2021-02-04T16:34:15.258359Z"
    }
   },
   "outputs": [
    {
     "name": "stdout",
     "output_type": "stream",
     "text": [
      "<class 'pandas.core.frame.DataFrame'>\n",
      "RangeIndex: 747972 entries, 0 to 747971\n",
      "Data columns (total 16 columns):\n",
      " #   Column      Non-Null Count   Dtype  \n",
      "---  ------      --------------   -----  \n",
      " 0   time        747972 non-null  int64  \n",
      " 1   user_id     747972 non-null  int64  \n",
      " 2   fwver       725208 non-null  object \n",
      " 3   quality_0   641388 non-null  float64\n",
      " 4   quality_1   747961 non-null  object \n",
      " 5   quality_2   726857 non-null  float64\n",
      " 6   quality_3   747972 non-null  int64  \n",
      " 7   quality_4   747972 non-null  int64  \n",
      " 8   quality_5   747928 non-null  object \n",
      " 9   quality_6   747972 non-null  int64  \n",
      " 10  quality_7   747972 non-null  object \n",
      " 11  quality_8   747972 non-null  object \n",
      " 12  quality_9   747972 non-null  object \n",
      " 13  quality_10  747972 non-null  object \n",
      " 14  quality_11  747972 non-null  int64  \n",
      " 15  quality_12  747972 non-null  int64  \n",
      "dtypes: float64(2), int64(7), object(7)\n",
      "memory usage: 91.3+ MB\n"
     ]
    }
   ],
   "source": [
    "test_qual.info()"
   ]
  },
  {
   "cell_type": "markdown",
   "metadata": {},
   "source": [
    "* `Problem Data`는 전체 사용자 중에서, <b>불만을 제기한 사람들의 시간</b>을 알려주는 데이터이다.\n",
    "    * User ID : 불만을 제기한 유저\n",
    "    * Time : 불만을 제기한 시간\n",
    "    * <u>한 사용자가 여러번 불만을 제기할 수 있음</u>"
   ]
  },
  {
   "cell_type": "code",
   "execution_count": 11,
   "metadata": {
    "ExecuteTime": {
     "end_time": "2021-02-04T16:34:16.600869Z",
     "start_time": "2021-02-04T16:34:16.583495Z"
    }
   },
   "outputs": [
    {
     "name": "stdout",
     "output_type": "stream",
     "text": [
      "<class 'pandas.core.frame.DataFrame'>\n",
      "RangeIndex: 5429 entries, 0 to 5428\n",
      "Data columns (total 2 columns):\n",
      " #   Column   Non-Null Count  Dtype\n",
      "---  ------   --------------  -----\n",
      " 0   user_id  5429 non-null   int64\n",
      " 1   time     5429 non-null   int64\n",
      "dtypes: int64(2)\n",
      "memory usage: 85.0 KB\n"
     ]
    }
   ],
   "source": [
    "train_prob.info()"
   ]
  },
  {
   "cell_type": "markdown",
   "metadata": {},
   "source": [
    "-----"
   ]
  },
  {
   "cell_type": "markdown",
   "metadata": {},
   "source": [
    "## 3-2. 결측치 확인"
   ]
  },
  {
   "cell_type": "markdown",
   "metadata": {},
   "source": [
    "1. `Train Err Data` Missing Value  \n",
    "    + Errcode 결측치 존재"
   ]
  },
  {
   "cell_type": "code",
   "execution_count": 12,
   "metadata": {},
   "outputs": [
    {
     "data": {
      "text/plain": [
       "user_id     0\n",
       "time        0\n",
       "model_nm    0\n",
       "fwver       0\n",
       "errtype     0\n",
       "errcode     1\n",
       "dtype: int64"
      ]
     },
     "execution_count": 12,
     "metadata": {},
     "output_type": "execute_result"
    }
   ],
   "source": [
    "train_err.isnull().sum()"
   ]
  },
  {
   "cell_type": "code",
   "execution_count": 13,
   "metadata": {},
   "outputs": [
    {
     "data": {
      "text/html": [
       "<div>\n",
       "<style scoped>\n",
       "    .dataframe tbody tr th:only-of-type {\n",
       "        vertical-align: middle;\n",
       "    }\n",
       "\n",
       "    .dataframe tbody tr th {\n",
       "        vertical-align: top;\n",
       "    }\n",
       "\n",
       "    .dataframe thead th {\n",
       "        text-align: right;\n",
       "    }\n",
       "</style>\n",
       "<table border=\"1\" class=\"dataframe\">\n",
       "  <thead>\n",
       "    <tr style=\"text-align: right;\">\n",
       "      <th></th>\n",
       "      <th>user_id</th>\n",
       "      <th>time</th>\n",
       "      <th>model_nm</th>\n",
       "      <th>fwver</th>\n",
       "      <th>errtype</th>\n",
       "      <th>errcode</th>\n",
       "    </tr>\n",
       "  </thead>\n",
       "  <tbody>\n",
       "    <tr>\n",
       "      <th>3825744</th>\n",
       "      <td>13639</td>\n",
       "      <td>20201121191718</td>\n",
       "      <td>model_2</td>\n",
       "      <td>04.33.1261</td>\n",
       "      <td>5</td>\n",
       "      <td>NaN</td>\n",
       "    </tr>\n",
       "  </tbody>\n",
       "</table>\n",
       "</div>"
      ],
      "text/plain": [
       "         user_id            time model_nm       fwver  errtype errcode\n",
       "3825744    13639  20201121191718  model_2  04.33.1261        5     NaN"
      ]
     },
     "execution_count": 13,
     "metadata": {},
     "output_type": "execute_result"
    }
   ],
   "source": [
    "train_err[train_err['errcode'].isnull()]"
   ]
  },
  {
   "cell_type": "markdown",
   "metadata": {},
   "source": [
    "* 동일한 유저, 동일한 시간, 동일한 펌웨어버전, 동일한 에러타입의 경우 → <u><b>같은 에러 코드를 가질 확률이 높음</b></u>을 이용 → `결측치 대체`"
   ]
  },
  {
   "cell_type": "code",
   "execution_count": 14,
   "metadata": {},
   "outputs": [
    {
     "name": "stdout",
     "output_type": "stream",
     "text": [
      "동일한 특성을 갖는 Row안에 다른 Err Code가 발생할 확률 : 0.039%\n"
     ]
    }
   ],
   "source": [
    "tre = train_err.iloc[:4000000,:].copy()\n",
    "tre_missing = tre.groupby(['user_id','time','fwver','errtype'])['errcode'].unique().to_frame()\n",
    "tre_missing['errcode'] = tre_missing['errcode'].apply(lambda x : len(x))\n",
    "\n",
    "ltwo = len(tre_missing[tre_missing['errcode'] != 1])\n",
    "lone = len(tre_missing[tre_missing['errcode'] == 1])\n",
    "print(\"동일한 특성을 갖는 Row안에 다른 Err Code가 발생할 확률 : %.3f%%\"%(ltwo/lone * 100))"
   ]
  },
  {
   "cell_type": "code",
   "execution_count": 15,
   "metadata": {},
   "outputs": [
    {
     "data": {
      "text/html": [
       "<div>\n",
       "<style scoped>\n",
       "    .dataframe tbody tr th:only-of-type {\n",
       "        vertical-align: middle;\n",
       "    }\n",
       "\n",
       "    .dataframe tbody tr th {\n",
       "        vertical-align: top;\n",
       "    }\n",
       "\n",
       "    .dataframe thead th {\n",
       "        text-align: right;\n",
       "    }\n",
       "</style>\n",
       "<table border=\"1\" class=\"dataframe\">\n",
       "  <thead>\n",
       "    <tr style=\"text-align: right;\">\n",
       "      <th></th>\n",
       "      <th>user_id</th>\n",
       "      <th>time</th>\n",
       "      <th>model_nm</th>\n",
       "      <th>fwver</th>\n",
       "      <th>errtype</th>\n",
       "      <th>errcode</th>\n",
       "    </tr>\n",
       "  </thead>\n",
       "  <tbody>\n",
       "    <tr>\n",
       "      <th>3825744</th>\n",
       "      <td>13639</td>\n",
       "      <td>20201121191718</td>\n",
       "      <td>model_2</td>\n",
       "      <td>04.33.1261</td>\n",
       "      <td>5</td>\n",
       "      <td>NaN</td>\n",
       "    </tr>\n",
       "    <tr>\n",
       "      <th>3825745</th>\n",
       "      <td>13639</td>\n",
       "      <td>20201121191718</td>\n",
       "      <td>model_2</td>\n",
       "      <td>04.33.1261</td>\n",
       "      <td>5</td>\n",
       "      <td>40013</td>\n",
       "    </tr>\n",
       "  </tbody>\n",
       "</table>\n",
       "</div>"
      ],
      "text/plain": [
       "         user_id            time model_nm       fwver  errtype errcode\n",
       "3825744    13639  20201121191718  model_2  04.33.1261        5     NaN\n",
       "3825745    13639  20201121191718  model_2  04.33.1261        5   40013"
      ]
     },
     "execution_count": 15,
     "metadata": {},
     "output_type": "execute_result"
    }
   ],
   "source": [
    "train_err[(train_err['user_id'] == 13639) & (train_err['fwver'] == '04.33.1261') &\n",
    "          (train_err['errtype'] == 5) & (train_err['time'] == 20201121191718)]"
   ]
  },
  {
   "cell_type": "markdown",
   "metadata": {},
   "source": [
    "* 따라서 동일한 에러 코드로 결측치 교체"
   ]
  },
  {
   "cell_type": "code",
   "execution_count": 16,
   "metadata": {},
   "outputs": [],
   "source": [
    "train_err['errcode'] = train_err['errcode'].fillna('40013')"
   ]
  },
  {
   "cell_type": "markdown",
   "metadata": {},
   "source": [
    "---"
   ]
  },
  {
   "cell_type": "markdown",
   "metadata": {},
   "source": [
    "2. `Train Quality Data` Missing Value  \n",
    "    + Fwver 결측치 존재\n",
    "    + quality_0, quality_2, quality_5 결측치 존재"
   ]
  },
  {
   "cell_type": "code",
   "execution_count": 17,
   "metadata": {},
   "outputs": [
    {
     "data": {
      "text/plain": [
       "time               0\n",
       "user_id            0\n",
       "fwver          40080\n",
       "quality_0     144432\n",
       "quality_1          0\n",
       "quality_2      40113\n",
       "quality_3          0\n",
       "quality_4          0\n",
       "quality_5         20\n",
       "quality_6          0\n",
       "quality_7          0\n",
       "quality_8          0\n",
       "quality_9          0\n",
       "quality_10         0\n",
       "quality_11         0\n",
       "quality_12         0\n",
       "dtype: int64"
      ]
     },
     "execution_count": 17,
     "metadata": {},
     "output_type": "execute_result"
    }
   ],
   "source": [
    "train_qual.isnull().sum()"
   ]
  },
  {
   "cell_type": "markdown",
   "metadata": {},
   "source": [
    "* NaN값을 갖는 경우에는 Quality가 지속적으로 `오랜` 기간동안 측정됨을 알 수 있다\n",
    "* 반대로, NaN값을 갖지 않는 경우에는 상대적으로 적은 기간동안 측정됨을 알 수 있다\n",
    "* 따라서, NaN값을 갖는 경우는 '이상치'에 해당함으로, 해당 결측치는 제거한다."
   ]
  },
  {
   "cell_type": "code",
   "execution_count": 18,
   "metadata": {},
   "outputs": [
    {
     "data": {
      "text/plain": [
       "55.45762711864407"
      ]
     },
     "execution_count": 18,
     "metadata": {},
     "output_type": "execute_result"
    }
   ],
   "source": [
    "# quality가 측정된 기간의 길이 (NaN값의 경우)\n",
    "train_qual[train_qual['fwver'].isnull()].groupby('user_id')['time'].unique().to_frame()['time'].str.len().mean()"
   ]
  },
  {
   "cell_type": "code",
   "execution_count": 19,
   "metadata": {},
   "outputs": [
    {
     "data": {
      "text/plain": [
       "7.9863813229571985"
      ]
     },
     "execution_count": 19,
     "metadata": {},
     "output_type": "execute_result"
    }
   ],
   "source": [
    "train_qual[~train_qual['fwver'].isnull()].groupby('user_id')['time'].unique().to_frame()['time'].str.len().mean()"
   ]
  },
  {
   "cell_type": "code",
   "execution_count": 20,
   "metadata": {},
   "outputs": [],
   "source": [
    "fwms_idx = train_qual[train_qual['fwver'].isnull()].index\n",
    "train_qual = train_qual.drop(fwms_idx)"
   ]
  },
  {
   "cell_type": "markdown",
   "metadata": {},
   "source": [
    "* Quality_0, Quality_2, Quality_5 결측치"
   ]
  },
  {
   "cell_type": "code",
   "execution_count": 21,
   "metadata": {},
   "outputs": [],
   "source": [
    "for i in train_qual.columns[3:]:\n",
    "    train_qual[i] = train_qual[i].fillna(train_qual[i].mode(0)[0])"
   ]
  },
  {
   "cell_type": "markdown",
   "metadata": {},
   "source": [
    "---"
   ]
  },
  {
   "cell_type": "markdown",
   "metadata": {},
   "source": [
    "3. `Test Err Data` Missing Value"
   ]
  },
  {
   "cell_type": "code",
   "execution_count": 22,
   "metadata": {},
   "outputs": [
    {
     "data": {
      "text/plain": [
       "user_id     0\n",
       "time        0\n",
       "model_nm    0\n",
       "fwver       0\n",
       "errtype     0\n",
       "errcode     4\n",
       "dtype: int64"
      ]
     },
     "execution_count": 22,
     "metadata": {},
     "output_type": "execute_result"
    }
   ],
   "source": [
    "test_err.isnull().sum()"
   ]
  },
  {
   "cell_type": "code",
   "execution_count": 23,
   "metadata": {},
   "outputs": [
    {
     "data": {
      "text/html": [
       "<div>\n",
       "<style scoped>\n",
       "    .dataframe tbody tr th:only-of-type {\n",
       "        vertical-align: middle;\n",
       "    }\n",
       "\n",
       "    .dataframe tbody tr th {\n",
       "        vertical-align: top;\n",
       "    }\n",
       "\n",
       "    .dataframe thead th {\n",
       "        text-align: right;\n",
       "    }\n",
       "</style>\n",
       "<table border=\"1\" class=\"dataframe\">\n",
       "  <thead>\n",
       "    <tr style=\"text-align: right;\">\n",
       "      <th></th>\n",
       "      <th>user_id</th>\n",
       "      <th>time</th>\n",
       "      <th>model_nm</th>\n",
       "      <th>fwver</th>\n",
       "      <th>errtype</th>\n",
       "      <th>errcode</th>\n",
       "    </tr>\n",
       "  </thead>\n",
       "  <tbody>\n",
       "    <tr>\n",
       "      <th>937967</th>\n",
       "      <td>30820</td>\n",
       "      <td>20201115044317</td>\n",
       "      <td>model_2</td>\n",
       "      <td>04.33.1261</td>\n",
       "      <td>5</td>\n",
       "      <td>NaN</td>\n",
       "    </tr>\n",
       "    <tr>\n",
       "      <th>4038892</th>\n",
       "      <td>33681</td>\n",
       "      <td>20201103110259</td>\n",
       "      <td>model_2</td>\n",
       "      <td>04.33.1185</td>\n",
       "      <td>5</td>\n",
       "      <td>NaN</td>\n",
       "    </tr>\n",
       "    <tr>\n",
       "      <th>9486881</th>\n",
       "      <td>38991</td>\n",
       "      <td>20201127213838</td>\n",
       "      <td>model_2</td>\n",
       "      <td>04.33.1261</td>\n",
       "      <td>5</td>\n",
       "      <td>NaN</td>\n",
       "    </tr>\n",
       "    <tr>\n",
       "      <th>10425473</th>\n",
       "      <td>39894</td>\n",
       "      <td>20201128144712</td>\n",
       "      <td>model_1</td>\n",
       "      <td>04.16.3553</td>\n",
       "      <td>5</td>\n",
       "      <td>NaN</td>\n",
       "    </tr>\n",
       "  </tbody>\n",
       "</table>\n",
       "</div>"
      ],
      "text/plain": [
       "          user_id            time model_nm       fwver  errtype errcode\n",
       "937967      30820  20201115044317  model_2  04.33.1261        5     NaN\n",
       "4038892     33681  20201103110259  model_2  04.33.1185        5     NaN\n",
       "9486881     38991  20201127213838  model_2  04.33.1261        5     NaN\n",
       "10425473    39894  20201128144712  model_1  04.16.3553        5     NaN"
      ]
     },
     "execution_count": 23,
     "metadata": {},
     "output_type": "execute_result"
    }
   ],
   "source": [
    "test_err[test_err['errcode'].isnull()]"
   ]
  },
  {
   "cell_type": "markdown",
   "metadata": {},
   "source": [
    "* 동일한 유저, 동일한 시간, 동일한 펌웨어버전, 동일한 에러 타입의 경우 → <u><b>같은 에러 코드를 가질 확률이 높음</b></u>을 이용"
   ]
  },
  {
   "cell_type": "code",
   "execution_count": 24,
   "metadata": {},
   "outputs": [
    {
     "name": "stdout",
     "output_type": "stream",
     "text": [
      "동일한 특성을 갖는 Row안에 다른 Err Code가 발생할 확률 : 0.054%\n"
     ]
    }
   ],
   "source": [
    "te = test_err.iloc[:4000000,:].copy()\n",
    "te_missing = te.groupby(['user_id','time','fwver','errtype'])['errcode'].unique().to_frame()\n",
    "te_missing['errcode'] = te_missing['errcode'].apply(lambda x : len(x))\n",
    "\n",
    "ltwo = len(te_missing[te_missing['errcode'] != 1])\n",
    "lone = len(te_missing[te_missing['errcode'] == 1])\n",
    "print(\"동일한 특성을 갖는 Row안에 다른 Err Code가 발생할 확률 : %.3f%%\"%(ltwo/lone * 100))"
   ]
  },
  {
   "cell_type": "markdown",
   "metadata": {},
   "source": [
    "* 따라서 동일한 에러 코드로 결측치 교체"
   ]
  },
  {
   "cell_type": "code",
   "execution_count": 25,
   "metadata": {},
   "outputs": [],
   "source": [
    "test_err.iloc[937967,5] = '40053'"
   ]
  },
  {
   "cell_type": "code",
   "execution_count": 26,
   "metadata": {},
   "outputs": [],
   "source": [
    "test_err.iloc[4038892,5] = '40053'"
   ]
  },
  {
   "cell_type": "code",
   "execution_count": 27,
   "metadata": {
    "scrolled": true
   },
   "outputs": [],
   "source": [
    "test_err.iloc[9486881,5] = '40053'"
   ]
  },
  {
   "cell_type": "code",
   "execution_count": 28,
   "metadata": {},
   "outputs": [],
   "source": [
    "test_err.iloc[10425473,5] = '-1010'"
   ]
  },
  {
   "cell_type": "markdown",
   "metadata": {},
   "source": [
    "* Train Err User는 15000명, Test Err User는 14999명  \n",
    "    + 임의의 유저 1명 추가 (최빈값 대체)"
   ]
  },
  {
   "cell_type": "code",
   "execution_count": 29,
   "metadata": {},
   "outputs": [],
   "source": [
    "missing_value = pd.Series([43262, train_err.time.mode()[0], train_err.model_nm.mode()[0],\n",
    "                           train_err.fwver.mode()[0], train_err.errtype.mode()[0],\n",
    "                           train_err.errcode.mode()[0]], index = test_err.columns)"
   ]
  },
  {
   "cell_type": "code",
   "execution_count": 30,
   "metadata": {},
   "outputs": [],
   "source": [
    "test_err = test_err.append(missing_value, ignore_index = True)"
   ]
  },
  {
   "cell_type": "markdown",
   "metadata": {},
   "source": [
    "---"
   ]
  },
  {
   "cell_type": "markdown",
   "metadata": {},
   "source": [
    "4. `Test Quality Data` Missing Value  \n",
    "    + Fwver 결측치 존재\n",
    "    + quality_0, quality_1, quality_2, quality_5 결측치 존재"
   ]
  },
  {
   "cell_type": "code",
   "execution_count": 31,
   "metadata": {},
   "outputs": [
    {
     "data": {
      "text/plain": [
       "time               0\n",
       "user_id            0\n",
       "fwver          22764\n",
       "quality_0     106584\n",
       "quality_1         11\n",
       "quality_2      21115\n",
       "quality_3          0\n",
       "quality_4          0\n",
       "quality_5         44\n",
       "quality_6          0\n",
       "quality_7          0\n",
       "quality_8          0\n",
       "quality_9          0\n",
       "quality_10         0\n",
       "quality_11         0\n",
       "quality_12         0\n",
       "dtype: int64"
      ]
     },
     "execution_count": 31,
     "metadata": {},
     "output_type": "execute_result"
    }
   ],
   "source": [
    "test_qual.isnull().sum()"
   ]
  },
  {
   "cell_type": "markdown",
   "metadata": {},
   "source": [
    "* NaN값을 갖는 경우에는 Quality가 지속적으로 `오랜` 기간동안 측정됨을 알 수 있다\n",
    "* 반대로, NaN값을 갖지 않는 경우에는 상대적으로 적은 기간동안 측정됨을 알 수 있다\n",
    "* 따라서, NaN값을 갖는 경우는 '이상치'에 해당함으로, 해당 결측치는 제거한다."
   ]
  },
  {
   "cell_type": "code",
   "execution_count": 32,
   "metadata": {},
   "outputs": [
    {
     "data": {
      "text/plain": [
       "36.627450980392155"
      ]
     },
     "execution_count": 32,
     "metadata": {},
     "output_type": "execute_result"
    }
   ],
   "source": [
    "# quality가 측정된 기간의 길이 (NaN값의 경우)\n",
    "test_qual[test_qual['fwver'].isnull()].groupby('user_id')['time'].unique().to_frame()['time'].str.len().mean()"
   ]
  },
  {
   "cell_type": "code",
   "execution_count": 33,
   "metadata": {},
   "outputs": [
    {
     "data": {
      "text/plain": [
       "7.348095875410634"
      ]
     },
     "execution_count": 33,
     "metadata": {},
     "output_type": "execute_result"
    }
   ],
   "source": [
    "test_qual[~test_qual['fwver'].isnull()].groupby('user_id')['time'].unique().to_frame()['time'].str.len().mean()"
   ]
  },
  {
   "cell_type": "code",
   "execution_count": 34,
   "metadata": {},
   "outputs": [],
   "source": [
    "fwms_idx = test_qual[test_qual['fwver'].isnull()].index\n",
    "test_qual = test_qual.drop(fwms_idx)"
   ]
  },
  {
   "cell_type": "markdown",
   "metadata": {},
   "source": [
    "* Qaulity_0, Quality_1, Quality_2, Quality_5 결측치"
   ]
  },
  {
   "cell_type": "code",
   "execution_count": 35,
   "metadata": {},
   "outputs": [],
   "source": [
    "for i in test_qual.columns[3:]:\n",
    "    test_qual[i] = test_qual[i].fillna(test_qual[i].mode(0)[0])"
   ]
  },
  {
   "cell_type": "markdown",
   "metadata": {},
   "source": [
    "* 결측치 제대로 제거(또는 대체)되었는지 확인"
   ]
  },
  {
   "cell_type": "code",
   "execution_count": 36,
   "metadata": {},
   "outputs": [
    {
     "name": "stdout",
     "output_type": "stream",
     "text": [
      "0, 0, 0, 0\n"
     ]
    }
   ],
   "source": [
    "print(train_err.isnull().sum().sum(), end=\", \")\n",
    "print(test_err.isnull().sum().sum(), end=\", \")\n",
    "print(train_qual.isnull().sum().sum(), end=\", \")\n",
    "print(test_qual.isnull().sum().sum())"
   ]
  },
  {
   "cell_type": "markdown",
   "metadata": {},
   "source": [
    "---"
   ]
  },
  {
   "cell_type": "markdown",
   "metadata": {},
   "source": [
    "## 3-3. 데이터 기본 전처리"
   ]
  },
  {
   "cell_type": "markdown",
   "metadata": {},
   "source": [
    "1. <b>`변수 타입`</b> 통일"
   ]
  },
  {
   "cell_type": "markdown",
   "metadata": {},
   "source": [
    "* `time` 변수의 타입을 <b>`int`</b>에서 <b>`datetime`</b>으로 변경"
   ]
  },
  {
   "cell_type": "code",
   "execution_count": 37,
   "metadata": {},
   "outputs": [],
   "source": [
    "# time 변수 타입 변경 이전 데이터 저장\n",
    "train_err.to_csv(save_path + \"train_err_data.csv\", index=False)\n",
    "train_qual.to_csv(save_path + \"train_quality_data.csv\", index=False)\n",
    "train_prob.to_csv(save_path + \"train_problem_data.csv\", index=False)\n",
    "\n",
    "test_err.to_csv(save_path + \"test_err_data.csv\", index=False)\n",
    "test_qual.to_csv(save_path + \"test_quality_data.csv\", index=False)"
   ]
  },
  {
   "cell_type": "code",
   "execution_count": 38,
   "metadata": {},
   "outputs": [],
   "source": [
    "def make_datetime(x): # datetime 데이터로 변환\n",
    "        x = str(x)\n",
    "        year  = int(x[:4])\n",
    "        month = int(x[4:6])\n",
    "        day   = int(x[6:8])\n",
    "        hour  = int(x[8:10])\n",
    "        minute  = int(x[10:12])\n",
    "        sec  = int(x[12:])\n",
    "        return dt.datetime(year, month, day, hour, minute, sec)"
   ]
  },
  {
   "cell_type": "code",
   "execution_count": 39,
   "metadata": {
    "ExecuteTime": {
     "end_time": "2021-02-04T16:35:57.731551Z",
     "start_time": "2021-02-04T16:35:27.773414Z"
    }
   },
   "outputs": [],
   "source": [
    "train_err.time = train_err.time.apply(lambda x : make_datetime(x))"
   ]
  },
  {
   "cell_type": "code",
   "execution_count": 40,
   "metadata": {},
   "outputs": [],
   "source": [
    "train_qual = train_qual.sort_values(['user_id','time']).reset_index(drop=True)\n",
    "train_qual.time = train_qual.time.apply(lambda x : make_datetime(x))"
   ]
  },
  {
   "cell_type": "code",
   "execution_count": 41,
   "metadata": {},
   "outputs": [],
   "source": [
    "train_prob = train_prob.sort_values(['user_id','time']).reset_index(drop=True)\n",
    "train_prob.time = train_prob.time.apply(lambda x : make_datetime(x))"
   ]
  },
  {
   "cell_type": "code",
   "execution_count": 42,
   "metadata": {
    "ExecuteTime": {
     "end_time": "2021-02-04T16:36:33.292124Z",
     "start_time": "2021-02-04T16:35:59.069749Z"
    }
   },
   "outputs": [],
   "source": [
    "test_err.time = test_err.time.apply(lambda x : make_datetime(x))"
   ]
  },
  {
   "cell_type": "code",
   "execution_count": 43,
   "metadata": {
    "ExecuteTime": {
     "start_time": "2021-02-04T16:35:28.739Z"
    }
   },
   "outputs": [],
   "source": [
    "test_qual.time = test_qual.time.apply(lambda x : make_datetime(x))"
   ]
  },
  {
   "cell_type": "code",
   "execution_count": 44,
   "metadata": {},
   "outputs": [
    {
     "data": {
      "text/html": [
       "<div>\n",
       "<style scoped>\n",
       "    .dataframe tbody tr th:only-of-type {\n",
       "        vertical-align: middle;\n",
       "    }\n",
       "\n",
       "    .dataframe tbody tr th {\n",
       "        vertical-align: top;\n",
       "    }\n",
       "\n",
       "    .dataframe thead th {\n",
       "        text-align: right;\n",
       "    }\n",
       "</style>\n",
       "<table border=\"1\" class=\"dataframe\">\n",
       "  <thead>\n",
       "    <tr style=\"text-align: right;\">\n",
       "      <th></th>\n",
       "      <th>time</th>\n",
       "      <th>user_id</th>\n",
       "      <th>fwver</th>\n",
       "      <th>quality_0</th>\n",
       "      <th>quality_1</th>\n",
       "      <th>quality_2</th>\n",
       "      <th>quality_3</th>\n",
       "      <th>quality_4</th>\n",
       "      <th>quality_5</th>\n",
       "      <th>quality_6</th>\n",
       "      <th>quality_7</th>\n",
       "      <th>quality_8</th>\n",
       "      <th>quality_9</th>\n",
       "      <th>quality_10</th>\n",
       "      <th>quality_11</th>\n",
       "      <th>quality_12</th>\n",
       "    </tr>\n",
       "  </thead>\n",
       "  <tbody>\n",
       "    <tr>\n",
       "      <th>0</th>\n",
       "      <td>2020-11-29 09:00:00</td>\n",
       "      <td>10000</td>\n",
       "      <td>05.15.2138</td>\n",
       "      <td>0.00000</td>\n",
       "      <td>0</td>\n",
       "      <td>0.00000</td>\n",
       "      <td>0</td>\n",
       "      <td>0</td>\n",
       "      <td>0</td>\n",
       "      <td>0</td>\n",
       "      <td>0</td>\n",
       "      <td>0</td>\n",
       "      <td>0</td>\n",
       "      <td>4</td>\n",
       "      <td>0</td>\n",
       "      <td>0</td>\n",
       "    </tr>\n",
       "    <tr>\n",
       "      <th>1</th>\n",
       "      <td>2020-11-29 09:00:00</td>\n",
       "      <td>10000</td>\n",
       "      <td>05.15.2138</td>\n",
       "      <td>0.00000</td>\n",
       "      <td>0</td>\n",
       "      <td>0.00000</td>\n",
       "      <td>0</td>\n",
       "      <td>0</td>\n",
       "      <td>0</td>\n",
       "      <td>0</td>\n",
       "      <td>0</td>\n",
       "      <td>0</td>\n",
       "      <td>0</td>\n",
       "      <td>4</td>\n",
       "      <td>0</td>\n",
       "      <td>0</td>\n",
       "    </tr>\n",
       "    <tr>\n",
       "      <th>2</th>\n",
       "      <td>2020-11-29 09:00:00</td>\n",
       "      <td>10000</td>\n",
       "      <td>05.15.2138</td>\n",
       "      <td>0.00000</td>\n",
       "      <td>0</td>\n",
       "      <td>0.00000</td>\n",
       "      <td>0</td>\n",
       "      <td>0</td>\n",
       "      <td>0</td>\n",
       "      <td>0</td>\n",
       "      <td>0</td>\n",
       "      <td>0</td>\n",
       "      <td>0</td>\n",
       "      <td>4</td>\n",
       "      <td>0</td>\n",
       "      <td>0</td>\n",
       "    </tr>\n",
       "    <tr>\n",
       "      <th>3</th>\n",
       "      <td>2020-11-29 09:00:00</td>\n",
       "      <td>10000</td>\n",
       "      <td>05.15.2138</td>\n",
       "      <td>0.00000</td>\n",
       "      <td>0</td>\n",
       "      <td>0.00000</td>\n",
       "      <td>0</td>\n",
       "      <td>0</td>\n",
       "      <td>0</td>\n",
       "      <td>0</td>\n",
       "      <td>0</td>\n",
       "      <td>0</td>\n",
       "      <td>0</td>\n",
       "      <td>4</td>\n",
       "      <td>0</td>\n",
       "      <td>0</td>\n",
       "    </tr>\n",
       "    <tr>\n",
       "      <th>4</th>\n",
       "      <td>2020-11-29 09:00:00</td>\n",
       "      <td>10000</td>\n",
       "      <td>05.15.2138</td>\n",
       "      <td>0.00000</td>\n",
       "      <td>0</td>\n",
       "      <td>0.00000</td>\n",
       "      <td>0</td>\n",
       "      <td>0</td>\n",
       "      <td>0</td>\n",
       "      <td>0</td>\n",
       "      <td>0</td>\n",
       "      <td>0</td>\n",
       "      <td>0</td>\n",
       "      <td>4</td>\n",
       "      <td>0</td>\n",
       "      <td>0</td>\n",
       "    </tr>\n",
       "    <tr>\n",
       "      <th>...</th>\n",
       "      <td>...</td>\n",
       "      <td>...</td>\n",
       "      <td>...</td>\n",
       "      <td>...</td>\n",
       "      <td>...</td>\n",
       "      <td>...</td>\n",
       "      <td>...</td>\n",
       "      <td>...</td>\n",
       "      <td>...</td>\n",
       "      <td>...</td>\n",
       "      <td>...</td>\n",
       "      <td>...</td>\n",
       "      <td>...</td>\n",
       "      <td>...</td>\n",
       "      <td>...</td>\n",
       "      <td>...</td>\n",
       "    </tr>\n",
       "    <tr>\n",
       "      <th>788539</th>\n",
       "      <td>2020-11-24 03:30:00</td>\n",
       "      <td>24997</td>\n",
       "      <td>04.22.1778</td>\n",
       "      <td>0.00000</td>\n",
       "      <td>0</td>\n",
       "      <td>0.00000</td>\n",
       "      <td>0</td>\n",
       "      <td>0</td>\n",
       "      <td>1</td>\n",
       "      <td>0</td>\n",
       "      <td>0</td>\n",
       "      <td>0</td>\n",
       "      <td>0</td>\n",
       "      <td>17</td>\n",
       "      <td>0</td>\n",
       "      <td>0</td>\n",
       "    </tr>\n",
       "    <tr>\n",
       "      <th>788540</th>\n",
       "      <td>2020-11-24 03:30:00</td>\n",
       "      <td>24997</td>\n",
       "      <td>04.22.1778</td>\n",
       "      <td>0.00000</td>\n",
       "      <td>0</td>\n",
       "      <td>0.00000</td>\n",
       "      <td>0</td>\n",
       "      <td>0</td>\n",
       "      <td>0</td>\n",
       "      <td>0</td>\n",
       "      <td>0</td>\n",
       "      <td>0</td>\n",
       "      <td>0</td>\n",
       "      <td>17</td>\n",
       "      <td>0</td>\n",
       "      <td>0</td>\n",
       "    </tr>\n",
       "    <tr>\n",
       "      <th>788541</th>\n",
       "      <td>2020-11-24 03:30:00</td>\n",
       "      <td>24997</td>\n",
       "      <td>04.22.1778</td>\n",
       "      <td>0.00000</td>\n",
       "      <td>0</td>\n",
       "      <td>0.00000</td>\n",
       "      <td>0</td>\n",
       "      <td>0</td>\n",
       "      <td>3</td>\n",
       "      <td>0</td>\n",
       "      <td>0</td>\n",
       "      <td>0</td>\n",
       "      <td>0</td>\n",
       "      <td>17</td>\n",
       "      <td>0</td>\n",
       "      <td>0</td>\n",
       "    </tr>\n",
       "    <tr>\n",
       "      <th>788542</th>\n",
       "      <td>2020-11-24 03:30:00</td>\n",
       "      <td>24997</td>\n",
       "      <td>04.22.1778</td>\n",
       "      <td>0.00000</td>\n",
       "      <td>0</td>\n",
       "      <td>0.00000</td>\n",
       "      <td>0</td>\n",
       "      <td>0</td>\n",
       "      <td>0</td>\n",
       "      <td>0</td>\n",
       "      <td>0</td>\n",
       "      <td>0</td>\n",
       "      <td>0</td>\n",
       "      <td>17</td>\n",
       "      <td>0</td>\n",
       "      <td>0</td>\n",
       "    </tr>\n",
       "    <tr>\n",
       "      <th>788543</th>\n",
       "      <td>2020-11-24 03:30:00</td>\n",
       "      <td>24997</td>\n",
       "      <td>04.22.1778</td>\n",
       "      <td>0.00000</td>\n",
       "      <td>0</td>\n",
       "      <td>0.00000</td>\n",
       "      <td>0</td>\n",
       "      <td>0</td>\n",
       "      <td>9</td>\n",
       "      <td>0</td>\n",
       "      <td>0</td>\n",
       "      <td>0</td>\n",
       "      <td>0</td>\n",
       "      <td>17</td>\n",
       "      <td>0</td>\n",
       "      <td>0</td>\n",
       "    </tr>\n",
       "  </tbody>\n",
       "</table>\n",
       "<p>788544 rows × 16 columns</p>\n",
       "</div>"
      ],
      "text/plain": [
       "                      time  user_id       fwver  quality_0  quality_1  \\\n",
       "0      2020-11-29 09:00:00    10000  05.15.2138    0.00000          0   \n",
       "1      2020-11-29 09:00:00    10000  05.15.2138    0.00000          0   \n",
       "2      2020-11-29 09:00:00    10000  05.15.2138    0.00000          0   \n",
       "3      2020-11-29 09:00:00    10000  05.15.2138    0.00000          0   \n",
       "4      2020-11-29 09:00:00    10000  05.15.2138    0.00000          0   \n",
       "...                    ...      ...         ...        ...        ...   \n",
       "788539 2020-11-24 03:30:00    24997  04.22.1778    0.00000          0   \n",
       "788540 2020-11-24 03:30:00    24997  04.22.1778    0.00000          0   \n",
       "788541 2020-11-24 03:30:00    24997  04.22.1778    0.00000          0   \n",
       "788542 2020-11-24 03:30:00    24997  04.22.1778    0.00000          0   \n",
       "788543 2020-11-24 03:30:00    24997  04.22.1778    0.00000          0   \n",
       "\n",
       "        quality_2  quality_3  quality_4 quality_5  quality_6 quality_7  \\\n",
       "0         0.00000          0          0         0          0         0   \n",
       "1         0.00000          0          0         0          0         0   \n",
       "2         0.00000          0          0         0          0         0   \n",
       "3         0.00000          0          0         0          0         0   \n",
       "4         0.00000          0          0         0          0         0   \n",
       "...           ...        ...        ...       ...        ...       ...   \n",
       "788539    0.00000          0          0         1          0         0   \n",
       "788540    0.00000          0          0         0          0         0   \n",
       "788541    0.00000          0          0         3          0         0   \n",
       "788542    0.00000          0          0         0          0         0   \n",
       "788543    0.00000          0          0         9          0         0   \n",
       "\n",
       "       quality_8 quality_9 quality_10  quality_11  quality_12  \n",
       "0              0         0          4           0           0  \n",
       "1              0         0          4           0           0  \n",
       "2              0         0          4           0           0  \n",
       "3              0         0          4           0           0  \n",
       "4              0         0          4           0           0  \n",
       "...          ...       ...        ...         ...         ...  \n",
       "788539         0         0         17           0           0  \n",
       "788540         0         0         17           0           0  \n",
       "788541         0         0         17           0           0  \n",
       "788542         0         0         17           0           0  \n",
       "788543         0         0         17           0           0  \n",
       "\n",
       "[788544 rows x 16 columns]"
      ]
     },
     "execution_count": 44,
     "metadata": {},
     "output_type": "execute_result"
    }
   ],
   "source": [
    "train_qual"
   ]
  },
  {
   "cell_type": "markdown",
   "metadata": {},
   "source": [
    "* quality 변수의 타입을 <b>`object(또는 float)`</b>에서 <b>`int`</b>로 변경"
   ]
  },
  {
   "cell_type": "code",
   "execution_count": 45,
   "metadata": {
    "ExecuteTime": {
     "end_time": "2021-02-04T16:34:17.439542Z",
     "start_time": "2021-02-04T16:34:17.427171Z"
    }
   },
   "outputs": [],
   "source": [
    "def str2int(x):\n",
    "    if type(x) == str:\n",
    "        x = x.replace(\",\",\"\")\n",
    "        x = int(x)\n",
    "        return x\n",
    "    else:\n",
    "        x = int(x)\n",
    "        return x"
   ]
  },
  {
   "cell_type": "code",
   "execution_count": 46,
   "metadata": {
    "ExecuteTime": {
     "end_time": "2021-02-04T16:35:24.826700Z",
     "start_time": "2021-02-04T16:35:04.434403Z"
    }
   },
   "outputs": [],
   "source": [
    "for i in train_qual.columns[3:]:\n",
    "    train_qual[i] = train_qual[i].apply(lambda x : str2int(x))"
   ]
  },
  {
   "cell_type": "code",
   "execution_count": 47,
   "metadata": {},
   "outputs": [],
   "source": [
    "for i in test_qual.columns[3:]:\n",
    "    test_qual[i] = test_qual[i].apply(lambda x : str2int(x))"
   ]
  },
  {
   "cell_type": "markdown",
   "metadata": {},
   "source": [
    "---"
   ]
  },
  {
   "cell_type": "markdown",
   "metadata": {},
   "source": [
    "## 3-4. 이상치 확인"
   ]
  },
  {
   "cell_type": "markdown",
   "metadata": {},
   "source": [
    "###### 1. Fwver의 이상치 확인"
   ]
  },
  {
   "cell_type": "markdown",
   "metadata": {},
   "source": [
    "* 펌웨어 버전의 운용 기간이 <u><b>비정상적으로 짧은 것</b></u>들이 존재하였음  \n",
    "&nbsp;→&nbsp; 해당 펌웨어 버전을 사용한 유저는 펌웨어 버전당 `한 명`뿐이었음  \n",
    "&nbsp;→&nbsp; 따라서, 이러한 버전을 사용한 유저는 `이상치`에 속한다고 보고 데이터를 확인하였음"
   ]
  },
  {
   "cell_type": "code",
   "execution_count": 48,
   "metadata": {},
   "outputs": [],
   "source": [
    "temp = train_err[['time','fwver']].groupby(\"fwver\").time.unique()\n",
    "df = pd.DataFrame(columns = ['fwver','start','end'])\n",
    "for i in range(len(temp)):\n",
    "    temp.values[i].sort()\n",
    "    df=df.append(pd.Series([temp.index[i], temp.values[i][0], temp.values[i][-1]], index=df.columns),\n",
    "                 ignore_index = True)"
   ]
  },
  {
   "cell_type": "code",
   "execution_count": 49,
   "metadata": {},
   "outputs": [],
   "source": [
    "def find_abnormal(x): # x는 살펴볼 기간 차이\n",
    "    for fwver, st, ed in tqdm(df.values):\n",
    "        if((ed - st).days < x):\n",
    "            user = train_err[train_err['fwver'] == fwver].user_id.unique()\n",
    "            print(\"fwver : {}, per_num : {}, period : {}, id : {}\".format(fwver,len(user),(ed-st).days,user))"
   ]
  },
  {
   "cell_type": "code",
   "execution_count": 50,
   "metadata": {},
   "outputs": [
    {
     "name": "stderr",
     "output_type": "stream",
     "text": [
      " 30%|██▉       | 11/37 [00:00<00:01, 14.16it/s]"
     ]
    },
    {
     "name": "stdout",
     "output_type": "stream",
     "text": [
      "fwver : 04.22.1656, per_num : 1, period : 0, id : [19831]\n"
     ]
    },
    {
     "name": "stderr",
     "output_type": "stream",
     "text": [
      "\r",
      " 73%|███████▎  | 27/37 [00:01<00:00, 18.15it/s]"
     ]
    },
    {
     "name": "stdout",
     "output_type": "stream",
     "text": [
      "fwver : 05.15.2090, per_num : 1, period : 0, id : [18142]\n"
     ]
    },
    {
     "name": "stderr",
     "output_type": "stream",
     "text": [
      "100%|██████████| 37/37 [00:02<00:00, 16.10it/s]"
     ]
    },
    {
     "name": "stdout",
     "output_type": "stream",
     "text": [
      "fwver : 05.15.2092, per_num : 1, period : 0, id : [24279]\n"
     ]
    },
    {
     "name": "stderr",
     "output_type": "stream",
     "text": [
      "\n"
     ]
    }
   ],
   "source": [
    "find_abnormal(3) # fwver : 펌웨어 버전 # per_num : 사용한 유저의 수 # id : 사용한 유저의 id"
   ]
  },
  {
   "cell_type": "markdown",
   "metadata": {},
   "source": [
    "* 18142번 유저는 약 3분동안 혼자 05.15.2090 버전을 사용하였음 → 퀄리티값에 이상이 없음, 에러 로그 존재함 → 불만 제기 안함\n",
    "* 19831번 유저는 하루~이틀동안 혼자 04.22.1656 버전을 사용하였음 → 퀄리티값에 이상이 있음, 에러 로그 존재함 → 불만 제기함\n",
    "* 24279번 유저는 약 18분동안 혼자 05.15.2092 버전을 사용하였음 → 퀄리티값에 이상이 없음, 에러 로그 존재함 → 불만 제기함"
   ]
  },
  {
   "cell_type": "code",
   "execution_count": 51,
   "metadata": {
    "scrolled": false
   },
   "outputs": [
    {
     "data": {
      "text/html": [
       "<div>\n",
       "<style scoped>\n",
       "    .dataframe tbody tr th:only-of-type {\n",
       "        vertical-align: middle;\n",
       "    }\n",
       "\n",
       "    .dataframe tbody tr th {\n",
       "        vertical-align: top;\n",
       "    }\n",
       "\n",
       "    .dataframe thead th {\n",
       "        text-align: right;\n",
       "    }\n",
       "</style>\n",
       "<table border=\"1\" class=\"dataframe\">\n",
       "  <thead>\n",
       "    <tr style=\"text-align: right;\">\n",
       "      <th></th>\n",
       "      <th>user_id</th>\n",
       "      <th>time</th>\n",
       "    </tr>\n",
       "  </thead>\n",
       "  <tbody>\n",
       "    <tr>\n",
       "      <th>3499</th>\n",
       "      <td>19831</td>\n",
       "      <td>2020-11-23 11:00:00</td>\n",
       "    </tr>\n",
       "    <tr>\n",
       "      <th>5180</th>\n",
       "      <td>24279</td>\n",
       "      <td>2020-11-13 11:00:00</td>\n",
       "    </tr>\n",
       "  </tbody>\n",
       "</table>\n",
       "</div>"
      ],
      "text/plain": [
       "      user_id                time\n",
       "3499    19831 2020-11-23 11:00:00\n",
       "5180    24279 2020-11-13 11:00:00"
      ]
     },
     "metadata": {},
     "output_type": "display_data"
    }
   ],
   "source": [
    "abnormal_lst = [18142, 19831, 24279]\n",
    "display(train_prob[train_prob['user_id'].isin(abnormal_lst)]) # 해당 유저들이 불만을 제기했는지 확인\n",
    "# display(train_qual[train_qual['user_id'].isin(abnormal_lst)]) # 해당 유저들의 quality값에 이상이 있는지 확인\n",
    "# display(train_err[train_err['user_id'].isin(abnormal_lst)][:50]) # 해당 유저의 Err Data 확인"
   ]
  },
  {
   "cell_type": "markdown",
   "metadata": {},
   "source": [
    "그러므로 <b>24279번 유저는</b> 이상치라고 생각할 수 있다.<br>\n",
    "<span style=\"color:gray\">(이는 추후 분석을 통해 더욱 이상치로 볼 수 있음을 확인할 수 있다, 따라서 추후 분석 이전 단계에서는 제거하지 않는다.)</span>"
   ]
  },
  {
   "cell_type": "markdown",
   "metadata": {},
   "source": [
    "---"
   ]
  },
  {
   "cell_type": "markdown",
   "metadata": {},
   "source": [
    "###### 2. Err Log 이상치 확인"
   ]
  },
  {
   "cell_type": "markdown",
   "metadata": {},
   "source": [
    "* 에러 로그양이 적음에도 불구하고, 불만을 제기한 사람들이 존재함"
   ]
  },
  {
   "cell_type": "code",
   "execution_count": 52,
   "metadata": {},
   "outputs": [
    {
     "name": "stdout",
     "output_type": "stream",
     "text": [
      "5\n",
      "[12623, 16980, 20271, 20300, 21040]\n"
     ]
    }
   ],
   "source": [
    "log_lst = list(train_err.groupby('user_id')['errtype'].count().to_frame().\\\n",
    "               sort_values(by='errtype').reset_index().user_id.unique())[:100] # 에러 로그양이 가장 적은 유저 100명\n",
    "\n",
    "print(len(train_prob[train_prob['user_id'].isin(log_lst)])) # 에러 로그양이 적은 유저 100명중, 불만을 제기한 유저의 수\n",
    "print(list(train_prob[train_prob['user_id'].isin(log_lst)].user_id.unique())) # 에러 로그양이 적은 유저 100명 리스트"
   ]
  },
  {
   "cell_type": "markdown",
   "metadata": {},
   "source": [
    "* 해당 사람들의 Err Data & Quality Data를 살펴봄"
   ]
  },
  {
   "cell_type": "code",
   "execution_count": 53,
   "metadata": {},
   "outputs": [
    {
     "data": {
      "text/html": [
       "<div>\n",
       "<style scoped>\n",
       "    .dataframe tbody tr th:only-of-type {\n",
       "        vertical-align: middle;\n",
       "    }\n",
       "\n",
       "    .dataframe tbody tr th {\n",
       "        vertical-align: top;\n",
       "    }\n",
       "\n",
       "    .dataframe thead th {\n",
       "        text-align: right;\n",
       "    }\n",
       "</style>\n",
       "<table border=\"1\" class=\"dataframe\">\n",
       "  <thead>\n",
       "    <tr style=\"text-align: right;\">\n",
       "      <th></th>\n",
       "      <th>user_id</th>\n",
       "      <th>time</th>\n",
       "      <th>model_nm</th>\n",
       "      <th>fwver</th>\n",
       "      <th>errtype</th>\n",
       "      <th>errcode</th>\n",
       "    </tr>\n",
       "  </thead>\n",
       "  <tbody>\n",
       "    <tr>\n",
       "      <th>7787926</th>\n",
       "      <td>16980</td>\n",
       "      <td>2020-11-17 22:44:56</td>\n",
       "      <td>model_6</td>\n",
       "      <td>10</td>\n",
       "      <td>5</td>\n",
       "      <td>S-61001</td>\n",
       "    </tr>\n",
       "    <tr>\n",
       "      <th>7787927</th>\n",
       "      <td>16980</td>\n",
       "      <td>2020-11-17 22:44:59</td>\n",
       "      <td>model_6</td>\n",
       "      <td>10</td>\n",
       "      <td>5</td>\n",
       "      <td>S-61001</td>\n",
       "    </tr>\n",
       "  </tbody>\n",
       "</table>\n",
       "</div>"
      ],
      "text/plain": [
       "         user_id                time model_nm fwver  errtype  errcode\n",
       "7787926    16980 2020-11-17 22:44:56  model_6    10        5  S-61001\n",
       "7787927    16980 2020-11-17 22:44:59  model_6    10        5  S-61001"
      ]
     },
     "metadata": {},
     "output_type": "display_data"
    },
    {
     "data": {
      "text/html": [
       "<div>\n",
       "<style scoped>\n",
       "    .dataframe tbody tr th:only-of-type {\n",
       "        vertical-align: middle;\n",
       "    }\n",
       "\n",
       "    .dataframe tbody tr th {\n",
       "        vertical-align: top;\n",
       "    }\n",
       "\n",
       "    .dataframe thead th {\n",
       "        text-align: right;\n",
       "    }\n",
       "</style>\n",
       "<table border=\"1\" class=\"dataframe\">\n",
       "  <thead>\n",
       "    <tr style=\"text-align: right;\">\n",
       "      <th></th>\n",
       "      <th>time</th>\n",
       "      <th>user_id</th>\n",
       "      <th>fwver</th>\n",
       "      <th>quality_0</th>\n",
       "      <th>quality_1</th>\n",
       "      <th>quality_2</th>\n",
       "      <th>quality_3</th>\n",
       "      <th>quality_4</th>\n",
       "      <th>quality_5</th>\n",
       "      <th>quality_6</th>\n",
       "      <th>quality_7</th>\n",
       "      <th>quality_8</th>\n",
       "      <th>quality_9</th>\n",
       "      <th>quality_10</th>\n",
       "      <th>quality_11</th>\n",
       "      <th>quality_12</th>\n",
       "    </tr>\n",
       "  </thead>\n",
       "  <tbody>\n",
       "  </tbody>\n",
       "</table>\n",
       "</div>"
      ],
      "text/plain": [
       "Empty DataFrame\n",
       "Columns: [time, user_id, fwver, quality_0, quality_1, quality_2, quality_3, quality_4, quality_5, quality_6, quality_7, quality_8, quality_9, quality_10, quality_11, quality_12]\n",
       "Index: []"
      ]
     },
     "metadata": {},
     "output_type": "display_data"
    },
    {
     "name": "stdout",
     "output_type": "stream",
     "text": [
      "\n",
      "\n"
     ]
    },
    {
     "data": {
      "text/html": [
       "<div>\n",
       "<style scoped>\n",
       "    .dataframe tbody tr th:only-of-type {\n",
       "        vertical-align: middle;\n",
       "    }\n",
       "\n",
       "    .dataframe tbody tr th {\n",
       "        vertical-align: top;\n",
       "    }\n",
       "\n",
       "    .dataframe thead th {\n",
       "        text-align: right;\n",
       "    }\n",
       "</style>\n",
       "<table border=\"1\" class=\"dataframe\">\n",
       "  <thead>\n",
       "    <tr style=\"text-align: right;\">\n",
       "      <th></th>\n",
       "      <th>user_id</th>\n",
       "      <th>time</th>\n",
       "      <th>model_nm</th>\n",
       "      <th>fwver</th>\n",
       "      <th>errtype</th>\n",
       "      <th>errcode</th>\n",
       "    </tr>\n",
       "  </thead>\n",
       "  <tbody>\n",
       "    <tr>\n",
       "      <th>11112255</th>\n",
       "      <td>20271</td>\n",
       "      <td>2020-11-04 22:11:48</td>\n",
       "      <td>model_6</td>\n",
       "      <td>10</td>\n",
       "      <td>5</td>\n",
       "      <td>S-61001</td>\n",
       "    </tr>\n",
       "    <tr>\n",
       "      <th>11112256</th>\n",
       "      <td>20271</td>\n",
       "      <td>2020-11-05 21:53:00</td>\n",
       "      <td>model_6</td>\n",
       "      <td>10</td>\n",
       "      <td>5</td>\n",
       "      <td>S-61001</td>\n",
       "    </tr>\n",
       "  </tbody>\n",
       "</table>\n",
       "</div>"
      ],
      "text/plain": [
       "          user_id                time model_nm fwver  errtype  errcode\n",
       "11112255    20271 2020-11-04 22:11:48  model_6    10        5  S-61001\n",
       "11112256    20271 2020-11-05 21:53:00  model_6    10        5  S-61001"
      ]
     },
     "metadata": {},
     "output_type": "display_data"
    },
    {
     "data": {
      "text/html": [
       "<div>\n",
       "<style scoped>\n",
       "    .dataframe tbody tr th:only-of-type {\n",
       "        vertical-align: middle;\n",
       "    }\n",
       "\n",
       "    .dataframe tbody tr th {\n",
       "        vertical-align: top;\n",
       "    }\n",
       "\n",
       "    .dataframe thead th {\n",
       "        text-align: right;\n",
       "    }\n",
       "</style>\n",
       "<table border=\"1\" class=\"dataframe\">\n",
       "  <thead>\n",
       "    <tr style=\"text-align: right;\">\n",
       "      <th></th>\n",
       "      <th>time</th>\n",
       "      <th>user_id</th>\n",
       "      <th>fwver</th>\n",
       "      <th>quality_0</th>\n",
       "      <th>quality_1</th>\n",
       "      <th>quality_2</th>\n",
       "      <th>quality_3</th>\n",
       "      <th>quality_4</th>\n",
       "      <th>quality_5</th>\n",
       "      <th>quality_6</th>\n",
       "      <th>quality_7</th>\n",
       "      <th>quality_8</th>\n",
       "      <th>quality_9</th>\n",
       "      <th>quality_10</th>\n",
       "      <th>quality_11</th>\n",
       "      <th>quality_12</th>\n",
       "    </tr>\n",
       "  </thead>\n",
       "  <tbody>\n",
       "  </tbody>\n",
       "</table>\n",
       "</div>"
      ],
      "text/plain": [
       "Empty DataFrame\n",
       "Columns: [time, user_id, fwver, quality_0, quality_1, quality_2, quality_3, quality_4, quality_5, quality_6, quality_7, quality_8, quality_9, quality_10, quality_11, quality_12]\n",
       "Index: []"
      ]
     },
     "metadata": {},
     "output_type": "display_data"
    },
    {
     "name": "stdout",
     "output_type": "stream",
     "text": [
      "\n",
      "\n"
     ]
    },
    {
     "data": {
      "text/html": [
       "<div>\n",
       "<style scoped>\n",
       "    .dataframe tbody tr th:only-of-type {\n",
       "        vertical-align: middle;\n",
       "    }\n",
       "\n",
       "    .dataframe tbody tr th {\n",
       "        vertical-align: top;\n",
       "    }\n",
       "\n",
       "    .dataframe thead th {\n",
       "        text-align: right;\n",
       "    }\n",
       "</style>\n",
       "<table border=\"1\" class=\"dataframe\">\n",
       "  <thead>\n",
       "    <tr style=\"text-align: right;\">\n",
       "      <th></th>\n",
       "      <th>user_id</th>\n",
       "      <th>time</th>\n",
       "      <th>model_nm</th>\n",
       "      <th>fwver</th>\n",
       "      <th>errtype</th>\n",
       "      <th>errcode</th>\n",
       "    </tr>\n",
       "  </thead>\n",
       "  <tbody>\n",
       "    <tr>\n",
       "      <th>2750266</th>\n",
       "      <td>12623</td>\n",
       "      <td>2020-11-04 21:12:52</td>\n",
       "      <td>model_6</td>\n",
       "      <td>10</td>\n",
       "      <td>5</td>\n",
       "      <td>S-61001</td>\n",
       "    </tr>\n",
       "    <tr>\n",
       "      <th>2750267</th>\n",
       "      <td>12623</td>\n",
       "      <td>2020-11-04 21:13:52</td>\n",
       "      <td>model_6</td>\n",
       "      <td>10</td>\n",
       "      <td>5</td>\n",
       "      <td>S-61001</td>\n",
       "    </tr>\n",
       "  </tbody>\n",
       "</table>\n",
       "</div>"
      ],
      "text/plain": [
       "         user_id                time model_nm fwver  errtype  errcode\n",
       "2750266    12623 2020-11-04 21:12:52  model_6    10        5  S-61001\n",
       "2750267    12623 2020-11-04 21:13:52  model_6    10        5  S-61001"
      ]
     },
     "metadata": {},
     "output_type": "display_data"
    },
    {
     "data": {
      "text/html": [
       "<div>\n",
       "<style scoped>\n",
       "    .dataframe tbody tr th:only-of-type {\n",
       "        vertical-align: middle;\n",
       "    }\n",
       "\n",
       "    .dataframe tbody tr th {\n",
       "        vertical-align: top;\n",
       "    }\n",
       "\n",
       "    .dataframe thead th {\n",
       "        text-align: right;\n",
       "    }\n",
       "</style>\n",
       "<table border=\"1\" class=\"dataframe\">\n",
       "  <thead>\n",
       "    <tr style=\"text-align: right;\">\n",
       "      <th></th>\n",
       "      <th>time</th>\n",
       "      <th>user_id</th>\n",
       "      <th>fwver</th>\n",
       "      <th>quality_0</th>\n",
       "      <th>quality_1</th>\n",
       "      <th>quality_2</th>\n",
       "      <th>quality_3</th>\n",
       "      <th>quality_4</th>\n",
       "      <th>quality_5</th>\n",
       "      <th>quality_6</th>\n",
       "      <th>quality_7</th>\n",
       "      <th>quality_8</th>\n",
       "      <th>quality_9</th>\n",
       "      <th>quality_10</th>\n",
       "      <th>quality_11</th>\n",
       "      <th>quality_12</th>\n",
       "    </tr>\n",
       "  </thead>\n",
       "  <tbody>\n",
       "  </tbody>\n",
       "</table>\n",
       "</div>"
      ],
      "text/plain": [
       "Empty DataFrame\n",
       "Columns: [time, user_id, fwver, quality_0, quality_1, quality_2, quality_3, quality_4, quality_5, quality_6, quality_7, quality_8, quality_9, quality_10, quality_11, quality_12]\n",
       "Index: []"
      ]
     },
     "metadata": {},
     "output_type": "display_data"
    },
    {
     "name": "stdout",
     "output_type": "stream",
     "text": [
      "\n",
      "\n"
     ]
    },
    {
     "data": {
      "text/html": [
       "<div>\n",
       "<style scoped>\n",
       "    .dataframe tbody tr th:only-of-type {\n",
       "        vertical-align: middle;\n",
       "    }\n",
       "\n",
       "    .dataframe tbody tr th {\n",
       "        vertical-align: top;\n",
       "    }\n",
       "\n",
       "    .dataframe thead th {\n",
       "        text-align: right;\n",
       "    }\n",
       "</style>\n",
       "<table border=\"1\" class=\"dataframe\">\n",
       "  <thead>\n",
       "    <tr style=\"text-align: right;\">\n",
       "      <th></th>\n",
       "      <th>user_id</th>\n",
       "      <th>time</th>\n",
       "      <th>model_nm</th>\n",
       "      <th>fwver</th>\n",
       "      <th>errtype</th>\n",
       "      <th>errcode</th>\n",
       "    </tr>\n",
       "  </thead>\n",
       "  <tbody>\n",
       "    <tr>\n",
       "      <th>12210417</th>\n",
       "      <td>21040</td>\n",
       "      <td>2020-11-04 22:43:14</td>\n",
       "      <td>model_6</td>\n",
       "      <td>10</td>\n",
       "      <td>5</td>\n",
       "      <td>B-A8002</td>\n",
       "    </tr>\n",
       "    <tr>\n",
       "      <th>12210418</th>\n",
       "      <td>21040</td>\n",
       "      <td>2020-11-04 22:43:47</td>\n",
       "      <td>model_6</td>\n",
       "      <td>10</td>\n",
       "      <td>5</td>\n",
       "      <td>B-A8002</td>\n",
       "    </tr>\n",
       "  </tbody>\n",
       "</table>\n",
       "</div>"
      ],
      "text/plain": [
       "          user_id                time model_nm fwver  errtype  errcode\n",
       "12210417    21040 2020-11-04 22:43:14  model_6    10        5  B-A8002\n",
       "12210418    21040 2020-11-04 22:43:47  model_6    10        5  B-A8002"
      ]
     },
     "metadata": {},
     "output_type": "display_data"
    },
    {
     "data": {
      "text/html": [
       "<div>\n",
       "<style scoped>\n",
       "    .dataframe tbody tr th:only-of-type {\n",
       "        vertical-align: middle;\n",
       "    }\n",
       "\n",
       "    .dataframe tbody tr th {\n",
       "        vertical-align: top;\n",
       "    }\n",
       "\n",
       "    .dataframe thead th {\n",
       "        text-align: right;\n",
       "    }\n",
       "</style>\n",
       "<table border=\"1\" class=\"dataframe\">\n",
       "  <thead>\n",
       "    <tr style=\"text-align: right;\">\n",
       "      <th></th>\n",
       "      <th>time</th>\n",
       "      <th>user_id</th>\n",
       "      <th>fwver</th>\n",
       "      <th>quality_0</th>\n",
       "      <th>quality_1</th>\n",
       "      <th>quality_2</th>\n",
       "      <th>quality_3</th>\n",
       "      <th>quality_4</th>\n",
       "      <th>quality_5</th>\n",
       "      <th>quality_6</th>\n",
       "      <th>quality_7</th>\n",
       "      <th>quality_8</th>\n",
       "      <th>quality_9</th>\n",
       "      <th>quality_10</th>\n",
       "      <th>quality_11</th>\n",
       "      <th>quality_12</th>\n",
       "    </tr>\n",
       "  </thead>\n",
       "  <tbody>\n",
       "  </tbody>\n",
       "</table>\n",
       "</div>"
      ],
      "text/plain": [
       "Empty DataFrame\n",
       "Columns: [time, user_id, fwver, quality_0, quality_1, quality_2, quality_3, quality_4, quality_5, quality_6, quality_7, quality_8, quality_9, quality_10, quality_11, quality_12]\n",
       "Index: []"
      ]
     },
     "metadata": {},
     "output_type": "display_data"
    },
    {
     "name": "stdout",
     "output_type": "stream",
     "text": [
      "\n",
      "\n"
     ]
    },
    {
     "data": {
      "text/html": [
       "<div>\n",
       "<style scoped>\n",
       "    .dataframe tbody tr th:only-of-type {\n",
       "        vertical-align: middle;\n",
       "    }\n",
       "\n",
       "    .dataframe tbody tr th {\n",
       "        vertical-align: top;\n",
       "    }\n",
       "\n",
       "    .dataframe thead th {\n",
       "        text-align: right;\n",
       "    }\n",
       "</style>\n",
       "<table border=\"1\" class=\"dataframe\">\n",
       "  <thead>\n",
       "    <tr style=\"text-align: right;\">\n",
       "      <th></th>\n",
       "      <th>user_id</th>\n",
       "      <th>time</th>\n",
       "      <th>model_nm</th>\n",
       "      <th>fwver</th>\n",
       "      <th>errtype</th>\n",
       "      <th>errcode</th>\n",
       "    </tr>\n",
       "  </thead>\n",
       "  <tbody>\n",
       "    <tr>\n",
       "      <th>11144486</th>\n",
       "      <td>20300</td>\n",
       "      <td>2020-11-07 20:04:39</td>\n",
       "      <td>model_3</td>\n",
       "      <td>05.15.2138</td>\n",
       "      <td>26</td>\n",
       "      <td>1</td>\n",
       "    </tr>\n",
       "    <tr>\n",
       "      <th>11144487</th>\n",
       "      <td>20300</td>\n",
       "      <td>2020-11-07 20:04:46</td>\n",
       "      <td>model_3</td>\n",
       "      <td>05.15.2138</td>\n",
       "      <td>12</td>\n",
       "      <td>1</td>\n",
       "    </tr>\n",
       "    <tr>\n",
       "      <th>11144488</th>\n",
       "      <td>20300</td>\n",
       "      <td>2020-11-07 20:04:46</td>\n",
       "      <td>model_3</td>\n",
       "      <td>05.15.2138</td>\n",
       "      <td>11</td>\n",
       "      <td>1</td>\n",
       "    </tr>\n",
       "    <tr>\n",
       "      <th>11144489</th>\n",
       "      <td>20300</td>\n",
       "      <td>2020-11-07 21:38:48</td>\n",
       "      <td>model_3</td>\n",
       "      <td>05.15.2138</td>\n",
       "      <td>4</td>\n",
       "      <td>0</td>\n",
       "    </tr>\n",
       "  </tbody>\n",
       "</table>\n",
       "</div>"
      ],
      "text/plain": [
       "          user_id                time model_nm       fwver  errtype errcode\n",
       "11144486    20300 2020-11-07 20:04:39  model_3  05.15.2138       26       1\n",
       "11144487    20300 2020-11-07 20:04:46  model_3  05.15.2138       12       1\n",
       "11144488    20300 2020-11-07 20:04:46  model_3  05.15.2138       11       1\n",
       "11144489    20300 2020-11-07 21:38:48  model_3  05.15.2138        4       0"
      ]
     },
     "metadata": {},
     "output_type": "display_data"
    },
    {
     "data": {
      "text/html": [
       "<div>\n",
       "<style scoped>\n",
       "    .dataframe tbody tr th:only-of-type {\n",
       "        vertical-align: middle;\n",
       "    }\n",
       "\n",
       "    .dataframe tbody tr th {\n",
       "        vertical-align: top;\n",
       "    }\n",
       "\n",
       "    .dataframe thead th {\n",
       "        text-align: right;\n",
       "    }\n",
       "</style>\n",
       "<table border=\"1\" class=\"dataframe\">\n",
       "  <thead>\n",
       "    <tr style=\"text-align: right;\">\n",
       "      <th></th>\n",
       "      <th>time</th>\n",
       "      <th>user_id</th>\n",
       "      <th>fwver</th>\n",
       "      <th>quality_0</th>\n",
       "      <th>quality_1</th>\n",
       "      <th>quality_2</th>\n",
       "      <th>quality_3</th>\n",
       "      <th>quality_4</th>\n",
       "      <th>quality_5</th>\n",
       "      <th>quality_6</th>\n",
       "      <th>quality_7</th>\n",
       "      <th>quality_8</th>\n",
       "      <th>quality_9</th>\n",
       "      <th>quality_10</th>\n",
       "      <th>quality_11</th>\n",
       "      <th>quality_12</th>\n",
       "    </tr>\n",
       "  </thead>\n",
       "  <tbody>\n",
       "  </tbody>\n",
       "</table>\n",
       "</div>"
      ],
      "text/plain": [
       "Empty DataFrame\n",
       "Columns: [time, user_id, fwver, quality_0, quality_1, quality_2, quality_3, quality_4, quality_5, quality_6, quality_7, quality_8, quality_9, quality_10, quality_11, quality_12]\n",
       "Index: []"
      ]
     },
     "metadata": {},
     "output_type": "display_data"
    }
   ],
   "source": [
    "display(train_err[train_err['user_id'] == 16980])\n",
    "display(train_qual[train_qual['user_id'] == 16980])\n",
    "print(\"\\n\")\n",
    "display(train_err[train_err['user_id'] == 20271])\n",
    "display(train_qual[train_qual['user_id'] == 20271])\n",
    "print(\"\\n\")\n",
    "display(train_err[train_err['user_id'] == 12623])\n",
    "display(train_qual[train_qual['user_id'] == 12623])\n",
    "print(\"\\n\")\n",
    "display(train_err[train_err['user_id'] == 21040])\n",
    "display(train_qual[train_qual['user_id'] == 21040])\n",
    "print(\"\\n\")\n",
    "display(train_err[train_err['user_id'] == 20300])\n",
    "display(train_qual[train_qual['user_id'] == 20300])"
   ]
  },
  {
   "cell_type": "markdown",
   "metadata": {},
   "source": [
    "에러 로그가 적은 유저들은 <b>퀄리티가 측정되지 않았다는 공통점이</b> 발견되었다.<br>\n",
    "<span style=\"color:gray\">(이는 추후 분석을 통해 더욱 이상치로 볼 수 있음을 확인할 수 있다, 따라서 추후 분석 이전 단계에서는 제거하지 않는다.) <br>(또한 이후 Err Data와 Quality Data 간의 관계분석에 사용 가능하다.)</span>"
   ]
  },
  {
   "cell_type": "markdown",
   "metadata": {},
   "source": [
    "---"
   ]
  },
  {
   "cell_type": "markdown",
   "metadata": {},
   "source": [
    "* 전처리 데이터 저장"
   ]
  },
  {
   "cell_type": "code",
   "execution_count": 54,
   "metadata": {},
   "outputs": [],
   "source": [
    "# time 변수 타입 변경 이전 + 그외에는 전처리된(결측치, 이상치 처리) 데이터 저장\n",
    "train_err.to_csv(save_path + \"train_err_data_time.csv\", index=False)\n",
    "train_qual.to_csv(save_path + \"train_quality_data_time.csv\", index=False)\n",
    "train_prob.to_csv(save_path + \"train_problem_data_time.csv\", index=False)\n",
    "\n",
    "test_err.to_csv(save_path + \"test_err_data_time.csv\", index=False)\n",
    "test_qual.to_csv(save_path + \"test_quality_data_time.csv\", index=False)"
   ]
  },
  {
   "cell_type": "markdown",
   "metadata": {},
   "source": [
    "---"
   ]
  },
  {
   "cell_type": "markdown",
   "metadata": {},
   "source": [
    "# 4. 불만 제기 시간 확인"
   ]
  },
  {
   "cell_type": "markdown",
   "metadata": {},
   "source": [
    "---"
   ]
  },
  {
   "cell_type": "markdown",
   "metadata": {},
   "source": [
    "## 4-1. 고객들이 `언제`, `무슨 요일`, `어느 시간`에 불만을 제기하였는지 확인"
   ]
  },
  {
   "cell_type": "code",
   "execution_count": 133,
   "metadata": {},
   "outputs": [],
   "source": [
    "# Datetime으로 Type변경이 되기전 데이터 로드\n",
    "train_err = pd.read_csv(save_path+\"train_err_data.csv\")\n",
    "train_qual = pd.read_csv(save_path+\"train_quality_data.csv\")\n",
    "train_prob = pd.read_csv(save_path+\"train_problem_data.csv\")\n",
    "\n",
    "test_err = pd.read_csv(save_path+\"test_err_data.csv\")\n",
    "test_qual = pd.read_csv(save_path+\"test_quality_data.csv\")"
   ]
  },
  {
   "cell_type": "code",
   "execution_count": 134,
   "metadata": {},
   "outputs": [],
   "source": [
    "# 불만 제기 고객 확인\n",
    "problem_user = train_prob.user_id.unique()\n",
    "no_problem_user = list(set(train_err.user_id.unique()) - set(problem_user))"
   ]
  },
  {
   "cell_type": "code",
   "execution_count": 135,
   "metadata": {},
   "outputs": [],
   "source": [
    "def make_weekday(col): # 0 : 월요일, 1: 화요일, 2: 수요일, 3: 목요일, 4: 금요일, 5: 토요일, 6: 일요일\n",
    "    col = str(col)\n",
    "    year  = int(col[:4])\n",
    "    month = int(col[4:6])\n",
    "    day   = int(col[6:8])\n",
    "    weekday = dt.datetime(year,month,day).weekday()\n",
    "    \n",
    "#     if weekday == 0:\n",
    "#         return \"월요일\"\n",
    "#     elif weekday == 1:\n",
    "#         return \"화요일\"\n",
    "#     elif weekday == 2:\n",
    "#         return \"수요일\"\n",
    "#     elif weekday == 3:\n",
    "#         return \"목요일\"\n",
    "#     elif weekday == 4:\n",
    "#         return \"금요일\"\n",
    "#     elif weekday == 5:\n",
    "#         return \"토요일\"\n",
    "#     elif weekday == 6:\n",
    "#         return \"일요일\"\n",
    "    \n",
    "    return weekday"
   ]
  },
  {
   "cell_type": "code",
   "execution_count": 136,
   "metadata": {},
   "outputs": [],
   "source": [
    "def make_hour(col): # 시간대별\n",
    "    col = str(col)\n",
    "    hour = int(col[8:10])\n",
    "#     hour = str(hour) + \"시\"\n",
    "    return hour"
   ]
  },
  {
   "cell_type": "code",
   "execution_count": 137,
   "metadata": {},
   "outputs": [],
   "source": [
    "train_prob['weekday'] = train_prob.time.apply(lambda x: make_weekday(x))\n",
    "train_prob['hour'] = train_prob.time.apply(lambda x: make_hour(x))"
   ]
  },
  {
   "cell_type": "markdown",
   "metadata": {},
   "source": [
    "* 요일별 불만 제기 확인 결과 : <b>월요일 → 수요일 → 금요일 → 화요일 → 목요일 → 토요일 → 일요일</b> 순으로 많음을 알 수 있다"
   ]
  },
  {
   "cell_type": "code",
   "execution_count": 138,
   "metadata": {},
   "outputs": [
    {
     "data": {
      "text/plain": [
       "0    1332\n",
       "2     868\n",
       "4     853\n",
       "1     809\n",
       "3     809\n",
       "5     431\n",
       "6     327\n",
       "Name: weekday, dtype: int64"
      ]
     },
     "execution_count": 138,
     "metadata": {},
     "output_type": "execute_result"
    }
   ],
   "source": [
    "train_prob['weekday'].value_counts() # 요일별 불만제기"
   ]
  },
  {
   "cell_type": "markdown",
   "metadata": {},
   "source": [
    "* 시간대별 불만 제거 확인 결과 : <b>점심 → 저녁 → 오후 → 밤 → 새벽 → 아침</b> 순으로 많음을 알 수 있다"
   ]
  },
  {
   "cell_type": "code",
   "execution_count": 139,
   "metadata": {},
   "outputs": [
    {
     "data": {
      "text/plain": [
       "12    627\n",
       "11    600\n",
       "13    518\n",
       "19    507\n",
       "18    492\n",
       "15    489\n",
       "16    460\n",
       "17    432\n",
       "20    233\n",
       "22    233\n",
       "14    228\n",
       "21    204\n",
       "23    175\n",
       "0     108\n",
       "1      67\n",
       "2      15\n",
       "10     14\n",
       "9       8\n",
       "5       5\n",
       "8       5\n",
       "3       4\n",
       "4       3\n",
       "6       1\n",
       "7       1\n",
       "Name: hour, dtype: int64"
      ]
     },
     "execution_count": 139,
     "metadata": {},
     "output_type": "execute_result"
    }
   ],
   "source": [
    "train_prob['hour'].value_counts() # 시간별 불만 제기"
   ]
  },
  {
   "cell_type": "markdown",
   "metadata": {},
   "source": [
    "* 평일/주말 불만 제기 확인 결과 : <b>평일이 주말보다</b> 불만 제기가 많음을 알 수 있다"
   ]
  },
  {
   "cell_type": "code",
   "execution_count": 140,
   "metadata": {},
   "outputs": [],
   "source": [
    "weekend = train_prob[(train_prob['weekday'] == 5) | (train_prob['weekday'] == 6)]\n",
    "weekdays = train_prob[(train_prob['weekday'] != 5) & (train_prob['weekday'] != 6)]"
   ]
  },
  {
   "cell_type": "code",
   "execution_count": 141,
   "metadata": {},
   "outputs": [
    {
     "name": "stdout",
     "output_type": "stream",
     "text": [
      "평일에 불만을 제기할 확률 : 86.038%\n",
      "주말에 불만을 제기할 확률 : 13.962055627187327%\n"
     ]
    }
   ],
   "source": [
    "week_ratio = len(weekend) / len(train_prob) #주말 제기 확률\n",
    "print(\"평일에 불만을 제기할 확률 : {0}%\\n주말에 불만을 제기할 확률 : {1}%\".\n",
    "      format(round((1-week_ratio)*100, 3), (week_ratio)*100, 3))"
   ]
  },
  {
   "cell_type": "code",
   "execution_count": 142,
   "metadata": {},
   "outputs": [
    {
     "name": "stdout",
     "output_type": "stream",
     "text": [
      "운영시간 중 불만 제기 확률 : 64.892%\n"
     ]
    }
   ],
   "source": [
    "weekend_open = weekend[(weekend['weekday'] != 6) &(weekend['hour'] >= 9) & (weekend['hour'] <= 13)]\n",
    "weekdays_open = weekdays[(weekdays['hour'] >= 9) & (weekdays['hour'] <= 18)]\n",
    "print(\"운영시간 중 불만 제기 확률 : {0}%\".format(round((len(weekdays_open)+ len(weekend_open)) / len(train_prob) * 100, 3)))"
   ]
  },
  {
   "cell_type": "code",
   "execution_count": 143,
   "metadata": {},
   "outputs": [],
   "source": [
    "# 다시 Datetime으로 Type이 변경된 데이터 로드\n",
    "train_err = pd.read_csv(save_path+\"train_err_data_time.csv\")\n",
    "train_qual = pd.read_csv(save_path+\"train_quality_data_time.csv\")\n",
    "train_prob = pd.read_csv(save_path+\"train_problem_data_time.csv\")\n",
    "\n",
    "test_err = pd.read_csv(save_path+\"test_err_data_time.csv\")\n",
    "test_qual = pd.read_csv(save_path+\"test_quality_data_time.csv\")"
   ]
  },
  {
   "cell_type": "markdown",
   "metadata": {},
   "source": [
    "---"
   ]
  },
  {
   "cell_type": "markdown",
   "metadata": {},
   "source": [
    "# 5. Err Data 해석"
   ]
  },
  {
   "cell_type": "markdown",
   "metadata": {},
   "source": [
    "### 에러가 많이 발생할수록, 불만 제기 확률이 높을 것이라는 가설을 세우고 → 이를 검정하기 위한 `Errtype Data` 해석"
   ]
  },
  {
   "cell_type": "markdown",
   "metadata": {},
   "source": [
    "---"
   ]
  },
  {
   "cell_type": "markdown",
   "metadata": {},
   "source": [
    "## 5-1. Errtype"
   ]
  },
  {
   "cell_type": "markdown",
   "metadata": {},
   "source": [
    "###### 1. Errtype 종류에 상관없이 Errtype의 수를 Count"
   ]
  },
  {
   "cell_type": "code",
   "execution_count": 144,
   "metadata": {},
   "outputs": [],
   "source": [
    "err_total = train_err.copy()\n",
    "\n",
    "id_error = err_total[['user_id','errtype']].values\n",
    "error = np.zeros(15000)"
   ]
  },
  {
   "cell_type": "code",
   "execution_count": 145,
   "metadata": {},
   "outputs": [
    {
     "name": "stderr",
     "output_type": "stream",
     "text": [
      "100%|██████████| 16554663/16554663 [00:37<00:00, 444848.74it/s]\n"
     ]
    }
   ],
   "source": [
    "for person_idx, err,  in tqdm(id_error):\n",
    "    error[person_idx-10000] += 1"
   ]
  },
  {
   "cell_type": "code",
   "execution_count": 146,
   "metadata": {},
   "outputs": [],
   "source": [
    "problem_user = sorted(list(train_prob.user_id.unique()))\n",
    "prob_user = [i-10000 for i in problem_user]"
   ]
  },
  {
   "cell_type": "code",
   "execution_count": 147,
   "metadata": {},
   "outputs": [
    {
     "name": "stdout",
     "output_type": "stream",
     "text": [
      "불만 제기한 사람들의 Total Errtype Count의 평균은 1517.7562입니다.\n",
      "불만 제기하지않은 사람들의 Total Errtype Count의 평균은 896.5882입니다.\n"
     ]
    }
   ],
   "source": [
    "psum = [] # 불만 제기한 사람들 각각의 Total Errtype Count\n",
    "nsum = [] # 불만 제기하지않은 사람들 각각의 Total Errtype Count\n",
    "\n",
    "for i in range(len(error)):\n",
    "    if i in prob_user:\n",
    "        psum.append(error[i])\n",
    "    else:\n",
    "        nsum.append(error[i])\n",
    "        \n",
    "print(\"불만 제기한 사람들의 Total Errtype Count의 평균은 {0}입니다.\".format(sum(psum)/len(psum)))\n",
    "print(\"불만 제기하지않은 사람들의 Total Errtype Count의 평균은 {0}입니다.\".format(sum(nsum)/len(nsum)))"
   ]
  },
  {
   "cell_type": "markdown",
   "metadata": {},
   "source": [
    "* Total Errtype을 많이 가지고 있는 사람들이 불만 제기를 많이 한다는 사실을 알 수 있었다.  \n",
    "\n",
    "→ &nbsp;따라서 Errtype을 Count하는 것이 유의미하다는 결론을 내리고, Errtype의 이동평균, 이동최대값, 이동표준편차을 살펴볼 필요가 있다.<br>\n",
    "&nbsp;&nbsp;&nbsp;&nbsp;&nbsp;<span style=\"color:gray\">(시간대별 이동평균, 하루 이동평균, 3일 이동평균, 7일 이동평균 + 시간대별 이동최대값, 하루 이동최대값, 3일 이동최대값, 7일 이동최대값 등)</span>"
   ]
  },
  {
   "cell_type": "markdown",
   "metadata": {},
   "source": [
    "<center> <b>예시 (Count)</b></center>  \n",
    "\n",
    "|User ID|Errtype의 3일 이동평균|Errtype의 3일 이동최대값|Errtype의 3일 이동표준편차|  \n",
    "|---|---|---|---|\n",
    "|User 1|7.5|322.0|0.9142|  \n",
    "|User 2|2.3|2423.0|141.93|\n",
    "|User 3|0.0|11.0|0.029|\n",
    "|User 4|1.7|299.0|0.0113|\n",
    "|User 5|3.0|4.0|1.21|\n",
    "\n",
    "<br>\n",
    "<center><span style=\"color:gray\">(엄밀하게는 이동평균의 평균, 이동최대값의 평균, 이동표준편차의 평균을 봄)</span></center>"
   ]
  },
  {
   "cell_type": "markdown",
   "metadata": {},
   "source": [
    "###### 2. Errtype이 불만 제기에 중요한 변수임을 알았다. 그렇다면 <u><b>Errtype의 종류마다 영향력이 다를까?</b></u>  "
   ]
  },
  {
   "cell_type": "code",
   "execution_count": 191,
   "metadata": {},
   "outputs": [
    {
     "name": "stdout",
     "output_type": "stream",
     "text": [
      "Errtype 18을 가진 유저들의 수 : 10462명\n",
      "Errtype 18을 가진 유저중에서 불만을 제기한 사람의 수 : 4052명\n",
      "비율 : 38.731%\n"
     ]
    }
   ],
   "source": [
    "type5_id = sorted(list(train_err[train_err['errtype'] == 40].user_id.unique()))\n",
    "print(\"Errtype 18을 가진 유저들의 수 : {}명\".format(len(type5_id)))\n",
    "print(\"Errtype 18을 가진 유저중에서 불만을 제기한 사람의 수 : {}명\".format(len(train_prob[train_prob['user_id'].isin(type5_id)].user_id.unique())))\n",
    "print(\"비율 : %.3f%%\"%(len(train_prob[train_prob['user_id'].isin(type5_id)].user_id.unique())/len(type5_id) * 100))"
   ]
  },
  {
   "cell_type": "code",
   "execution_count": 149,
   "metadata": {
    "scrolled": true
   },
   "outputs": [
    {
     "name": "stdout",
     "output_type": "stream",
     "text": [
      "Errtype 18을 가진 유저들의 수 : 1768명\n",
      "Errtype 18을 가진 유저중에서 불만을 제기한 사람의 수 : 1521명\n",
      "비율 : 86.029%\n"
     ]
    }
   ],
   "source": [
    "type18_id = sorted(list(train_err[train_err['errtype'] == 18].user_id.unique()))\n",
    "print(\"Errtype 18을 가진 유저들의 수 : {}명\".format(len(type18_id)))\n",
    "print(\"Errtype 18을 가진 유저중에서 불만을 제기한 사람의 수 : {}명\".format(len(train_prob[train_prob['user_id'].isin(type18_id)].user_id.unique())))\n",
    "print(\"비율 : %.3f%%\"%(len(train_prob[train_prob['user_id'].isin(type18_id)].user_id.unique())/len(type18_id) * 100))"
   ]
  },
  {
   "cell_type": "markdown",
   "metadata": {},
   "source": [
    "→ &nbsp;특정 Errtype은 불만 제기에 큰 영향을 미침을 알 수 있다."
   ]
  },
  {
   "cell_type": "markdown",
   "metadata": {},
   "source": [
    "→ &nbsp;따라서, Errtype을 종류별로 Count하는 파생변수를 살펴볼 필요가 있다<br>\n",
    "&nbsp;&nbsp;&nbsp;&nbsp;&nbsp;<span style=\"color:gray\">(종류에 따라서, 동일하게 시간대별 이동평균, 하루 이동평균, 3일 이동평균, 7일 이동평균 + 시간대별 이동최대값, 하루 이동최대값 ˙˙˙ 등)</span>"
   ]
  },
  {
   "cell_type": "markdown",
   "metadata": {},
   "source": [
    "<center> <b>예시 (Count)</b></center>  \n",
    "\n",
    "|User ID|Errtype18의 3일 이동평균|Errtype18의 3일 이동최대값|Errtype18의 3일 이동표준편차|  \n",
    "|---|---|---|---|\n",
    "|User 1|1.5|3.0|0.142|  \n",
    "|User 2|1.0|22.0|14.93|\n",
    "|User 3|0.0|1.0|0.09|\n",
    "|User 4|1.5|2.0|0.013|\n",
    "|User 5|3.0|5.0|1.2|\n",
    "\n",
    "<br>\n",
    "<center><span style=\"color:gray\">(엄밀하게는 이동평균의 평균, 이동최대값의 평균, 이동표준편차의 평균을 봄)</span></center>"
   ]
  },
  {
   "cell_type": "markdown",
   "metadata": {},
   "source": [
    "###### 3. Errtype과 Fwver & Model과의 관계"
   ]
  },
  {
   "cell_type": "code",
   "execution_count": 150,
   "metadata": {},
   "outputs": [
    {
     "name": "stdout",
     "output_type": "stream",
     "text": [
      "모델 버전 model_0 → [1, 2, 4, 5, 6, 7, 8, 9, 10, 11, 12, 13, 14, 15, 16]\n",
      "모델 버전 model_1 → [1, 2, 3, 4, 5, 6, 7, 8, 9, 10, 11, 12, 13, 14, 15]\n",
      "모델 버전 model_2 → [1, 2, 4, 5, 6, 7, 8, 9, 10, 11, 12, 13, 14, 15, 16]\n",
      "모델 버전 model_3 → [1, 2, 3, 4, 5, 6, 7, 8, 9, 10, 11, 12, 13, 14, 15]\n",
      "모델 버전 model_4 → [1, 3, 4, 5, 6, 7, 8, 9, 10, 11, 12, 13, 14, 15, 16]\n",
      "모델 버전 model_5 → [2, 4, 5, 6, 7, 10, 11, 12, 13, 14, 15, 16, 17, 18, 19]\n",
      "모델 버전 model_6 → [5]\n",
      "모델 버전 model_7 → [3, 4, 5, 6, 7, 8, 10, 11, 12, 13, 14, 15, 16, 17, 18]\n",
      "모델 버전 model_8 → [2, 3, 4, 5, 6, 7, 10, 11, 12, 13, 14, 15, 16, 17, 18]\n"
     ]
    }
   ],
   "source": [
    "# 모델 버전마다 Errtype이 다름을 보여주는 코드\n",
    "for i in range(9):\n",
    "    nm = 'model_' + str(i)\n",
    "    print(\"모델 버전\", nm, \"→\", sorted(list(train_err[train_err['model_nm'] == nm]['errtype'].unique()))[:15])"
   ]
  },
  {
   "cell_type": "code",
   "execution_count": 151,
   "metadata": {},
   "outputs": [
    {
     "name": "stdout",
     "output_type": "stream",
     "text": [
      "펌웨어 버전 → 03.11.1141 [1, 5, 6, 7, 14, 27, 28, 30]\n",
      "펌웨어 버전 → 03.11.1149 [1, 4, 5, 6, 7, 12, 14, 27, 28]\n",
      "펌웨어 버전 → 03.11.1167 [1, 3, 4, 5, 6, 7, 8, 9, 10, 11, 12, 13, 14, 15, 16, 17, 27, 28, 30]\n",
      "펌웨어 버전 → 04.16.2641 [3, 4, 6, 7, 11, 12, 13, 14, 15, 16, 22, 23, 26]\n",
      "펌웨어 버전 → 04.16.3345 [3, 4, 10, 11, 12, 14, 15, 16, 26]\n",
      "펌웨어 버전 → 04.16.3439 [6, 7, 11, 12, 14, 15, 16, 22, 23, 26, 27, 28, 31, 33, 34, 35, 38, 40]\n",
      "펌웨어 버전 → 04.16.3553 [1, 2, 4, 5, 6, 7, 8, 9, 10, 11, 12, 13, 14, 15, 16, 17, 18, 19, 20, 21]\n",
      "펌웨어 버전 → 04.16.3569 [5, 10, 11, 12, 15, 16, 17, 22, 23, 26, 31, 32, 33, 34, 42]\n",
      "펌웨어 버전 → 04.16.3571 [2, 5, 6, 7, 10, 11, 12, 13, 14, 15, 16, 17, 18, 19, 20, 21, 22, 23, 24, 25]\n",
      "펌웨어 버전 → 04.22.1442 [4, 5, 6, 7, 10, 11, 12, 13, 14, 15, 16, 18, 20, 22, 23, 25, 26]\n",
      "펌웨어 버전 → 04.22.1656 [4, 5, 6, 7, 11, 12, 13, 14, 15, 16, 22, 23, 26, 27, 28]\n",
      "펌웨어 버전 → 04.22.1666 [12, 13, 14, 38]\n",
      "펌웨어 버전 → 04.22.1684 [1, 4, 5, 6, 7, 10, 11, 12, 13, 14, 15, 16, 17, 18, 20, 22, 23, 25, 26, 27]\n",
      "펌웨어 버전 → 04.22.1750 [1, 2, 4, 5, 6, 7, 8, 9, 10, 11, 12, 13, 14, 15, 16, 17, 18, 19, 20, 21]\n",
      "펌웨어 버전 → 04.22.1778 [1, 2, 4, 5, 6, 7, 8, 9, 10, 11, 12, 13, 14, 15, 16, 17, 18, 19, 20, 21]\n",
      "펌웨어 버전 → 04.33.1095 [4, 5, 6, 7, 11, 12, 13, 14, 15, 16, 17, 22, 23, 26]\n",
      "펌웨어 버전 → 04.33.1125 [4, 5, 6, 7, 11, 12, 14, 15, 16, 17, 18, 20, 22, 23, 26]\n",
      "펌웨어 버전 → 04.33.1149 [1, 5, 6, 7, 10, 11, 12, 13, 14, 15, 16, 17, 18, 19, 20, 21, 22, 23, 26, 30]\n",
      "펌웨어 버전 → 04.33.1171 [7, 11, 12, 14, 15, 16, 18, 20, 26, 31, 33, 40, 41]\n",
      "펌웨어 버전 → 04.33.1185 [1, 2, 4, 5, 6, 7, 8, 9, 10, 11, 12, 13, 14, 15, 16, 17, 18, 19, 20, 21]\n",
      "펌웨어 버전 → 04.33.1261 [1, 2, 4, 5, 6, 7, 8, 9, 10, 11, 12, 13, 14, 15, 16, 17, 18, 19, 20, 21]\n",
      "펌웨어 버전 → 04.73.2237 [2, 3, 4, 5, 6, 7, 10, 11, 12, 13, 14, 15, 16, 17, 18, 20, 22, 23, 24, 25]\n",
      "펌웨어 버전 → 04.73.2571 [5, 6, 7, 11, 12, 13, 14, 15, 16, 17, 18, 19, 20, 21, 22, 23, 24, 25, 26, 31]\n",
      "펌웨어 버전 → 04.82.1684 [2, 4, 5, 6, 7, 10, 11, 12, 13, 14, 15, 16, 17, 18, 19, 20, 21, 22, 23, 24]\n",
      "펌웨어 버전 → 04.82.1730 [5, 6, 7, 10, 11, 12, 13, 14, 15, 16, 22, 23, 26, 31, 33]\n",
      "펌웨어 버전 → 04.82.1778 [2, 5, 6, 7, 10, 11, 12, 13, 14, 15, 16, 17, 22, 23, 24, 26, 27, 28, 31, 32]\n",
      "펌웨어 버전 → 05.15.2090 [3, 5, 6, 7, 10, 11, 12, 14, 26]\n",
      "펌웨어 버전 → 05.15.2092 [3, 4, 5, 6, 7, 11, 12, 13, 14, 27, 28]\n",
      "펌웨어 버전 → 05.15.2114 [4, 14, 15, 26]\n",
      "펌웨어 버전 → 05.15.2120 [3, 4, 5, 6, 7, 10, 11, 12, 13, 14, 15, 16, 24, 26, 27, 28]\n",
      "펌웨어 버전 → 05.15.2122 [4, 5, 11, 12, 15, 16, 18, 26]\n",
      "펌웨어 버전 → 05.15.2138 [1, 2, 3, 4, 5, 6, 7, 8, 9, 10, 11, 12, 13, 14, 15, 16, 17, 18, 19, 24]\n",
      "펌웨어 버전 → 05.15.3104 [3, 4, 5, 6, 7, 10, 11, 12, 13, 14, 15, 16, 26]\n",
      "펌웨어 버전 → 05.66.3237 [3, 4, 5, 6, 7, 8, 10, 11, 12, 13, 14, 15, 16, 17, 18, 19, 20, 21, 22, 23]\n",
      "펌웨어 버전 → 05.66.3571 [5, 6, 7, 10, 11, 12, 13, 14, 15, 16, 17, 22, 23, 26, 30, 31, 32, 33, 34, 35]\n",
      "펌웨어 버전 → 10 [5]\n",
      "펌웨어 버전 → 8.5.3 [5]\n"
     ]
    }
   ],
   "source": [
    "# 펌웨어 버전마다 Errtype이 다름을 보여주는 코드\n",
    "so_fw = sorted(list(train_err.fwver.unique()))\n",
    "\n",
    "for i in so_fw:\n",
    "    nm = i\n",
    "    print(\"펌웨어 버전 →\", i,sorted(list(train_err[train_err['fwver'] == nm]['errtype'].unique()))[:20])"
   ]
  },
  {
   "cell_type": "markdown",
   "metadata": {},
   "source": [
    "→ &nbsp;Errtype이 모델 버전 또는 펌웨어 버전에 종속되지 않음을 알 수 있다.<br>\n",
    "&nbsp;&nbsp;&nbsp;&nbsp;&nbsp;&nbsp;<span style=\"color:gray\">단, 모델6에는 펌웨어 버전 '10'과 '8.5.3'이 있고 Errtype은 5만 존재한다.</span>"
   ]
  },
  {
   "cell_type": "markdown",
   "metadata": {},
   "source": [
    "---"
   ]
  },
  {
   "cell_type": "markdown",
   "metadata": {},
   "source": [
    "## 5-2. Errcode"
   ]
  },
  {
   "cell_type": "markdown",
   "metadata": {},
   "source": [
    "###### 1. Errtype과 비슷하게 Errcode도 Error의 정보를 알려주는 Feature이다. 먼저 <u>둘의 관계를 살펴보자</u>"
   ]
  },
  {
   "cell_type": "code",
   "execution_count": 152,
   "metadata": {},
   "outputs": [
    {
     "name": "stdout",
     "output_type": "stream",
     "text": [
      "['terminate by peer user', 'standby', 'connectionterminated by local host', 'connection timeout', 'connection fail to establish', 'connection fail for LMP response timout', 'active', 'V-21008', 'UNKNOWN', 'U-81009', 'S-65002', 'S-64002', 'S-61001', 'Q-64002', 'NFANDROID2', 'J-30021', 'B-A8002', '95', '94', '93', '91', '90', '89', '88', '87', '86', '85', '84', '83', '82', '81', '80', '8.0', '79', '78', '77', '700001', '6796', '6467', '6', '5738', '5507', '4893', '4', '3', '2', '14', '13', '1', '0']\n",
      "\n",
      "Errcode의 종류 : 2805개\n"
     ]
    }
   ],
   "source": [
    "print(sorted(list(train_err.errcode.unique())[:50], reverse = True))\n",
    "print(\"\\nErrcode의 종류 : {}개\".format(len(list(train_err.errcode.unique()))))"
   ]
  },
  {
   "cell_type": "code",
   "execution_count": 153,
   "metadata": {},
   "outputs": [
    {
     "data": {
      "text/html": [
       "<div>\n",
       "<style scoped>\n",
       "    .dataframe tbody tr th:only-of-type {\n",
       "        vertical-align: middle;\n",
       "    }\n",
       "\n",
       "    .dataframe tbody tr th {\n",
       "        vertical-align: top;\n",
       "    }\n",
       "\n",
       "    .dataframe thead th {\n",
       "        text-align: right;\n",
       "    }\n",
       "</style>\n",
       "<table border=\"1\" class=\"dataframe\">\n",
       "  <thead>\n",
       "    <tr style=\"text-align: right;\">\n",
       "      <th></th>\n",
       "      <th>errcode</th>\n",
       "    </tr>\n",
       "    <tr>\n",
       "      <th>errtype</th>\n",
       "      <th></th>\n",
       "    </tr>\n",
       "  </thead>\n",
       "  <tbody>\n",
       "    <tr>\n",
       "      <th>1</th>\n",
       "      <td>[0, P-44010, P-41011, P-41007 , P-44010 , P-41...</td>\n",
       "    </tr>\n",
       "    <tr>\n",
       "      <th>2</th>\n",
       "      <td>[1, 0]</td>\n",
       "    </tr>\n",
       "    <tr>\n",
       "      <th>3</th>\n",
       "      <td>[1, 2, 0]</td>\n",
       "    </tr>\n",
       "    <tr>\n",
       "      <th>4</th>\n",
       "      <td>[0, 1]</td>\n",
       "    </tr>\n",
       "    <tr>\n",
       "      <th>5</th>\n",
       "      <td>[B-A8002, Q-64002, S-61001, U-81009, V-21008, ...</td>\n",
       "    </tr>\n",
       "    <tr>\n",
       "      <th>6</th>\n",
       "      <td>[1, 14]</td>\n",
       "    </tr>\n",
       "    <tr>\n",
       "      <th>7</th>\n",
       "      <td>[1, 14]</td>\n",
       "    </tr>\n",
       "    <tr>\n",
       "      <th>8</th>\n",
       "      <td>[PHONE_ERR, PUBLIC_ERR, 20]</td>\n",
       "    </tr>\n",
       "    <tr>\n",
       "      <th>9</th>\n",
       "      <td>[V-21002, V-21005, 1, C-14014, V-21008, C-1203...</td>\n",
       "    </tr>\n",
       "    <tr>\n",
       "      <th>10</th>\n",
       "      <td>[1]</td>\n",
       "    </tr>\n",
       "    <tr>\n",
       "      <th>11</th>\n",
       "      <td>[1]</td>\n",
       "    </tr>\n",
       "    <tr>\n",
       "      <th>12</th>\n",
       "      <td>[1]</td>\n",
       "    </tr>\n",
       "    <tr>\n",
       "      <th>13</th>\n",
       "      <td>[1]</td>\n",
       "    </tr>\n",
       "    <tr>\n",
       "      <th>14</th>\n",
       "      <td>[1, 14, 13]</td>\n",
       "    </tr>\n",
       "    <tr>\n",
       "      <th>15</th>\n",
       "      <td>[1]</td>\n",
       "    </tr>\n",
       "    <tr>\n",
       "      <th>16</th>\n",
       "      <td>[1]</td>\n",
       "    </tr>\n",
       "    <tr>\n",
       "      <th>17</th>\n",
       "      <td>[14, 13, 1, 21, 12]</td>\n",
       "    </tr>\n",
       "    <tr>\n",
       "      <th>18</th>\n",
       "      <td>[1]</td>\n",
       "    </tr>\n",
       "    <tr>\n",
       "      <th>19</th>\n",
       "      <td>[1]</td>\n",
       "    </tr>\n",
       "    <tr>\n",
       "      <th>20</th>\n",
       "      <td>[1]</td>\n",
       "    </tr>\n",
       "    <tr>\n",
       "      <th>21</th>\n",
       "      <td>[1]</td>\n",
       "    </tr>\n",
       "    <tr>\n",
       "      <th>22</th>\n",
       "      <td>[1]</td>\n",
       "    </tr>\n",
       "    <tr>\n",
       "      <th>23</th>\n",
       "      <td>[standby, active, connection timeout, terminat...</td>\n",
       "    </tr>\n",
       "    <tr>\n",
       "      <th>24</th>\n",
       "      <td>[1]</td>\n",
       "    </tr>\n",
       "    <tr>\n",
       "      <th>25</th>\n",
       "      <td>[2, scanning timeout, 1, UNKNOWN, terminate by...</td>\n",
       "    </tr>\n",
       "    <tr>\n",
       "      <th>26</th>\n",
       "      <td>[1]</td>\n",
       "    </tr>\n",
       "    <tr>\n",
       "      <th>27</th>\n",
       "      <td>[1]</td>\n",
       "    </tr>\n",
       "    <tr>\n",
       "      <th>28</th>\n",
       "      <td>[1]</td>\n",
       "    </tr>\n",
       "    <tr>\n",
       "      <th>30</th>\n",
       "      <td>[4, 0, 1, 3, 2]</td>\n",
       "    </tr>\n",
       "    <tr>\n",
       "      <th>31</th>\n",
       "      <td>[1, 0]</td>\n",
       "    </tr>\n",
       "    <tr>\n",
       "      <th>32</th>\n",
       "      <td>[80, 79, 81, 86, 84, 77, 78, 85, 90, 89, 88, 8...</td>\n",
       "    </tr>\n",
       "    <tr>\n",
       "      <th>33</th>\n",
       "      <td>[2, 3, 1]</td>\n",
       "    </tr>\n",
       "    <tr>\n",
       "      <th>34</th>\n",
       "      <td>[4, 1, 2, 3, 6, 5]</td>\n",
       "    </tr>\n",
       "    <tr>\n",
       "      <th>35</th>\n",
       "      <td>[1]</td>\n",
       "    </tr>\n",
       "    <tr>\n",
       "      <th>36</th>\n",
       "      <td>[8.0]</td>\n",
       "    </tr>\n",
       "    <tr>\n",
       "      <th>37</th>\n",
       "      <td>[0, 1]</td>\n",
       "    </tr>\n",
       "    <tr>\n",
       "      <th>38</th>\n",
       "      <td>[6796, 5738, 6467, 4893, 5507, 39391, 3113, 36...</td>\n",
       "    </tr>\n",
       "    <tr>\n",
       "      <th>39</th>\n",
       "      <td>[1, 0]</td>\n",
       "    </tr>\n",
       "    <tr>\n",
       "      <th>40</th>\n",
       "      <td>[1, 0]</td>\n",
       "    </tr>\n",
       "    <tr>\n",
       "      <th>41</th>\n",
       "      <td>[NFANDROID2]</td>\n",
       "    </tr>\n",
       "    <tr>\n",
       "      <th>42</th>\n",
       "      <td>[3, 2]</td>\n",
       "    </tr>\n",
       "  </tbody>\n",
       "</table>\n",
       "</div>"
      ],
      "text/plain": [
       "                                                   errcode\n",
       "errtype                                                   \n",
       "1        [0, P-44010, P-41011, P-41007 , P-44010 , P-41...\n",
       "2                                                   [1, 0]\n",
       "3                                                [1, 2, 0]\n",
       "4                                                   [0, 1]\n",
       "5        [B-A8002, Q-64002, S-61001, U-81009, V-21008, ...\n",
       "6                                                  [1, 14]\n",
       "7                                                  [1, 14]\n",
       "8                              [PHONE_ERR, PUBLIC_ERR, 20]\n",
       "9        [V-21002, V-21005, 1, C-14014, V-21008, C-1203...\n",
       "10                                                     [1]\n",
       "11                                                     [1]\n",
       "12                                                     [1]\n",
       "13                                                     [1]\n",
       "14                                             [1, 14, 13]\n",
       "15                                                     [1]\n",
       "16                                                     [1]\n",
       "17                                     [14, 13, 1, 21, 12]\n",
       "18                                                     [1]\n",
       "19                                                     [1]\n",
       "20                                                     [1]\n",
       "21                                                     [1]\n",
       "22                                                     [1]\n",
       "23       [standby, active, connection timeout, terminat...\n",
       "24                                                     [1]\n",
       "25       [2, scanning timeout, 1, UNKNOWN, terminate by...\n",
       "26                                                     [1]\n",
       "27                                                     [1]\n",
       "28                                                     [1]\n",
       "30                                         [4, 0, 1, 3, 2]\n",
       "31                                                  [1, 0]\n",
       "32       [80, 79, 81, 86, 84, 77, 78, 85, 90, 89, 88, 8...\n",
       "33                                               [2, 3, 1]\n",
       "34                                      [4, 1, 2, 3, 6, 5]\n",
       "35                                                     [1]\n",
       "36                                                   [8.0]\n",
       "37                                                  [0, 1]\n",
       "38       [6796, 5738, 6467, 4893, 5507, 39391, 3113, 36...\n",
       "39                                                  [1, 0]\n",
       "40                                                  [1, 0]\n",
       "41                                            [NFANDROID2]\n",
       "42                                                  [3, 2]"
      ]
     },
     "metadata": {},
     "output_type": "display_data"
    }
   ],
   "source": [
    "ey_ec = train_err.groupby('errtype')['errcode'].unique().to_frame()\n",
    "display(ey_ec)"
   ]
  },
  {
   "cell_type": "markdown",
   "metadata": {},
   "source": [
    "→ &nbsp; <b>Errtype은 Errcode를 군집화시킨 변수</b>임을 알 수 있다."
   ]
  },
  {
   "cell_type": "markdown",
   "metadata": {},
   "source": [
    "###### 2. Errtype은 중요한 변수였고. Errcode가 Errtype에 속한다. 그렇다면  <u><b>Errcode도 종류마다 불만 제기에 미치는 영향력이 다를까?</b></u>  "
   ]
  },
  {
   "cell_type": "markdown",
   "metadata": {},
   "source": [
    "* 먼저, Errcode의 대표적인 종류는 다음과 같다.\n",
    "    - P-41001과 같은 <u>`문자+숫자형`</u> 에러코드\n",
    "    - 1, 13, 14와 같은 <u>`두자리수 이하`</u>의 에러코드\n",
    "    - 3113, 3395와 같은 <u>`세자리수 이상`</u>의 에러코드\n",
    "    - Connection Timeout, L2CAP Connection Cancelled와 같은 <u>`문장형`</u> 에러코드"
   ]
  },
  {
   "cell_type": "code",
   "execution_count": 154,
   "metadata": {},
   "outputs": [
    {
     "data": {
      "text/plain": [
       "['P-41001', 'P-41007', 'P-41007 ', 'P-41011', 'P-41011 ', 'P-44010 ']"
      ]
     },
     "metadata": {},
     "output_type": "display_data"
    },
    {
     "data": {
      "text/plain": [
       "['C-11017', 'H-51042', 'J-30021', 'Q-64001', 'S-64002', 'S-65002']"
      ]
     },
     "metadata": {},
     "output_type": "display_data"
    },
    {
     "data": {
      "text/plain": [
       "['1', '13', '14']"
      ]
     },
     "metadata": {},
     "output_type": "display_data"
    },
    {
     "data": {
      "text/plain": [
       "['L2CAP connection cancelled',\n",
       " 'UNKNOWN',\n",
       " 'connection fail to establish',\n",
       " 'connection timeout',\n",
       " 'connectionterminated by local host',\n",
       " 'terminate by peer user']"
      ]
     },
     "metadata": {},
     "output_type": "display_data"
    },
    {
     "data": {
      "text/plain": [
       "['77', '78', '84', '85', '86', '90']"
      ]
     },
     "metadata": {},
     "output_type": "display_data"
    },
    {
     "data": {
      "text/plain": [
       "['3113', '3395', '3674', '39391', '4893', '5507']"
      ]
     },
     "metadata": {},
     "output_type": "display_data"
    }
   ],
   "source": [
    "ey_ec = ey_ec.reset_index()\n",
    "display(sorted(list(ey_ec[ey_ec['errtype'] == 1].errcode.values[0][2:8])))\n",
    "display(sorted(list(ey_ec[ey_ec['errtype'] == 5].errcode.values[0][6:12])))\n",
    "display(sorted(list(ey_ec[ey_ec['errtype'] == 14].errcode.values[0][:])))\n",
    "display(sorted(list(ey_ec[ey_ec['errtype'] == 25].errcode.values[0][3:9])))\n",
    "display(sorted(list(ey_ec[ey_ec['errtype'] == 32].errcode.values[0][3:9])))\n",
    "display(sorted(list(ey_ec[ey_ec['errtype'] == 38].errcode.values[0][3:9])))"
   ]
  },
  {
   "cell_type": "markdown",
   "metadata": {},
   "source": [
    "→ &nbsp;이 중에서 <b>불만 제기 확률이 높은 Errcode</b>에는 어떤 것들이 있을까?"
   ]
  },
  {
   "cell_type": "code",
   "execution_count": 155,
   "metadata": {},
   "outputs": [],
   "source": [
    "problem = train_prob.copy()\n",
    "p_id = sorted(problem['user_id'].unique())\n",
    "\n",
    "errin = err_total[err_total['user_id'].isin(p_id)]['errcode'].value_counts().to_dict()\n",
    "errout = err_total[~err_total['user_id'].isin(p_id)]['errcode'].value_counts().to_dict()"
   ]
  },
  {
   "cell_type": "code",
   "execution_count": 156,
   "metadata": {},
   "outputs": [],
   "source": [
    "errcode_prob = []\n",
    "most_error = []\n",
    "\n",
    "for i in errin:\n",
    "    try :\n",
    "        errcode_prob.append((i,errin[i]/(errin[i]+errout[i]),errin[i],errout[i]))\n",
    "    except :\n",
    "        errcode_prob.append((i,1,errin[i],0))\n",
    "    \n",
    "for i in errout:\n",
    "    if i in errin:\n",
    "        continue\n",
    "    errcode_prob.append((i,0,0,errout[i]))"
   ]
  },
  {
   "cell_type": "code",
   "execution_count": 157,
   "metadata": {},
   "outputs": [],
   "source": [
    "errcode_prob.sort(key = lambda x: x[1], reverse = True)"
   ]
  },
  {
   "cell_type": "code",
   "execution_count": 158,
   "metadata": {},
   "outputs": [
    {
     "name": "stdout",
     "output_type": "stream",
     "text": [
      "불만 제기 확률이 높은 에러코드 : ['scanning timeout', '5', '6', 'V-21008', 'terminate by peer user', 'V-21005']\n",
      "불만 제기 확률이 낮은 에러코드 : ['Q-64001', 'Q-64002', 'P-44010', 'PHONE_ERR', 'B-51049', 'H-51049']\n"
     ]
    }
   ],
   "source": [
    "most_error = []\n",
    "most_not_error = []\n",
    "\n",
    "for i in errcode_prob:\n",
    "    if i[2] >= 20 and i[3] >= 20:\n",
    "        if i[1] >= 0.75:\n",
    "            most_error.append(i[0])\n",
    "        elif i[1] <= 0.25 :\n",
    "            most_not_error.append(i[0])\n",
    "\n",
    "print(\"불만 제기 확률이 높은 에러코드 : {0}\".format(most_error))\n",
    "print(\"불만 제기 확률이 낮은 에러코드 : {0}\".format(most_not_error))"
   ]
  },
  {
   "cell_type": "markdown",
   "metadata": {},
   "source": [
    "<b>특정 에러 코드가 불만 제기에 유의미한 영향을 미침</b>임을 알 수 있다.<br>\n",
    "→ &nbsp; 따라서 <span style=\"color:red\">에러 코드와 불만 제기 간의 관계</span>를 알 수 있는 파생변수를 만들어야 함을 알 수 있다.<br>\n",
    "&nbsp;&nbsp;&nbsp;&nbsp;&nbsp;&nbsp;<span style=\"color:gray\">(이것 또한 이동평균을 이용하여 Errtype과 같은 형식으로 만든다)</span>"
   ]
  },
  {
   "cell_type": "markdown",
   "metadata": {},
   "source": [
    "---"
   ]
  },
  {
   "cell_type": "markdown",
   "metadata": {},
   "source": [
    "## 5-3. Fwver (펌웨어 버전)"
   ]
  },
  {
   "cell_type": "markdown",
   "metadata": {},
   "source": [
    "* 먼저, Fwver의 대표적인 종류는 다음과 같다.\n",
    "    - '03'으로 시작하는 펌웨어 버전\n",
    "    - '04'으로 시작하는 펌웨어 버전\n",
    "    - '05'으로 시작하는 펌웨어 버전\n",
    "    - '10', '8.5.3' 특수한 펌웨어 버전"
   ]
  },
  {
   "cell_type": "code",
   "execution_count": 159,
   "metadata": {},
   "outputs": [
    {
     "name": "stdout",
     "output_type": "stream",
     "text": [
      "['03.11.1141', '03.11.1149', '03.11.1167', '04.16.2641', '04.16.3345', '04.16.3439', '04.16.3553', '04.16.3569', '04.16.3571', '04.22.1442', '04.22.1656', '04.22.1666', '04.22.1684', '04.22.1750', '04.22.1778', '04.33.1095', '04.33.1125', '04.33.1149', '04.33.1171', '04.33.1185', '04.33.1261', '04.73.2237', '04.73.2571', '04.82.1684', '04.82.1730', '04.82.1778', '05.15.2090', '05.15.2092', '05.15.2114', '05.15.2120', '05.15.2122', '05.15.2138', '05.15.3104', '05.66.3237', '05.66.3571', '10', '8.5.3']\n"
     ]
    }
   ],
   "source": [
    "print(sorted(train_err.fwver.unique()))"
   ]
  },
  {
   "cell_type": "markdown",
   "metadata": {},
   "source": [
    "###### 1. 펌웨어 버전에 따라서, 불만 제기 확률이 달라질까?"
   ]
  },
  {
   "cell_type": "code",
   "execution_count": 160,
   "metadata": {},
   "outputs": [],
   "source": [
    "def relation_fw_complain(data): # 펌웨어 버젼과 불만 제기와의 관계\n",
    "    fwlst = list(data['fwver'].value_counts().keys())\n",
    "    result = []\n",
    "    for i in tqdm(fwlst):\n",
    "        f1 = sorted(list(data[data['fwver'] == i].user_id.unique()))\n",
    "        f2 = sorted(list(train_prob[train_prob['user_id'].isin(f1)]['user_id'].unique()))\n",
    "        if (len(f2)/len(f1) >= 0.5) and (len(f1) >= 5):\n",
    "            result.append([i, len(f2)/len(f1), f2, f1])\n",
    "    return result"
   ]
  },
  {
   "cell_type": "code",
   "execution_count": 161,
   "metadata": {},
   "outputs": [],
   "source": [
    "def view_relation_fw_complain(data):\n",
    "    result = relation_fw_complain(data)\n",
    "    for i in range(len(result)):\n",
    "        fw = result[i][0]\n",
    "        fp = result[i][1] * 100\n",
    "        fww = result[i][2]\n",
    "        fwp = result[i][3]\n",
    "        print(\"펌웨어 버전 %s를 사용중인 사람들 가운데, %.2f%%는 불만을 제기하였습니다. \\n불만 제기를 한 사람의 수는 전체 %s명중 %s명입니다.\\n\"%(fw, fp, len(fwp), len(fww)))"
   ]
  },
  {
   "cell_type": "code",
   "execution_count": 162,
   "metadata": {},
   "outputs": [
    {
     "name": "stderr",
     "output_type": "stream",
     "text": [
      "100%|██████████| 37/37 [00:42<00:00,  1.16s/it]"
     ]
    },
    {
     "name": "stdout",
     "output_type": "stream",
     "text": [
      "펌웨어 버전 04.16.3571를 사용중인 사람들 가운데, 58.76%는 불만을 제기하였습니다. \n",
      "불만 제기를 한 사람의 수는 전체 502명중 295명입니다.\n",
      "\n",
      "펌웨어 버전 05.66.3237를 사용중인 사람들 가운데, 52.46%는 불만을 제기하였습니다. \n",
      "불만 제기를 한 사람의 수는 전체 61명중 32명입니다.\n",
      "\n",
      "펌웨어 버전 04.82.1778를 사용중인 사람들 가운데, 50.00%는 불만을 제기하였습니다. \n",
      "불만 제기를 한 사람의 수는 전체 40명중 20명입니다.\n",
      "\n",
      "펌웨어 버전 05.66.3571를 사용중인 사람들 가운데, 53.33%는 불만을 제기하였습니다. \n",
      "불만 제기를 한 사람의 수는 전체 15명중 8명입니다.\n",
      "\n",
      "펌웨어 버전 04.33.1149를 사용중인 사람들 가운데, 70.00%는 불만을 제기하였습니다. \n",
      "불만 제기를 한 사람의 수는 전체 160명중 112명입니다.\n",
      "\n",
      "펌웨어 버전 04.73.2571를 사용중인 사람들 가운데, 66.67%는 불만을 제기하였습니다. \n",
      "불만 제기를 한 사람의 수는 전체 12명중 8명입니다.\n",
      "\n",
      "펌웨어 버전 04.33.1125를 사용중인 사람들 가운데, 66.67%는 불만을 제기하였습니다. \n",
      "불만 제기를 한 사람의 수는 전체 6명중 4명입니다.\n",
      "\n"
     ]
    },
    {
     "name": "stderr",
     "output_type": "stream",
     "text": [
      "\n"
     ]
    }
   ],
   "source": [
    "view_relation_fw_complain(train_err)"
   ]
  },
  {
   "cell_type": "markdown",
   "metadata": {},
   "source": [
    "<b>특정 펌웨어 버전이 불만 제기에 유의미한 영향을 미침</b>임을 알 수 있다.<br>\n",
    "→ &nbsp; 따라서 <span style=\"color:red\">펌웨어 버전과 불만 제기 간의 관계</span>를 알 수 있는 파생변수를 만들어야 함을 알 수 있다."
   ]
  },
  {
   "cell_type": "markdown",
   "metadata": {},
   "source": [
    "---"
   ]
  },
  {
   "cell_type": "code",
   "execution_count": 163,
   "metadata": {
    "scrolled": true
   },
   "outputs": [
    {
     "name": "stderr",
     "output_type": "stream",
     "text": [
      "100%|██████████| 27/27 [00:01<00:00, 14.95it/s]"
     ]
    },
    {
     "name": "stdout",
     "output_type": "stream",
     "text": [
      "펌웨어 버전 04.22.1684를 사용중인 사람들 가운데, 59.09%는 불만을 제기하였습니다. \n",
      "불만 제기를 한 사람의 수는 전체 22명중 13명입니다.\n",
      "\n",
      "펌웨어 버전 09.17.1431를 사용중인 사람들 가운데, 96.00%는 불만을 제기하였습니다. \n",
      "불만 제기를 한 사람의 수는 전체 25명중 24명입니다.\n",
      "\n",
      "펌웨어 버전 04.16.3571를 사용중인 사람들 가운데, 63.24%는 불만을 제기하였습니다. \n",
      "불만 제기를 한 사람의 수는 전체 68명중 43명입니다.\n",
      "\n",
      "펌웨어 버전 04.82.1684를 사용중인 사람들 가운데, 54.55%는 불만을 제기하였습니다. \n",
      "불만 제기를 한 사람의 수는 전체 22명중 12명입니다.\n",
      "\n",
      "펌웨어 버전 04.33.1149를 사용중인 사람들 가운데, 70.27%는 불만을 제기하였습니다. \n",
      "불만 제기를 한 사람의 수는 전체 37명중 26명입니다.\n",
      "\n",
      "펌웨어 버전 05.66.3237를 사용중인 사람들 가운데, 75.00%는 불만을 제기하였습니다. \n",
      "불만 제기를 한 사람의 수는 전체 8명중 6명입니다.\n",
      "\n",
      "펌웨어 버전 04.82.1778를 사용중인 사람들 가운데, 61.54%는 불만을 제기하였습니다. \n",
      "불만 제기를 한 사람의 수는 전체 13명중 8명입니다.\n",
      "\n",
      "펌웨어 버전 05.66.3571를 사용중인 사람들 가운데, 60.00%는 불만을 제기하였습니다. \n",
      "불만 제기를 한 사람의 수는 전체 5명중 3명입니다.\n",
      "\n"
     ]
    },
    {
     "name": "stderr",
     "output_type": "stream",
     "text": [
      "\n"
     ]
    }
   ],
   "source": [
    "view_relation_fw_complain(train_qual)"
   ]
  },
  {
   "cell_type": "markdown",
   "metadata": {},
   "source": [
    "<center><span style=\"color:gray\">(참고 : Train Quality Data의 Fwver의 경우 : 같은 함수를 적용, 하단에 기재)</span></center>"
   ]
  },
  {
   "cell_type": "markdown",
   "metadata": {},
   "source": [
    "---"
   ]
  },
  {
   "cell_type": "markdown",
   "metadata": {},
   "source": [
    "###### 2. Fwver 앞 4자리만 같고, 뒤 4자리가 다른 버전들이 존재 → <u>펌웨어 버전 업데이트</u>가 유의미할까?"
   ]
  },
  {
   "cell_type": "code",
   "execution_count": 164,
   "metadata": {},
   "outputs": [],
   "source": [
    "train_fw = train_err.copy()\n",
    "train_fw['fwver'] = train_fw['fwver'].apply(lambda x : x.replace(\".\",\"\"))\n",
    "train_fw['fwver'] = train_fw['fwver'].apply(lambda x : int(x))"
   ]
  },
  {
   "cell_type": "code",
   "execution_count": 165,
   "metadata": {},
   "outputs": [],
   "source": [
    "te_uf = train_fw[['user_id','fwver']]\n",
    "fw_df = ~(te_uf == te_uf.shift(1))"
   ]
  },
  {
   "cell_type": "code",
   "execution_count": 166,
   "metadata": {},
   "outputs": [],
   "source": [
    "logical = (fw_df.user_id.apply(int) + fw_df.fwver.apply(int)) > 0\n",
    "tre_fw_counts = te_uf[logical]"
   ]
  },
  {
   "cell_type": "code",
   "execution_count": 167,
   "metadata": {},
   "outputs": [],
   "source": [
    "user_id_2_fw = tre_fw_counts.user_id.value_counts()\n",
    "user_id_lst_2_fw = list(user_id_2_fw.loc[user_id_2_fw == 2].to_frame().index)"
   ]
  },
  {
   "cell_type": "code",
   "execution_count": 168,
   "metadata": {},
   "outputs": [],
   "source": [
    "sort_two_fw_user = train_fw.loc[train_fw.user_id.isin(user_id_lst_2_fw)]. \\\n",
    "drop_duplicates(['user_id','fwver'],keep='last'). \\\n",
    "drop_duplicates('user_id', keep='first').sort_values(\"time\").user_id"
   ]
  },
  {
   "cell_type": "code",
   "execution_count": 169,
   "metadata": {},
   "outputs": [
    {
     "name": "stdout",
     "output_type": "stream",
     "text": [
      "펌웨어 버전이 변하는 시기에 불만을 제기한 사람 36.45%\n"
     ]
    }
   ],
   "source": [
    "operator1 = len(user_id_lst_2_fw)\n",
    "operator2 = len(list(train_prob[train_prob['user_id'].isin(user_id_lst_2_fw)].user_id.unique()))\n",
    "\n",
    "print(\"펌웨어 버전이 변하는 시기에 불만을 제기한 사람 {0}%\".format(round(operator2 / operator1 * 100,2)))"
   ]
  },
  {
   "cell_type": "markdown",
   "metadata": {},
   "source": [
    "<b>펌웨어 버전 업데이트가 불만 제기에 유의미한 영향을 미침</b>임을 알 수 있다.<br>\n",
    " → &nbsp; 따라서 <span style=\"color:red\">펌웨어 버전의 변화와 불만 제기 간이 관계</span>를 알 수 있는 파생변수를 만들어야 함을 알 수 있다."
   ]
  },
  {
   "cell_type": "markdown",
   "metadata": {},
   "source": [
    "---"
   ]
  },
  {
   "cell_type": "markdown",
   "metadata": {},
   "source": [
    "## 5-4. Model (모델 버전)"
   ]
  },
  {
   "cell_type": "markdown",
   "metadata": {},
   "source": [
    "* 먼저, Model의 종류는 다음과 같다.\n",
    "    - Model_0부터 Model_8까지 총 `9가지 종류`의 모델 넘버가 존재"
   ]
  },
  {
   "cell_type": "code",
   "execution_count": 170,
   "metadata": {},
   "outputs": [
    {
     "name": "stdout",
     "output_type": "stream",
     "text": [
      "['model_0', 'model_1', 'model_2', 'model_3', 'model_4', 'model_5', 'model_6', 'model_7', 'model_8']\n"
     ]
    }
   ],
   "source": [
    "print(sorted(list(train_err.model_nm.unique())))"
   ]
  },
  {
   "cell_type": "markdown",
   "metadata": {},
   "source": [
    "###### 1. 모델 버전과 펌웨어 버전의 관계"
   ]
  },
  {
   "cell_type": "code",
   "execution_count": 171,
   "metadata": {},
   "outputs": [
    {
     "data": {
      "text/html": [
       "<div>\n",
       "<style scoped>\n",
       "    .dataframe tbody tr th:only-of-type {\n",
       "        vertical-align: middle;\n",
       "    }\n",
       "\n",
       "    .dataframe tbody tr th {\n",
       "        vertical-align: top;\n",
       "    }\n",
       "\n",
       "    .dataframe thead th {\n",
       "        text-align: right;\n",
       "    }\n",
       "</style>\n",
       "<table border=\"1\" class=\"dataframe\">\n",
       "  <thead>\n",
       "    <tr style=\"text-align: right;\">\n",
       "      <th></th>\n",
       "      <th>model_nm</th>\n",
       "      <th>fwver</th>\n",
       "    </tr>\n",
       "  </thead>\n",
       "  <tbody>\n",
       "    <tr>\n",
       "      <th>0</th>\n",
       "      <td>model_0</td>\n",
       "      <td>[04.22.1750, 04.22.1778, 04.22.1684, 04.22.166...</td>\n",
       "    </tr>\n",
       "    <tr>\n",
       "      <th>1</th>\n",
       "      <td>model_1</td>\n",
       "      <td>[04.16.3553, 04.16.3571, 04.16.3439, 04.16.356...</td>\n",
       "    </tr>\n",
       "    <tr>\n",
       "      <th>2</th>\n",
       "      <td>model_2</td>\n",
       "      <td>[04.33.1185, 04.33.1261, 04.33.1149, 04.33.117...</td>\n",
       "    </tr>\n",
       "    <tr>\n",
       "      <th>3</th>\n",
       "      <td>model_3</td>\n",
       "      <td>[05.15.2138, 05.15.2120, 05.15.2090, 05.15.310...</td>\n",
       "    </tr>\n",
       "    <tr>\n",
       "      <th>4</th>\n",
       "      <td>model_4</td>\n",
       "      <td>[03.11.1149, 03.11.1167, 03.11.1141]</td>\n",
       "    </tr>\n",
       "    <tr>\n",
       "      <th>5</th>\n",
       "      <td>model_5</td>\n",
       "      <td>[04.82.1684, 04.82.1778, 04.82.1730]</td>\n",
       "    </tr>\n",
       "    <tr>\n",
       "      <th>6</th>\n",
       "      <td>model_6</td>\n",
       "      <td>[10, 8.5.3]</td>\n",
       "    </tr>\n",
       "    <tr>\n",
       "      <th>7</th>\n",
       "      <td>model_7</td>\n",
       "      <td>[05.66.3237, 05.66.3571]</td>\n",
       "    </tr>\n",
       "    <tr>\n",
       "      <th>8</th>\n",
       "      <td>model_8</td>\n",
       "      <td>[04.73.2237, 04.73.2571]</td>\n",
       "    </tr>\n",
       "  </tbody>\n",
       "</table>\n",
       "</div>"
      ],
      "text/plain": [
       "  model_nm                                              fwver\n",
       "0  model_0  [04.22.1750, 04.22.1778, 04.22.1684, 04.22.166...\n",
       "1  model_1  [04.16.3553, 04.16.3571, 04.16.3439, 04.16.356...\n",
       "2  model_2  [04.33.1185, 04.33.1261, 04.33.1149, 04.33.117...\n",
       "3  model_3  [05.15.2138, 05.15.2120, 05.15.2090, 05.15.310...\n",
       "4  model_4               [03.11.1149, 03.11.1167, 03.11.1141]\n",
       "5  model_5               [04.82.1684, 04.82.1778, 04.82.1730]\n",
       "6  model_6                                        [10, 8.5.3]\n",
       "7  model_7                           [05.66.3237, 05.66.3571]\n",
       "8  model_8                           [04.73.2237, 04.73.2571]"
      ]
     },
     "metadata": {},
     "output_type": "display_data"
    }
   ],
   "source": [
    "display(train_err.groupby('model_nm')['fwver'].unique().to_frame().reset_index())"
   ]
  },
  {
   "cell_type": "code",
   "execution_count": 172,
   "metadata": {},
   "outputs": [
    {
     "name": "stdout",
     "output_type": "stream",
     "text": [
      "모델 :  model_0 →\n",
      " ['04.22.1442', '04.22.1656', '04.22.1666', '04.22.1684', '04.22.1750', '04.22.1778']\n",
      "모델 :  model_1 →\n",
      " ['04.16.2641', '04.16.3345', '04.16.3439', '04.16.3553', '04.16.3569', '04.16.3571']\n",
      "모델 :  model_2 →\n",
      " ['04.33.1095', '04.33.1125', '04.33.1149', '04.33.1171', '04.33.1185', '04.33.1261']\n",
      "모델 :  model_3 →\n",
      " ['05.15.2090', '05.15.2092', '05.15.2114', '05.15.2120', '05.15.2122', '05.15.2138', '05.15.3104']\n",
      "모델 :  model_4 →\n",
      " ['03.11.1141', '03.11.1149', '03.11.1167']\n",
      "모델 :  model_5 →\n",
      " ['04.82.1684', '04.82.1730', '04.82.1778']\n",
      "모델 :  model_6 →\n",
      " ['10', '8.5.3']\n",
      "모델 :  model_7 →\n",
      " ['05.66.3237', '05.66.3571']\n",
      "모델 :  model_8 →\n",
      " ['04.73.2237', '04.73.2571']\n"
     ]
    }
   ],
   "source": [
    "# 모델마다 펌웨어 버전이 다름을 보여주는 코드\n",
    "for i in range(9):\n",
    "    nm = 'model_' + str(i)\n",
    "    print(\"모델 : \", nm, \"→\\n\", sorted(list(train_err[train_err['model_nm'] == nm]['fwver'].unique())))"
   ]
  },
  {
   "cell_type": "markdown",
   "metadata": {},
   "source": [
    " → &nbsp; 모델과 펌웨어 버전은 종속적인 관계로, <u><b>모델별 펌웨어 버전이 존재함</b></u>을 알 수 있다."
   ]
  },
  {
   "cell_type": "markdown",
   "metadata": {},
   "source": [
    "###### 2. <u>모델 버전 변경</u>이 유의미할까?"
   ]
  },
  {
   "cell_type": "code",
   "execution_count": 173,
   "metadata": {},
   "outputs": [],
   "source": [
    "train_md = train_err.copy()\n",
    "train_md['model_nm'] = train_md['model_nm'].apply(lambda x : x.replace(\"_\",\"\"))\n",
    "train_md['model_nm'] = train_md['model_nm'].apply(lambda x : str(x)[5])"
   ]
  },
  {
   "cell_type": "code",
   "execution_count": 174,
   "metadata": {},
   "outputs": [],
   "source": [
    "te_uf = train_md[['user_id','model_nm']]\n",
    "md_df = ~(te_uf == te_uf.shift(1))"
   ]
  },
  {
   "cell_type": "code",
   "execution_count": 175,
   "metadata": {},
   "outputs": [],
   "source": [
    "logical = (md_df.user_id.apply(int) + md_df.model_nm.apply(int)) > 0\n",
    "tre_md_counts = te_uf[logical]"
   ]
  },
  {
   "cell_type": "code",
   "execution_count": 176,
   "metadata": {},
   "outputs": [],
   "source": [
    "user_id_2_md = tre_md_counts.user_id.value_counts()\n",
    "user_id_lst_2_md = list(user_id_2_md.loc[user_id_2_md == 2].to_frame().index)"
   ]
  },
  {
   "cell_type": "code",
   "execution_count": 177,
   "metadata": {},
   "outputs": [],
   "source": [
    "sort_two_md_user = train_md.loc[train_md.user_id.isin(user_id_lst_2_md)]. \\\n",
    "drop_duplicates(['user_id','model_nm'],keep='last'). \\\n",
    "drop_duplicates('user_id', keep='first').sort_values(\"time\").user_id"
   ]
  },
  {
   "cell_type": "code",
   "execution_count": 178,
   "metadata": {},
   "outputs": [
    {
     "name": "stdout",
     "output_type": "stream",
     "text": [
      "모델이 변하는 시기에 불만을 제기한 사람 91.57%\n"
     ]
    }
   ],
   "source": [
    "operator1_m = len(user_id_lst_2_md)\n",
    "operator2_m = len(list(train_prob[train_prob['user_id'].isin(user_id_lst_2_md)].user_id.unique()))\n",
    "\n",
    "print(\"모델이 변하는 시기에 불만을 제기한 사람 {0}%\".format(round(operator2_m / operator1_m * 100,2)))"
   ]
  },
  {
   "cell_type": "markdown",
   "metadata": {},
   "source": [
    "<b>모델 버전 변경이 불만 제기에 아주 유의미한 영향을 미침</b>임을 알 수 있다.<br>\n",
    " → &nbsp; 따라서 <span style=\"color:red\">모델 버전의 변화와 불만 제기 간의 관계</span>를 알 수 있는 파생변수를 만들어야 함을 알 수 있다.<br>\n",
    " → &nbsp; <span style=\"color:gray\">이는 모델별 펌웨어 버전이 존재하기 때문에, 펌웨어 버전의 변경만으로 대신 증명할 수 있다.</span>"
   ]
  },
  {
   "cell_type": "markdown",
   "metadata": {},
   "source": [
    "---"
   ]
  },
  {
   "cell_type": "markdown",
   "metadata": {},
   "source": [
    "# 6. Quality Data 수치 분석"
   ]
  },
  {
   "cell_type": "markdown",
   "metadata": {},
   "source": [
    "---"
   ]
  },
  {
   "cell_type": "markdown",
   "metadata": {},
   "source": [
    "### 정의 : 사용자의 시스템 작동 중 문제가 발생하면 `측정 가능한 지표`들로 해당 시점으로부터 2시간 단위 수집"
   ]
  },
  {
   "cell_type": "code",
   "execution_count": 179,
   "metadata": {
    "scrolled": true
   },
   "outputs": [
    {
     "data": {
      "text/html": [
       "<div>\n",
       "<style scoped>\n",
       "    .dataframe tbody tr th:only-of-type {\n",
       "        vertical-align: middle;\n",
       "    }\n",
       "\n",
       "    .dataframe tbody tr th {\n",
       "        vertical-align: top;\n",
       "    }\n",
       "\n",
       "    .dataframe thead th {\n",
       "        text-align: right;\n",
       "    }\n",
       "</style>\n",
       "<table border=\"1\" class=\"dataframe\">\n",
       "  <thead>\n",
       "    <tr style=\"text-align: right;\">\n",
       "      <th></th>\n",
       "      <th>user_id</th>\n",
       "      <th>time</th>\n",
       "      <th>quality_0</th>\n",
       "      <th>quality_1</th>\n",
       "      <th>quality_2</th>\n",
       "      <th>quality_3</th>\n",
       "      <th>quality_4</th>\n",
       "      <th>quality_5</th>\n",
       "      <th>quality_6</th>\n",
       "      <th>quality_7</th>\n",
       "      <th>quality_8</th>\n",
       "      <th>quality_9</th>\n",
       "      <th>quality_10</th>\n",
       "      <th>quality_11</th>\n",
       "      <th>quality_12</th>\n",
       "    </tr>\n",
       "  </thead>\n",
       "  <tbody>\n",
       "    <tr>\n",
       "      <th>12372</th>\n",
       "      <td>10265</td>\n",
       "      <td>2020-11-08 07:50:00</td>\n",
       "      <td>0</td>\n",
       "      <td>0</td>\n",
       "      <td>0</td>\n",
       "      <td>0</td>\n",
       "      <td>0</td>\n",
       "      <td>0</td>\n",
       "      <td>0</td>\n",
       "      <td>13</td>\n",
       "      <td>1</td>\n",
       "      <td>119</td>\n",
       "      <td>132</td>\n",
       "      <td>0</td>\n",
       "      <td>2</td>\n",
       "    </tr>\n",
       "    <tr>\n",
       "      <th>12373</th>\n",
       "      <td>10265</td>\n",
       "      <td>2020-11-08 07:50:00</td>\n",
       "      <td>0</td>\n",
       "      <td>0</td>\n",
       "      <td>1</td>\n",
       "      <td>0</td>\n",
       "      <td>0</td>\n",
       "      <td>4</td>\n",
       "      <td>1</td>\n",
       "      <td>13</td>\n",
       "      <td>1</td>\n",
       "      <td>119</td>\n",
       "      <td>132</td>\n",
       "      <td>1</td>\n",
       "      <td>2</td>\n",
       "    </tr>\n",
       "    <tr>\n",
       "      <th>12374</th>\n",
       "      <td>10265</td>\n",
       "      <td>2020-11-08 07:50:00</td>\n",
       "      <td>0</td>\n",
       "      <td>0</td>\n",
       "      <td>4</td>\n",
       "      <td>0</td>\n",
       "      <td>0</td>\n",
       "      <td>12</td>\n",
       "      <td>0</td>\n",
       "      <td>13</td>\n",
       "      <td>1</td>\n",
       "      <td>119</td>\n",
       "      <td>132</td>\n",
       "      <td>1</td>\n",
       "      <td>2</td>\n",
       "    </tr>\n",
       "    <tr>\n",
       "      <th>12375</th>\n",
       "      <td>10265</td>\n",
       "      <td>2020-11-08 07:50:00</td>\n",
       "      <td>0</td>\n",
       "      <td>1</td>\n",
       "      <td>21</td>\n",
       "      <td>0</td>\n",
       "      <td>0</td>\n",
       "      <td>23</td>\n",
       "      <td>12</td>\n",
       "      <td>13</td>\n",
       "      <td>1</td>\n",
       "      <td>119</td>\n",
       "      <td>132</td>\n",
       "      <td>0</td>\n",
       "      <td>2</td>\n",
       "    </tr>\n",
       "    <tr>\n",
       "      <th>12376</th>\n",
       "      <td>10265</td>\n",
       "      <td>2020-11-08 07:50:00</td>\n",
       "      <td>0</td>\n",
       "      <td>0</td>\n",
       "      <td>54</td>\n",
       "      <td>0</td>\n",
       "      <td>0</td>\n",
       "      <td>54</td>\n",
       "      <td>0</td>\n",
       "      <td>13</td>\n",
       "      <td>1</td>\n",
       "      <td>119</td>\n",
       "      <td>132</td>\n",
       "      <td>0</td>\n",
       "      <td>2</td>\n",
       "    </tr>\n",
       "    <tr>\n",
       "      <th>12377</th>\n",
       "      <td>10265</td>\n",
       "      <td>2020-11-08 07:50:00</td>\n",
       "      <td>0</td>\n",
       "      <td>0</td>\n",
       "      <td>0</td>\n",
       "      <td>0</td>\n",
       "      <td>0</td>\n",
       "      <td>0</td>\n",
       "      <td>0</td>\n",
       "      <td>13</td>\n",
       "      <td>1</td>\n",
       "      <td>119</td>\n",
       "      <td>132</td>\n",
       "      <td>0</td>\n",
       "      <td>2</td>\n",
       "    </tr>\n",
       "    <tr>\n",
       "      <th>12378</th>\n",
       "      <td>10265</td>\n",
       "      <td>2020-11-08 07:50:00</td>\n",
       "      <td>0</td>\n",
       "      <td>0</td>\n",
       "      <td>37</td>\n",
       "      <td>0</td>\n",
       "      <td>0</td>\n",
       "      <td>37</td>\n",
       "      <td>0</td>\n",
       "      <td>13</td>\n",
       "      <td>1</td>\n",
       "      <td>119</td>\n",
       "      <td>132</td>\n",
       "      <td>0</td>\n",
       "      <td>2</td>\n",
       "    </tr>\n",
       "    <tr>\n",
       "      <th>12379</th>\n",
       "      <td>10265</td>\n",
       "      <td>2020-11-08 07:50:00</td>\n",
       "      <td>0</td>\n",
       "      <td>0</td>\n",
       "      <td>0</td>\n",
       "      <td>0</td>\n",
       "      <td>0</td>\n",
       "      <td>0</td>\n",
       "      <td>0</td>\n",
       "      <td>13</td>\n",
       "      <td>1</td>\n",
       "      <td>119</td>\n",
       "      <td>132</td>\n",
       "      <td>0</td>\n",
       "      <td>2</td>\n",
       "    </tr>\n",
       "    <tr>\n",
       "      <th>12380</th>\n",
       "      <td>10265</td>\n",
       "      <td>2020-11-08 07:50:00</td>\n",
       "      <td>0</td>\n",
       "      <td>0</td>\n",
       "      <td>0</td>\n",
       "      <td>0</td>\n",
       "      <td>0</td>\n",
       "      <td>0</td>\n",
       "      <td>0</td>\n",
       "      <td>13</td>\n",
       "      <td>1</td>\n",
       "      <td>119</td>\n",
       "      <td>132</td>\n",
       "      <td>0</td>\n",
       "      <td>2</td>\n",
       "    </tr>\n",
       "    <tr>\n",
       "      <th>12381</th>\n",
       "      <td>10265</td>\n",
       "      <td>2020-11-08 07:50:00</td>\n",
       "      <td>0</td>\n",
       "      <td>0</td>\n",
       "      <td>0</td>\n",
       "      <td>0</td>\n",
       "      <td>0</td>\n",
       "      <td>0</td>\n",
       "      <td>0</td>\n",
       "      <td>13</td>\n",
       "      <td>1</td>\n",
       "      <td>119</td>\n",
       "      <td>132</td>\n",
       "      <td>0</td>\n",
       "      <td>2</td>\n",
       "    </tr>\n",
       "    <tr>\n",
       "      <th>12382</th>\n",
       "      <td>10265</td>\n",
       "      <td>2020-11-08 07:50:00</td>\n",
       "      <td>0</td>\n",
       "      <td>0</td>\n",
       "      <td>2</td>\n",
       "      <td>0</td>\n",
       "      <td>0</td>\n",
       "      <td>2</td>\n",
       "      <td>0</td>\n",
       "      <td>13</td>\n",
       "      <td>1</td>\n",
       "      <td>119</td>\n",
       "      <td>132</td>\n",
       "      <td>0</td>\n",
       "      <td>2</td>\n",
       "    </tr>\n",
       "    <tr>\n",
       "      <th>12383</th>\n",
       "      <td>10265</td>\n",
       "      <td>2020-11-08 07:50:00</td>\n",
       "      <td>0</td>\n",
       "      <td>0</td>\n",
       "      <td>0</td>\n",
       "      <td>0</td>\n",
       "      <td>0</td>\n",
       "      <td>0</td>\n",
       "      <td>0</td>\n",
       "      <td>13</td>\n",
       "      <td>1</td>\n",
       "      <td>119</td>\n",
       "      <td>132</td>\n",
       "      <td>0</td>\n",
       "      <td>2</td>\n",
       "    </tr>\n",
       "    <tr>\n",
       "      <th>12384</th>\n",
       "      <td>10265</td>\n",
       "      <td>2020-11-08 09:50:00</td>\n",
       "      <td>0</td>\n",
       "      <td>0</td>\n",
       "      <td>0</td>\n",
       "      <td>0</td>\n",
       "      <td>0</td>\n",
       "      <td>0</td>\n",
       "      <td>0</td>\n",
       "      <td>0</td>\n",
       "      <td>0</td>\n",
       "      <td>12</td>\n",
       "      <td>28</td>\n",
       "      <td>0</td>\n",
       "      <td>0</td>\n",
       "    </tr>\n",
       "    <tr>\n",
       "      <th>12385</th>\n",
       "      <td>10265</td>\n",
       "      <td>2020-11-08 09:50:00</td>\n",
       "      <td>0</td>\n",
       "      <td>0</td>\n",
       "      <td>0</td>\n",
       "      <td>0</td>\n",
       "      <td>0</td>\n",
       "      <td>0</td>\n",
       "      <td>0</td>\n",
       "      <td>0</td>\n",
       "      <td>0</td>\n",
       "      <td>12</td>\n",
       "      <td>28</td>\n",
       "      <td>0</td>\n",
       "      <td>0</td>\n",
       "    </tr>\n",
       "    <tr>\n",
       "      <th>12386</th>\n",
       "      <td>10265</td>\n",
       "      <td>2020-11-08 09:50:00</td>\n",
       "      <td>0</td>\n",
       "      <td>0</td>\n",
       "      <td>0</td>\n",
       "      <td>0</td>\n",
       "      <td>0</td>\n",
       "      <td>0</td>\n",
       "      <td>0</td>\n",
       "      <td>0</td>\n",
       "      <td>0</td>\n",
       "      <td>12</td>\n",
       "      <td>28</td>\n",
       "      <td>0</td>\n",
       "      <td>0</td>\n",
       "    </tr>\n",
       "    <tr>\n",
       "      <th>12387</th>\n",
       "      <td>10265</td>\n",
       "      <td>2020-11-08 09:50:00</td>\n",
       "      <td>0</td>\n",
       "      <td>0</td>\n",
       "      <td>0</td>\n",
       "      <td>0</td>\n",
       "      <td>0</td>\n",
       "      <td>0</td>\n",
       "      <td>0</td>\n",
       "      <td>0</td>\n",
       "      <td>0</td>\n",
       "      <td>12</td>\n",
       "      <td>28</td>\n",
       "      <td>0</td>\n",
       "      <td>0</td>\n",
       "    </tr>\n",
       "    <tr>\n",
       "      <th>12388</th>\n",
       "      <td>10265</td>\n",
       "      <td>2020-11-08 09:50:00</td>\n",
       "      <td>0</td>\n",
       "      <td>0</td>\n",
       "      <td>0</td>\n",
       "      <td>0</td>\n",
       "      <td>0</td>\n",
       "      <td>0</td>\n",
       "      <td>0</td>\n",
       "      <td>0</td>\n",
       "      <td>0</td>\n",
       "      <td>12</td>\n",
       "      <td>28</td>\n",
       "      <td>0</td>\n",
       "      <td>0</td>\n",
       "    </tr>\n",
       "    <tr>\n",
       "      <th>12389</th>\n",
       "      <td>10265</td>\n",
       "      <td>2020-11-08 09:50:00</td>\n",
       "      <td>0</td>\n",
       "      <td>0</td>\n",
       "      <td>0</td>\n",
       "      <td>0</td>\n",
       "      <td>0</td>\n",
       "      <td>0</td>\n",
       "      <td>0</td>\n",
       "      <td>0</td>\n",
       "      <td>0</td>\n",
       "      <td>12</td>\n",
       "      <td>28</td>\n",
       "      <td>0</td>\n",
       "      <td>0</td>\n",
       "    </tr>\n",
       "  </tbody>\n",
       "</table>\n",
       "</div>"
      ],
      "text/plain": [
       "       user_id                 time  quality_0  quality_1  quality_2  \\\n",
       "12372    10265  2020-11-08 07:50:00          0          0          0   \n",
       "12373    10265  2020-11-08 07:50:00          0          0          1   \n",
       "12374    10265  2020-11-08 07:50:00          0          0          4   \n",
       "12375    10265  2020-11-08 07:50:00          0          1         21   \n",
       "12376    10265  2020-11-08 07:50:00          0          0         54   \n",
       "12377    10265  2020-11-08 07:50:00          0          0          0   \n",
       "12378    10265  2020-11-08 07:50:00          0          0         37   \n",
       "12379    10265  2020-11-08 07:50:00          0          0          0   \n",
       "12380    10265  2020-11-08 07:50:00          0          0          0   \n",
       "12381    10265  2020-11-08 07:50:00          0          0          0   \n",
       "12382    10265  2020-11-08 07:50:00          0          0          2   \n",
       "12383    10265  2020-11-08 07:50:00          0          0          0   \n",
       "12384    10265  2020-11-08 09:50:00          0          0          0   \n",
       "12385    10265  2020-11-08 09:50:00          0          0          0   \n",
       "12386    10265  2020-11-08 09:50:00          0          0          0   \n",
       "12387    10265  2020-11-08 09:50:00          0          0          0   \n",
       "12388    10265  2020-11-08 09:50:00          0          0          0   \n",
       "12389    10265  2020-11-08 09:50:00          0          0          0   \n",
       "\n",
       "       quality_3  quality_4  quality_5  quality_6  quality_7  quality_8  \\\n",
       "12372          0          0          0          0         13          1   \n",
       "12373          0          0          4          1         13          1   \n",
       "12374          0          0         12          0         13          1   \n",
       "12375          0          0         23         12         13          1   \n",
       "12376          0          0         54          0         13          1   \n",
       "12377          0          0          0          0         13          1   \n",
       "12378          0          0         37          0         13          1   \n",
       "12379          0          0          0          0         13          1   \n",
       "12380          0          0          0          0         13          1   \n",
       "12381          0          0          0          0         13          1   \n",
       "12382          0          0          2          0         13          1   \n",
       "12383          0          0          0          0         13          1   \n",
       "12384          0          0          0          0          0          0   \n",
       "12385          0          0          0          0          0          0   \n",
       "12386          0          0          0          0          0          0   \n",
       "12387          0          0          0          0          0          0   \n",
       "12388          0          0          0          0          0          0   \n",
       "12389          0          0          0          0          0          0   \n",
       "\n",
       "       quality_9  quality_10  quality_11  quality_12  \n",
       "12372        119         132           0           2  \n",
       "12373        119         132           1           2  \n",
       "12374        119         132           1           2  \n",
       "12375        119         132           0           2  \n",
       "12376        119         132           0           2  \n",
       "12377        119         132           0           2  \n",
       "12378        119         132           0           2  \n",
       "12379        119         132           0           2  \n",
       "12380        119         132           0           2  \n",
       "12381        119         132           0           2  \n",
       "12382        119         132           0           2  \n",
       "12383        119         132           0           2  \n",
       "12384         12          28           0           0  \n",
       "12385         12          28           0           0  \n",
       "12386         12          28           0           0  \n",
       "12387         12          28           0           0  \n",
       "12388         12          28           0           0  \n",
       "12389         12          28           0           0  "
      ]
     },
     "execution_count": 179,
     "metadata": {},
     "output_type": "execute_result"
    }
   ],
   "source": [
    "train_qual.iloc[:,[1,0,3,4,5,6,7,8,9,10,11,12,13,14,15]][12372:12390]"
   ]
  },
  {
   "cell_type": "code",
   "execution_count": 180,
   "metadata": {},
   "outputs": [
    {
     "data": {
      "text/html": [
       "<div>\n",
       "<style scoped>\n",
       "    .dataframe tbody tr th:only-of-type {\n",
       "        vertical-align: middle;\n",
       "    }\n",
       "\n",
       "    .dataframe tbody tr th {\n",
       "        vertical-align: top;\n",
       "    }\n",
       "\n",
       "    .dataframe thead th {\n",
       "        text-align: right;\n",
       "    }\n",
       "</style>\n",
       "<table border=\"1\" class=\"dataframe\">\n",
       "  <thead>\n",
       "    <tr style=\"text-align: right;\">\n",
       "      <th></th>\n",
       "      <th>user_id</th>\n",
       "      <th>quality_0</th>\n",
       "      <th>quality_1</th>\n",
       "      <th>quality_2</th>\n",
       "      <th>quality_3</th>\n",
       "      <th>quality_4</th>\n",
       "      <th>quality_5</th>\n",
       "      <th>quality_6</th>\n",
       "      <th>quality_7</th>\n",
       "      <th>quality_8</th>\n",
       "      <th>quality_9</th>\n",
       "      <th>quality_10</th>\n",
       "      <th>quality_11</th>\n",
       "      <th>quality_12</th>\n",
       "    </tr>\n",
       "  </thead>\n",
       "  <tbody>\n",
       "    <tr>\n",
       "      <th>count</th>\n",
       "      <td>788544.00000</td>\n",
       "      <td>788544.00000</td>\n",
       "      <td>788544.00000</td>\n",
       "      <td>788544.00000</td>\n",
       "      <td>788544.00000</td>\n",
       "      <td>788544.00000</td>\n",
       "      <td>788544.00000</td>\n",
       "      <td>788544.00000</td>\n",
       "      <td>788544.00000</td>\n",
       "      <td>788544.00000</td>\n",
       "      <td>788544.00000</td>\n",
       "      <td>788544.00000</td>\n",
       "      <td>788544.00000</td>\n",
       "      <td>788544.00000</td>\n",
       "    </tr>\n",
       "    <tr>\n",
       "      <th>mean</th>\n",
       "      <td>17583.75951</td>\n",
       "      <td>3.59968</td>\n",
       "      <td>-0.16982</td>\n",
       "      <td>4.75090</td>\n",
       "      <td>0.00000</td>\n",
       "      <td>0.00000</td>\n",
       "      <td>78.14516</td>\n",
       "      <td>2.11059</td>\n",
       "      <td>27.52441</td>\n",
       "      <td>0.15948</td>\n",
       "      <td>59.20809</td>\n",
       "      <td>939.93923</td>\n",
       "      <td>-0.17910</td>\n",
       "      <td>0.04810</td>\n",
       "    </tr>\n",
       "    <tr>\n",
       "      <th>std</th>\n",
       "      <td>4400.24714</td>\n",
       "      <td>446.47710</td>\n",
       "      <td>0.69788</td>\n",
       "      <td>586.24020</td>\n",
       "      <td>0.00000</td>\n",
       "      <td>0.00000</td>\n",
       "      <td>2335.76090</td>\n",
       "      <td>33.45625</td>\n",
       "      <td>325.64862</td>\n",
       "      <td>5.27364</td>\n",
       "      <td>3362.65838</td>\n",
       "      <td>16934.49764</td>\n",
       "      <td>0.39630</td>\n",
       "      <td>0.30941</td>\n",
       "    </tr>\n",
       "    <tr>\n",
       "      <th>min</th>\n",
       "      <td>10000.00000</td>\n",
       "      <td>-1.00000</td>\n",
       "      <td>-1.00000</td>\n",
       "      <td>-1.00000</td>\n",
       "      <td>0.00000</td>\n",
       "      <td>0.00000</td>\n",
       "      <td>-1.00000</td>\n",
       "      <td>-1.00000</td>\n",
       "      <td>0.00000</td>\n",
       "      <td>0.00000</td>\n",
       "      <td>0.00000</td>\n",
       "      <td>0.00000</td>\n",
       "      <td>-1.00000</td>\n",
       "      <td>0.00000</td>\n",
       "    </tr>\n",
       "    <tr>\n",
       "      <th>25%</th>\n",
       "      <td>13695.00000</td>\n",
       "      <td>0.00000</td>\n",
       "      <td>0.00000</td>\n",
       "      <td>0.00000</td>\n",
       "      <td>0.00000</td>\n",
       "      <td>0.00000</td>\n",
       "      <td>0.00000</td>\n",
       "      <td>0.00000</td>\n",
       "      <td>0.00000</td>\n",
       "      <td>0.00000</td>\n",
       "      <td>0.00000</td>\n",
       "      <td>3.00000</td>\n",
       "      <td>0.00000</td>\n",
       "      <td>0.00000</td>\n",
       "    </tr>\n",
       "    <tr>\n",
       "      <th>50%</th>\n",
       "      <td>17507.00000</td>\n",
       "      <td>0.00000</td>\n",
       "      <td>0.00000</td>\n",
       "      <td>0.00000</td>\n",
       "      <td>0.00000</td>\n",
       "      <td>0.00000</td>\n",
       "      <td>0.00000</td>\n",
       "      <td>0.00000</td>\n",
       "      <td>0.00000</td>\n",
       "      <td>0.00000</td>\n",
       "      <td>0.00000</td>\n",
       "      <td>6.00000</td>\n",
       "      <td>0.00000</td>\n",
       "      <td>0.00000</td>\n",
       "    </tr>\n",
       "    <tr>\n",
       "      <th>75%</th>\n",
       "      <td>21532.50000</td>\n",
       "      <td>0.00000</td>\n",
       "      <td>0.00000</td>\n",
       "      <td>0.00000</td>\n",
       "      <td>0.00000</td>\n",
       "      <td>0.00000</td>\n",
       "      <td>1.00000</td>\n",
       "      <td>0.00000</td>\n",
       "      <td>0.00000</td>\n",
       "      <td>0.00000</td>\n",
       "      <td>0.00000</td>\n",
       "      <td>41.00000</td>\n",
       "      <td>0.00000</td>\n",
       "      <td>0.00000</td>\n",
       "    </tr>\n",
       "    <tr>\n",
       "      <th>max</th>\n",
       "      <td>24997.00000</td>\n",
       "      <td>157667.00000</td>\n",
       "      <td>171.00000</td>\n",
       "      <td>191859.00000</td>\n",
       "      <td>0.00000</td>\n",
       "      <td>0.00000</td>\n",
       "      <td>637385.00000</td>\n",
       "      <td>600.00000</td>\n",
       "      <td>7200.00000</td>\n",
       "      <td>1317.00000</td>\n",
       "      <td>397424.00000</td>\n",
       "      <td>1910175.00000</td>\n",
       "      <td>14.00000</td>\n",
       "      <td>14.00000</td>\n",
       "    </tr>\n",
       "  </tbody>\n",
       "</table>\n",
       "</div>"
      ],
      "text/plain": [
       "           user_id    quality_0    quality_1    quality_2    quality_3  \\\n",
       "count 788544.00000 788544.00000 788544.00000 788544.00000 788544.00000   \n",
       "mean   17583.75951      3.59968     -0.16982      4.75090      0.00000   \n",
       "std     4400.24714    446.47710      0.69788    586.24020      0.00000   \n",
       "min    10000.00000     -1.00000     -1.00000     -1.00000      0.00000   \n",
       "25%    13695.00000      0.00000      0.00000      0.00000      0.00000   \n",
       "50%    17507.00000      0.00000      0.00000      0.00000      0.00000   \n",
       "75%    21532.50000      0.00000      0.00000      0.00000      0.00000   \n",
       "max    24997.00000 157667.00000    171.00000 191859.00000      0.00000   \n",
       "\n",
       "         quality_4    quality_5    quality_6    quality_7    quality_8  \\\n",
       "count 788544.00000 788544.00000 788544.00000 788544.00000 788544.00000   \n",
       "mean       0.00000     78.14516      2.11059     27.52441      0.15948   \n",
       "std        0.00000   2335.76090     33.45625    325.64862      5.27364   \n",
       "min        0.00000     -1.00000     -1.00000      0.00000      0.00000   \n",
       "25%        0.00000      0.00000      0.00000      0.00000      0.00000   \n",
       "50%        0.00000      0.00000      0.00000      0.00000      0.00000   \n",
       "75%        0.00000      1.00000      0.00000      0.00000      0.00000   \n",
       "max        0.00000 637385.00000    600.00000   7200.00000   1317.00000   \n",
       "\n",
       "         quality_9    quality_10   quality_11   quality_12  \n",
       "count 788544.00000  788544.00000 788544.00000 788544.00000  \n",
       "mean      59.20809     939.93923     -0.17910      0.04810  \n",
       "std     3362.65838   16934.49764      0.39630      0.30941  \n",
       "min        0.00000       0.00000     -1.00000      0.00000  \n",
       "25%        0.00000       3.00000      0.00000      0.00000  \n",
       "50%        0.00000       6.00000      0.00000      0.00000  \n",
       "75%        0.00000      41.00000      0.00000      0.00000  \n",
       "max   397424.00000 1910175.00000     14.00000     14.00000  "
      ]
     },
     "execution_count": 180,
     "metadata": {},
     "output_type": "execute_result"
    }
   ],
   "source": [
    "train_qual.iloc[:,[1,0,3,4,5,6,7,8,9,10,11,12,13,14,15]].describe()"
   ]
  },
  {
   "cell_type": "markdown",
   "metadata": {},
   "source": [
    "---"
   ]
  },
  {
   "cell_type": "markdown",
   "metadata": {},
   "source": [
    "## 6-1. Quality 값"
   ]
  },
  {
   "cell_type": "markdown",
   "metadata": {},
   "source": [
    "###### 1. Quality는 측정가능한 지표로 만들어진 값이다. 그러나 해당 값들의 범위를 살펴보면 [0, ∞)가 아닌 [-1, ∞)이다."
   ]
  },
  {
   "cell_type": "markdown",
   "metadata": {},
   "source": [
    "### \"<b>`-1`</b>값은 측정이 되지 못한, <b>`알 수 없음(또는 문제 있음)`</b>을 나타내는 지표일 것이다\" 라는 <span style=\"color:red\"><u>가설</u></span>을 세움"
   ]
  },
  {
   "cell_type": "markdown",
   "metadata": {},
   "source": [
    "&nbsp;&nbsp;&nbsp; → &nbsp;-1값을 많이 갖고 있는 유저가 불만제기를 더 많이 하였는지 확인"
   ]
  },
  {
   "cell_type": "code",
   "execution_count": 185,
   "metadata": {
    "scrolled": false
   },
   "outputs": [
    {
     "data": {
      "text/html": [
       "<div>\n",
       "<style scoped>\n",
       "    .dataframe tbody tr th:only-of-type {\n",
       "        vertical-align: middle;\n",
       "    }\n",
       "\n",
       "    .dataframe tbody tr th {\n",
       "        vertical-align: top;\n",
       "    }\n",
       "\n",
       "    .dataframe thead th {\n",
       "        text-align: right;\n",
       "    }\n",
       "</style>\n",
       "<table border=\"1\" class=\"dataframe\">\n",
       "  <thead>\n",
       "    <tr style=\"text-align: right;\">\n",
       "      <th></th>\n",
       "      <th>user_id</th>\n",
       "      <th>time</th>\n",
       "      <th>fwver</th>\n",
       "      <th>quality_0</th>\n",
       "      <th>quality_1</th>\n",
       "      <th>quality_2</th>\n",
       "      <th>quality_5</th>\n",
       "      <th>quality_6</th>\n",
       "      <th>quality_11</th>\n",
       "      <th>quality_3</th>\n",
       "      <th>quality_4</th>\n",
       "      <th>quality_7</th>\n",
       "      <th>quality_8</th>\n",
       "      <th>quality_9</th>\n",
       "      <th>quality_10</th>\n",
       "    </tr>\n",
       "  </thead>\n",
       "  <tbody>\n",
       "    <tr>\n",
       "      <th>72</th>\n",
       "      <td>10002</td>\n",
       "      <td>2020-11-18 00:10:00</td>\n",
       "      <td>05.15.2138</td>\n",
       "      <td>-1</td>\n",
       "      <td>-1</td>\n",
       "      <td>-1</td>\n",
       "      <td>-1</td>\n",
       "      <td>-1</td>\n",
       "      <td>-1</td>\n",
       "      <td>0</td>\n",
       "      <td>0</td>\n",
       "      <td>0</td>\n",
       "      <td>0</td>\n",
       "      <td>0</td>\n",
       "      <td>3</td>\n",
       "    </tr>\n",
       "    <tr>\n",
       "      <th>73</th>\n",
       "      <td>10002</td>\n",
       "      <td>2020-11-18 00:10:00</td>\n",
       "      <td>05.15.2138</td>\n",
       "      <td>-1</td>\n",
       "      <td>-1</td>\n",
       "      <td>-1</td>\n",
       "      <td>-1</td>\n",
       "      <td>-1</td>\n",
       "      <td>-1</td>\n",
       "      <td>0</td>\n",
       "      <td>0</td>\n",
       "      <td>0</td>\n",
       "      <td>0</td>\n",
       "      <td>0</td>\n",
       "      <td>3</td>\n",
       "    </tr>\n",
       "    <tr>\n",
       "      <th>130</th>\n",
       "      <td>10004</td>\n",
       "      <td>2020-11-02 23:20:00</td>\n",
       "      <td>04.22.1750</td>\n",
       "      <td>-1</td>\n",
       "      <td>-1</td>\n",
       "      <td>-1</td>\n",
       "      <td>-1</td>\n",
       "      <td>-1</td>\n",
       "      <td>-1</td>\n",
       "      <td>0</td>\n",
       "      <td>0</td>\n",
       "      <td>0</td>\n",
       "      <td>0</td>\n",
       "      <td>0</td>\n",
       "      <td>3</td>\n",
       "    </tr>\n",
       "    <tr>\n",
       "      <th>131</th>\n",
       "      <td>10004</td>\n",
       "      <td>2020-11-02 23:20:00</td>\n",
       "      <td>04.22.1750</td>\n",
       "      <td>-1</td>\n",
       "      <td>-1</td>\n",
       "      <td>-1</td>\n",
       "      <td>-1</td>\n",
       "      <td>-1</td>\n",
       "      <td>-1</td>\n",
       "      <td>0</td>\n",
       "      <td>0</td>\n",
       "      <td>0</td>\n",
       "      <td>0</td>\n",
       "      <td>0</td>\n",
       "      <td>3</td>\n",
       "    </tr>\n",
       "    <tr>\n",
       "      <th>158</th>\n",
       "      <td>10005</td>\n",
       "      <td>2020-11-19 04:00:00</td>\n",
       "      <td>04.22.1750</td>\n",
       "      <td>-1</td>\n",
       "      <td>-1</td>\n",
       "      <td>-1</td>\n",
       "      <td>-1</td>\n",
       "      <td>-1</td>\n",
       "      <td>-1</td>\n",
       "      <td>0</td>\n",
       "      <td>0</td>\n",
       "      <td>36</td>\n",
       "      <td>0</td>\n",
       "      <td>0</td>\n",
       "      <td>4</td>\n",
       "    </tr>\n",
       "    <tr>\n",
       "      <th>159</th>\n",
       "      <td>10005</td>\n",
       "      <td>2020-11-19 04:00:00</td>\n",
       "      <td>04.22.1750</td>\n",
       "      <td>-1</td>\n",
       "      <td>-1</td>\n",
       "      <td>-1</td>\n",
       "      <td>-1</td>\n",
       "      <td>-1</td>\n",
       "      <td>-1</td>\n",
       "      <td>0</td>\n",
       "      <td>0</td>\n",
       "      <td>36</td>\n",
       "      <td>0</td>\n",
       "      <td>0</td>\n",
       "      <td>4</td>\n",
       "    </tr>\n",
       "    <tr>\n",
       "      <th>160</th>\n",
       "      <td>10005</td>\n",
       "      <td>2020-11-19 04:00:00</td>\n",
       "      <td>04.22.1750</td>\n",
       "      <td>-1</td>\n",
       "      <td>-1</td>\n",
       "      <td>-1</td>\n",
       "      <td>-1</td>\n",
       "      <td>-1</td>\n",
       "      <td>-1</td>\n",
       "      <td>0</td>\n",
       "      <td>0</td>\n",
       "      <td>36</td>\n",
       "      <td>0</td>\n",
       "      <td>0</td>\n",
       "      <td>4</td>\n",
       "    </tr>\n",
       "    <tr>\n",
       "      <th>161</th>\n",
       "      <td>10005</td>\n",
       "      <td>2020-11-19 04:00:00</td>\n",
       "      <td>04.22.1750</td>\n",
       "      <td>-1</td>\n",
       "      <td>-1</td>\n",
       "      <td>-1</td>\n",
       "      <td>-1</td>\n",
       "      <td>-1</td>\n",
       "      <td>-1</td>\n",
       "      <td>0</td>\n",
       "      <td>0</td>\n",
       "      <td>36</td>\n",
       "      <td>0</td>\n",
       "      <td>0</td>\n",
       "      <td>4</td>\n",
       "    </tr>\n",
       "    <tr>\n",
       "      <th>162</th>\n",
       "      <td>10005</td>\n",
       "      <td>2020-11-19 04:00:00</td>\n",
       "      <td>04.22.1750</td>\n",
       "      <td>-1</td>\n",
       "      <td>-1</td>\n",
       "      <td>-1</td>\n",
       "      <td>-1</td>\n",
       "      <td>-1</td>\n",
       "      <td>-1</td>\n",
       "      <td>0</td>\n",
       "      <td>0</td>\n",
       "      <td>36</td>\n",
       "      <td>0</td>\n",
       "      <td>0</td>\n",
       "      <td>4</td>\n",
       "    </tr>\n",
       "    <tr>\n",
       "      <th>163</th>\n",
       "      <td>10005</td>\n",
       "      <td>2020-11-19 04:00:00</td>\n",
       "      <td>04.22.1750</td>\n",
       "      <td>-1</td>\n",
       "      <td>-1</td>\n",
       "      <td>-1</td>\n",
       "      <td>-1</td>\n",
       "      <td>-1</td>\n",
       "      <td>-1</td>\n",
       "      <td>0</td>\n",
       "      <td>0</td>\n",
       "      <td>36</td>\n",
       "      <td>0</td>\n",
       "      <td>0</td>\n",
       "      <td>4</td>\n",
       "    </tr>\n",
       "    <tr>\n",
       "      <th>164</th>\n",
       "      <td>10005</td>\n",
       "      <td>2020-11-19 04:00:00</td>\n",
       "      <td>04.22.1750</td>\n",
       "      <td>-1</td>\n",
       "      <td>-1</td>\n",
       "      <td>-1</td>\n",
       "      <td>-1</td>\n",
       "      <td>-1</td>\n",
       "      <td>-1</td>\n",
       "      <td>0</td>\n",
       "      <td>0</td>\n",
       "      <td>36</td>\n",
       "      <td>0</td>\n",
       "      <td>0</td>\n",
       "      <td>4</td>\n",
       "    </tr>\n",
       "    <tr>\n",
       "      <th>165</th>\n",
       "      <td>10005</td>\n",
       "      <td>2020-11-19 04:00:00</td>\n",
       "      <td>04.22.1750</td>\n",
       "      <td>-1</td>\n",
       "      <td>-1</td>\n",
       "      <td>-1</td>\n",
       "      <td>-1</td>\n",
       "      <td>-1</td>\n",
       "      <td>-1</td>\n",
       "      <td>0</td>\n",
       "      <td>0</td>\n",
       "      <td>36</td>\n",
       "      <td>0</td>\n",
       "      <td>0</td>\n",
       "      <td>4</td>\n",
       "    </tr>\n",
       "    <tr>\n",
       "      <th>166</th>\n",
       "      <td>10005</td>\n",
       "      <td>2020-11-19 04:00:00</td>\n",
       "      <td>04.22.1750</td>\n",
       "      <td>-1</td>\n",
       "      <td>-1</td>\n",
       "      <td>-1</td>\n",
       "      <td>-1</td>\n",
       "      <td>-1</td>\n",
       "      <td>-1</td>\n",
       "      <td>0</td>\n",
       "      <td>0</td>\n",
       "      <td>36</td>\n",
       "      <td>0</td>\n",
       "      <td>0</td>\n",
       "      <td>4</td>\n",
       "    </tr>\n",
       "    <tr>\n",
       "      <th>167</th>\n",
       "      <td>10005</td>\n",
       "      <td>2020-11-19 04:00:00</td>\n",
       "      <td>04.22.1750</td>\n",
       "      <td>-1</td>\n",
       "      <td>-1</td>\n",
       "      <td>-1</td>\n",
       "      <td>-1</td>\n",
       "      <td>-1</td>\n",
       "      <td>-1</td>\n",
       "      <td>0</td>\n",
       "      <td>0</td>\n",
       "      <td>36</td>\n",
       "      <td>0</td>\n",
       "      <td>0</td>\n",
       "      <td>4</td>\n",
       "    </tr>\n",
       "    <tr>\n",
       "      <th>204</th>\n",
       "      <td>10010</td>\n",
       "      <td>2020-11-16 20:10:00</td>\n",
       "      <td>04.16.3553</td>\n",
       "      <td>-1</td>\n",
       "      <td>-1</td>\n",
       "      <td>-1</td>\n",
       "      <td>-1</td>\n",
       "      <td>-1</td>\n",
       "      <td>-1</td>\n",
       "      <td>0</td>\n",
       "      <td>0</td>\n",
       "      <td>0</td>\n",
       "      <td>1</td>\n",
       "      <td>0</td>\n",
       "      <td>2</td>\n",
       "    </tr>\n",
       "  </tbody>\n",
       "</table>\n",
       "</div>"
      ],
      "text/plain": [
       "     user_id                 time       fwver  quality_0  quality_1  \\\n",
       "72     10002  2020-11-18 00:10:00  05.15.2138         -1         -1   \n",
       "73     10002  2020-11-18 00:10:00  05.15.2138         -1         -1   \n",
       "130    10004  2020-11-02 23:20:00  04.22.1750         -1         -1   \n",
       "131    10004  2020-11-02 23:20:00  04.22.1750         -1         -1   \n",
       "158    10005  2020-11-19 04:00:00  04.22.1750         -1         -1   \n",
       "159    10005  2020-11-19 04:00:00  04.22.1750         -1         -1   \n",
       "160    10005  2020-11-19 04:00:00  04.22.1750         -1         -1   \n",
       "161    10005  2020-11-19 04:00:00  04.22.1750         -1         -1   \n",
       "162    10005  2020-11-19 04:00:00  04.22.1750         -1         -1   \n",
       "163    10005  2020-11-19 04:00:00  04.22.1750         -1         -1   \n",
       "164    10005  2020-11-19 04:00:00  04.22.1750         -1         -1   \n",
       "165    10005  2020-11-19 04:00:00  04.22.1750         -1         -1   \n",
       "166    10005  2020-11-19 04:00:00  04.22.1750         -1         -1   \n",
       "167    10005  2020-11-19 04:00:00  04.22.1750         -1         -1   \n",
       "204    10010  2020-11-16 20:10:00  04.16.3553         -1         -1   \n",
       "\n",
       "     quality_2  quality_5  quality_6  quality_11  quality_3  quality_4  \\\n",
       "72          -1         -1         -1          -1          0          0   \n",
       "73          -1         -1         -1          -1          0          0   \n",
       "130         -1         -1         -1          -1          0          0   \n",
       "131         -1         -1         -1          -1          0          0   \n",
       "158         -1         -1         -1          -1          0          0   \n",
       "159         -1         -1         -1          -1          0          0   \n",
       "160         -1         -1         -1          -1          0          0   \n",
       "161         -1         -1         -1          -1          0          0   \n",
       "162         -1         -1         -1          -1          0          0   \n",
       "163         -1         -1         -1          -1          0          0   \n",
       "164         -1         -1         -1          -1          0          0   \n",
       "165         -1         -1         -1          -1          0          0   \n",
       "166         -1         -1         -1          -1          0          0   \n",
       "167         -1         -1         -1          -1          0          0   \n",
       "204         -1         -1         -1          -1          0          0   \n",
       "\n",
       "     quality_7  quality_8  quality_9  quality_10  \n",
       "72           0          0          0           3  \n",
       "73           0          0          0           3  \n",
       "130          0          0          0           3  \n",
       "131          0          0          0           3  \n",
       "158         36          0          0           4  \n",
       "159         36          0          0           4  \n",
       "160         36          0          0           4  \n",
       "161         36          0          0           4  \n",
       "162         36          0          0           4  \n",
       "163         36          0          0           4  \n",
       "164         36          0          0           4  \n",
       "165         36          0          0           4  \n",
       "166         36          0          0           4  \n",
       "167         36          0          0           4  \n",
       "204          0          1          0           2  "
      ]
     },
     "execution_count": 185,
     "metadata": {},
     "output_type": "execute_result"
    }
   ],
   "source": [
    "train_qual[train_qual['quality_0'] == -1].iloc[:,[1,0,2,3,4,5,8,9,14,6,7,10,11,12,13]][:15]"
   ]
  },
  {
   "cell_type": "code",
   "execution_count": 103,
   "metadata": {},
   "outputs": [
    {
     "data": {
      "text/plain": [
       "5567"
      ]
     },
     "execution_count": 103,
     "metadata": {},
     "output_type": "execute_result"
    }
   ],
   "source": [
    "# -1을 갖고 있는 유저의 수\n",
    "len(sorted(list(train_qual[train_qual['quality_0'] == -1].groupby('user_id')['quality_0'].count().to_frame(). \\\n",
    "reset_index().sort_values(ascending=False, by='quality_0').user_id.unique())))"
   ]
  },
  {
   "cell_type": "code",
   "execution_count": 104,
   "metadata": {},
   "outputs": [],
   "source": [
    "# -1을 많이 가지고 있는 유저 상위 100명\n",
    "minus_id_top100 = list(train_qual[train_qual['quality_0'] == -1].groupby('user_id')['quality_0'].count().to_frame(). \\\n",
    "reset_index().sort_values(ascending=False, by='quality_0').user_id.unique())[:100]"
   ]
  },
  {
   "cell_type": "code",
   "execution_count": 105,
   "metadata": {},
   "outputs": [
    {
     "data": {
      "text/plain": [
       "70"
      ]
     },
     "execution_count": 105,
     "metadata": {},
     "output_type": "execute_result"
    }
   ],
   "source": [
    "# 상위 100명중, 불만을 제기한 사람의 수 : 70명 (70.0%)\n",
    "len(train_prob[train_prob['user_id'].isin(minus_id_top100)].user_id.unique())"
   ]
  },
  {
   "cell_type": "code",
   "execution_count": 106,
   "metadata": {},
   "outputs": [],
   "source": [
    "# -1을 많이 가지고 있는 유저 상위 900명\n",
    "minus_id_top900 = list(train_qual[train_qual['quality_0'] == -1].groupby('user_id')['quality_0'].count().to_frame(). \\\n",
    "reset_index().sort_values(ascending=False, by='quality_0').user_id.unique())[100:1000]"
   ]
  },
  {
   "cell_type": "code",
   "execution_count": 107,
   "metadata": {},
   "outputs": [
    {
     "data": {
      "text/plain": [
       "505"
      ]
     },
     "execution_count": 107,
     "metadata": {},
     "output_type": "execute_result"
    }
   ],
   "source": [
    "# 상위 900명중, 불만을 제기한 사람의 수 : 505명 (56.1%)\n",
    "len(train_prob[train_prob['user_id'].isin(minus_id_top900)].user_id.unique())"
   ]
  },
  {
   "cell_type": "code",
   "execution_count": 108,
   "metadata": {},
   "outputs": [],
   "source": [
    "# -1을 많이 가지고 있는 유저 상위 2000명\n",
    "minus_id_top2000 = list(train_qual[train_qual['quality_0'] == -1].groupby('user_id')['quality_0'].count().to_frame(). \\\n",
    "reset_index().sort_values(ascending=False, by='quality_0').user_id.unique())[1000:3000]"
   ]
  },
  {
   "cell_type": "code",
   "execution_count": 109,
   "metadata": {},
   "outputs": [
    {
     "data": {
      "text/plain": [
       "799"
      ]
     },
     "execution_count": 109,
     "metadata": {},
     "output_type": "execute_result"
    }
   ],
   "source": [
    "# 상위 2000명중, 불만을 제기한 사람의 수 : 799명 (39.9%)\n",
    "len(train_prob[train_prob['user_id'].isin(minus_id_top2000)].user_id.unique())"
   ]
  },
  {
   "cell_type": "markdown",
   "metadata": {},
   "source": [
    "\"-1을 더 많이 가지고 있을수록 <b>불만을 더 많이 제기함</b>\"을 알 수 있다.<br>\n",
    " → &nbsp; 따라서 <span style=\"color:red\">-1은 불만 제기와 관련이 있는 수치이기 때문에</span> 이를 알 수 있는 파생변수를 만들어야 함을 알 수 있다.<br>\n",
    " → &nbsp; <span style=\"color:gray\">User별 Quality_0부터 Quality_12까지 -1의 갯수를 카운팅하는 파생변수를 만들었다.</span>"
   ]
  },
  {
   "cell_type": "markdown",
   "metadata": {},
   "source": [
    "<center> <b>예시 </b></center>  \n",
    "\n",
    "|User ID|Quality_0_minus_count|Quality_1_minus_count|˙˙˙|  \n",
    "|-------|-------|-------|-------|\n",
    "|User 1|0|0|˙˙˙|  \n",
    "|User 2|9|9|˙˙˙|  \n",
    "|User 3|15|14|˙˙˙|  \n",
    "|User 4|0|0|˙˙˙|  \n",
    "\n",
    "<br>\n",
    "<center><span style=\"color:gray\">(각 유저별로 Quality -1값의 개수를 카운트한 파생변수)</span></center>"
   ]
  },
  {
   "cell_type": "markdown",
   "metadata": {},
   "source": [
    "###### 2. 마이너스 1값을 카운팅 한 뒤, 해당 값들을 제외한 나머지 변수들의 수치를 해석하기 위하여 `-1`을 `0`으로 변경"
   ]
  },
  {
   "cell_type": "code",
   "execution_count": 110,
   "metadata": {},
   "outputs": [],
   "source": [
    "for i in train_qual.columns[3:]:\n",
    "    idx = train_qual[train_qual[i] == -1].index\n",
    "    train_qual.loc[idx,i] = 0"
   ]
  },
  {
   "cell_type": "markdown",
   "metadata": {},
   "source": [
    "###### 3. Quality Data 기본 수치 해석"
   ]
  },
  {
   "cell_type": "code",
   "execution_count": 111,
   "metadata": {},
   "outputs": [
    {
     "data": {
      "text/html": [
       "<div>\n",
       "<style scoped>\n",
       "    .dataframe tbody tr th:only-of-type {\n",
       "        vertical-align: middle;\n",
       "    }\n",
       "\n",
       "    .dataframe tbody tr th {\n",
       "        vertical-align: top;\n",
       "    }\n",
       "\n",
       "    .dataframe thead th {\n",
       "        text-align: right;\n",
       "    }\n",
       "</style>\n",
       "<table border=\"1\" class=\"dataframe\">\n",
       "  <thead>\n",
       "    <tr style=\"text-align: right;\">\n",
       "      <th></th>\n",
       "      <th>quality_0</th>\n",
       "      <th>quality_1</th>\n",
       "      <th>quality_2</th>\n",
       "      <th>quality_3</th>\n",
       "      <th>quality_4</th>\n",
       "      <th>quality_5</th>\n",
       "      <th>quality_6</th>\n",
       "      <th>quality_7</th>\n",
       "      <th>quality_8</th>\n",
       "      <th>quality_9</th>\n",
       "      <th>quality_10</th>\n",
       "      <th>quality_11</th>\n",
       "      <th>quality_12</th>\n",
       "    </tr>\n",
       "  </thead>\n",
       "  <tbody>\n",
       "    <tr>\n",
       "      <th>count</th>\n",
       "      <td>788544.00000</td>\n",
       "      <td>788544.00000</td>\n",
       "      <td>788544.00000</td>\n",
       "      <td>788544.00000</td>\n",
       "      <td>788544.00000</td>\n",
       "      <td>788544.00000</td>\n",
       "      <td>788544.00000</td>\n",
       "      <td>788544.00000</td>\n",
       "      <td>788544.00000</td>\n",
       "      <td>788544.00000</td>\n",
       "      <td>788544.00000</td>\n",
       "      <td>788544.00000</td>\n",
       "      <td>788544.00000</td>\n",
       "    </tr>\n",
       "    <tr>\n",
       "      <th>mean</th>\n",
       "      <td>3.76559</td>\n",
       "      <td>0.01329</td>\n",
       "      <td>4.93401</td>\n",
       "      <td>0.00000</td>\n",
       "      <td>0.00000</td>\n",
       "      <td>78.32827</td>\n",
       "      <td>2.29370</td>\n",
       "      <td>27.52441</td>\n",
       "      <td>0.15948</td>\n",
       "      <td>59.20809</td>\n",
       "      <td>939.93923</td>\n",
       "      <td>0.00401</td>\n",
       "      <td>0.04810</td>\n",
       "    </tr>\n",
       "    <tr>\n",
       "      <th>std</th>\n",
       "      <td>446.47555</td>\n",
       "      <td>0.57670</td>\n",
       "      <td>586.23853</td>\n",
       "      <td>0.00000</td>\n",
       "      <td>0.00000</td>\n",
       "      <td>2335.75473</td>\n",
       "      <td>33.44146</td>\n",
       "      <td>325.64862</td>\n",
       "      <td>5.27364</td>\n",
       "      <td>3362.65838</td>\n",
       "      <td>16934.49764</td>\n",
       "      <td>0.07747</td>\n",
       "      <td>0.30941</td>\n",
       "    </tr>\n",
       "    <tr>\n",
       "      <th>min</th>\n",
       "      <td>0.00000</td>\n",
       "      <td>0.00000</td>\n",
       "      <td>0.00000</td>\n",
       "      <td>0.00000</td>\n",
       "      <td>0.00000</td>\n",
       "      <td>0.00000</td>\n",
       "      <td>0.00000</td>\n",
       "      <td>0.00000</td>\n",
       "      <td>0.00000</td>\n",
       "      <td>0.00000</td>\n",
       "      <td>0.00000</td>\n",
       "      <td>0.00000</td>\n",
       "      <td>0.00000</td>\n",
       "    </tr>\n",
       "    <tr>\n",
       "      <th>25%</th>\n",
       "      <td>0.00000</td>\n",
       "      <td>0.00000</td>\n",
       "      <td>0.00000</td>\n",
       "      <td>0.00000</td>\n",
       "      <td>0.00000</td>\n",
       "      <td>0.00000</td>\n",
       "      <td>0.00000</td>\n",
       "      <td>0.00000</td>\n",
       "      <td>0.00000</td>\n",
       "      <td>0.00000</td>\n",
       "      <td>3.00000</td>\n",
       "      <td>0.00000</td>\n",
       "      <td>0.00000</td>\n",
       "    </tr>\n",
       "    <tr>\n",
       "      <th>50%</th>\n",
       "      <td>0.00000</td>\n",
       "      <td>0.00000</td>\n",
       "      <td>0.00000</td>\n",
       "      <td>0.00000</td>\n",
       "      <td>0.00000</td>\n",
       "      <td>0.00000</td>\n",
       "      <td>0.00000</td>\n",
       "      <td>0.00000</td>\n",
       "      <td>0.00000</td>\n",
       "      <td>0.00000</td>\n",
       "      <td>6.00000</td>\n",
       "      <td>0.00000</td>\n",
       "      <td>0.00000</td>\n",
       "    </tr>\n",
       "    <tr>\n",
       "      <th>75%</th>\n",
       "      <td>0.00000</td>\n",
       "      <td>0.00000</td>\n",
       "      <td>0.00000</td>\n",
       "      <td>0.00000</td>\n",
       "      <td>0.00000</td>\n",
       "      <td>1.00000</td>\n",
       "      <td>0.00000</td>\n",
       "      <td>0.00000</td>\n",
       "      <td>0.00000</td>\n",
       "      <td>0.00000</td>\n",
       "      <td>41.00000</td>\n",
       "      <td>0.00000</td>\n",
       "      <td>0.00000</td>\n",
       "    </tr>\n",
       "    <tr>\n",
       "      <th>max</th>\n",
       "      <td>157667.00000</td>\n",
       "      <td>171.00000</td>\n",
       "      <td>191859.00000</td>\n",
       "      <td>0.00000</td>\n",
       "      <td>0.00000</td>\n",
       "      <td>637385.00000</td>\n",
       "      <td>600.00000</td>\n",
       "      <td>7200.00000</td>\n",
       "      <td>1317.00000</td>\n",
       "      <td>397424.00000</td>\n",
       "      <td>1910175.00000</td>\n",
       "      <td>14.00000</td>\n",
       "      <td>14.00000</td>\n",
       "    </tr>\n",
       "  </tbody>\n",
       "</table>\n",
       "</div>"
      ],
      "text/plain": [
       "         quality_0    quality_1    quality_2    quality_3    quality_4  \\\n",
       "count 788544.00000 788544.00000 788544.00000 788544.00000 788544.00000   \n",
       "mean       3.76559      0.01329      4.93401      0.00000      0.00000   \n",
       "std      446.47555      0.57670    586.23853      0.00000      0.00000   \n",
       "min        0.00000      0.00000      0.00000      0.00000      0.00000   \n",
       "25%        0.00000      0.00000      0.00000      0.00000      0.00000   \n",
       "50%        0.00000      0.00000      0.00000      0.00000      0.00000   \n",
       "75%        0.00000      0.00000      0.00000      0.00000      0.00000   \n",
       "max   157667.00000    171.00000 191859.00000      0.00000      0.00000   \n",
       "\n",
       "         quality_5    quality_6    quality_7    quality_8    quality_9  \\\n",
       "count 788544.00000 788544.00000 788544.00000 788544.00000 788544.00000   \n",
       "mean      78.32827      2.29370     27.52441      0.15948     59.20809   \n",
       "std     2335.75473     33.44146    325.64862      5.27364   3362.65838   \n",
       "min        0.00000      0.00000      0.00000      0.00000      0.00000   \n",
       "25%        0.00000      0.00000      0.00000      0.00000      0.00000   \n",
       "50%        0.00000      0.00000      0.00000      0.00000      0.00000   \n",
       "75%        1.00000      0.00000      0.00000      0.00000      0.00000   \n",
       "max   637385.00000    600.00000   7200.00000   1317.00000 397424.00000   \n",
       "\n",
       "         quality_10   quality_11   quality_12  \n",
       "count  788544.00000 788544.00000 788544.00000  \n",
       "mean      939.93923      0.00401      0.04810  \n",
       "std     16934.49764      0.07747      0.30941  \n",
       "min         0.00000      0.00000      0.00000  \n",
       "25%         3.00000      0.00000      0.00000  \n",
       "50%         6.00000      0.00000      0.00000  \n",
       "75%        41.00000      0.00000      0.00000  \n",
       "max   1910175.00000     14.00000     14.00000  "
      ]
     },
     "execution_count": 111,
     "metadata": {},
     "output_type": "execute_result"
    }
   ],
   "source": [
    "train_qual.iloc[:,3:].describe()"
   ]
  },
  {
   "cell_type": "markdown",
   "metadata": {},
   "source": [
    "→ &nbsp; Quality_3과 Quality_4는 모두 0값만을 가지고 있음을 확인<br>\n",
    "→ &nbsp; Quality_0, Quality_2, Quality_5, Quality_9, Quality_10의 <u>`분산과 최댓값`</u>이 크다는 것을 확인 : 불만 제기와의 관계 확인"
   ]
  },
  {
   "cell_type": "code",
   "execution_count": 112,
   "metadata": {},
   "outputs": [
    {
     "name": "stdout",
     "output_type": "stream",
     "text": [
      "퀄리티 0을 합한 값이 큰 상위 유저 900명 중 290명이 불만을 제기하였습니다.  36.25%\n",
      "퀄리티 2을 합한 값이 큰 상위 유저 900명 중 284명이 불만을 제기하였습니다.  35.5%\n",
      "퀄리티 5을 합한 값이 큰 상위 유저 900명 중 375명이 불만을 제기하였습니다.  46.875%\n",
      "퀄리티 9을 합한 값이 큰 상위 유저 900명 중 282명이 불만을 제기하였습니다.  35.25%\n",
      "퀄리티 10을 합한 값이 큰 상위 유저 900명 중 401명이 불만을 제기하였습니다.  50.125%\n"
     ]
    }
   ],
   "source": [
    "# Quality_2, 5, 9, 10과 불만 제기와의 관계 확인\n",
    "for i in [0, 2, 5, 9, 10]:\n",
    "    tq = train_qual.groupby('user_id')['quality_'+str(i)].max().to_frame().reset_index().sort_values(ascending=False, by='quality_'+str(i))\n",
    "    tq_id = list(tq.user_id.values)[100:900]\n",
    "    tp_id = train_prob[train_prob['user_id'].isin(tq_id)].user_id.unique()\n",
    "    print(\"퀄리티 {0}을 합한 값이 큰 상위 유저 900명 중 {1}명이 불만을 제기하였습니다.  {2}%\".format(i, len(tp_id), len(tp_id)/len(tq_id)*100))"
   ]
  },
  {
   "cell_type": "code",
   "execution_count": 113,
   "metadata": {},
   "outputs": [
    {
     "name": "stdout",
     "output_type": "stream",
     "text": [
      "퀄리티 0을 합한 값이 큰 상위 유저 100명 중 36명이 불만을 제기하였습니다.  36.0%\n",
      "퀄리티 2을 합한 값이 큰 상위 유저 100명 중 39명이 불만을 제기하였습니다.  39.0%\n",
      "퀄리티 5을 합한 값이 큰 상위 유저 100명 중 74명이 불만을 제기하였습니다.  74.0%\n",
      "퀄리티 9을 합한 값이 큰 상위 유저 100명 중 39명이 불만을 제기하였습니다.  39.0%\n",
      "퀄리티 10을 합한 값이 큰 상위 유저 100명 중 74명이 불만을 제기하였습니다.  74.0%\n"
     ]
    }
   ],
   "source": [
    "# Quality_2, 5, 9, 10과 불만 제기와의 관계 확인\n",
    "for i in [0, 2, 5, 9, 10]:\n",
    "    tq = train_qual.groupby('user_id')['quality_'+str(i)].max().to_frame().reset_index().sort_values(ascending=False, by='quality_'+str(i))\n",
    "    tq_id = list(tq.user_id.values)[:100]\n",
    "    tp_id = train_prob[train_prob['user_id'].isin(tq_id)].user_id.unique()\n",
    "    print(\"퀄리티 {0}을 합한 값이 큰 상위 유저 100명 중 {1}명이 불만을 제기하였습니다.  {2}%\".format(i, len(tp_id), len(tp_id)/len(tq_id)*100))"
   ]
  },
  {
   "cell_type": "markdown",
   "metadata": {},
   "source": [
    "#### → &nbsp; 퀄리티 합이 높을수록, 불만 제기 확률이 높아짐을 알 수 있음"
   ]
  },
  {
   "cell_type": "markdown",
   "metadata": {},
   "source": [
    "###### 4. 나머지 Quality 변수들은 0부터 무한대 사이의 값을 가지고 있으므로, 이것이 시스템 품질을 측정한 하나의 값으로 가정\n",
    " → &nbsp; Quality 변수들의 간의 관계를 해석하기 위하여 `Correlation`을 이용  \n",
    " → &nbsp; 유저별 Quality값들의 합이 높은 것과 불만 제기의 관계 해석"
   ]
  },
  {
   "cell_type": "code",
   "execution_count": 114,
   "metadata": {},
   "outputs": [],
   "source": [
    "qual_sum = pd.DataFrame({'user_id' : np.arange(10000,25000)})\n",
    "\n",
    "for i in train_qual.columns[3:]:\n",
    "    qq = train_qual.groupby('user_id')[i].sum().to_frame().reset_index()\n",
    "    qual_sum = pd.merge(qual_sum, qq, how='left', on ='user_id')\n",
    "    qual_sum = qual_sum.fillna(0)"
   ]
  },
  {
   "cell_type": "code",
   "execution_count": 115,
   "metadata": {},
   "outputs": [
    {
     "data": {
      "text/html": [
       "<div>\n",
       "<style scoped>\n",
       "    .dataframe tbody tr th:only-of-type {\n",
       "        vertical-align: middle;\n",
       "    }\n",
       "\n",
       "    .dataframe tbody tr th {\n",
       "        vertical-align: top;\n",
       "    }\n",
       "\n",
       "    .dataframe thead th {\n",
       "        text-align: right;\n",
       "    }\n",
       "</style>\n",
       "<table border=\"1\" class=\"dataframe\">\n",
       "  <thead>\n",
       "    <tr style=\"text-align: right;\">\n",
       "      <th></th>\n",
       "      <th>user_id</th>\n",
       "      <th>quality_0</th>\n",
       "      <th>quality_1</th>\n",
       "      <th>quality_2</th>\n",
       "      <th>quality_3</th>\n",
       "      <th>quality_4</th>\n",
       "      <th>quality_5</th>\n",
       "      <th>quality_6</th>\n",
       "      <th>quality_7</th>\n",
       "      <th>quality_8</th>\n",
       "      <th>quality_9</th>\n",
       "      <th>quality_10</th>\n",
       "      <th>quality_11</th>\n",
       "      <th>quality_12</th>\n",
       "    </tr>\n",
       "  </thead>\n",
       "  <tbody>\n",
       "    <tr>\n",
       "      <th>0</th>\n",
       "      <td>10000</td>\n",
       "      <td>0.00000</td>\n",
       "      <td>0.00000</td>\n",
       "      <td>0.00000</td>\n",
       "      <td>0.00000</td>\n",
       "      <td>0.00000</td>\n",
       "      <td>12.00000</td>\n",
       "      <td>0.00000</td>\n",
       "      <td>0.00000</td>\n",
       "      <td>0.00000</td>\n",
       "      <td>0.00000</td>\n",
       "      <td>144.00000</td>\n",
       "      <td>0.00000</td>\n",
       "      <td>0.00000</td>\n",
       "    </tr>\n",
       "    <tr>\n",
       "      <th>1</th>\n",
       "      <td>10001</td>\n",
       "      <td>0.00000</td>\n",
       "      <td>0.00000</td>\n",
       "      <td>0.00000</td>\n",
       "      <td>0.00000</td>\n",
       "      <td>0.00000</td>\n",
       "      <td>0.00000</td>\n",
       "      <td>0.00000</td>\n",
       "      <td>0.00000</td>\n",
       "      <td>0.00000</td>\n",
       "      <td>0.00000</td>\n",
       "      <td>0.00000</td>\n",
       "      <td>0.00000</td>\n",
       "      <td>0.00000</td>\n",
       "    </tr>\n",
       "    <tr>\n",
       "      <th>2</th>\n",
       "      <td>10002</td>\n",
       "      <td>2.00000</td>\n",
       "      <td>0.00000</td>\n",
       "      <td>1.00000</td>\n",
       "      <td>0.00000</td>\n",
       "      <td>0.00000</td>\n",
       "      <td>31.00000</td>\n",
       "      <td>46.00000</td>\n",
       "      <td>552.00000</td>\n",
       "      <td>0.00000</td>\n",
       "      <td>12.00000</td>\n",
       "      <td>372.00000</td>\n",
       "      <td>0.00000</td>\n",
       "      <td>0.00000</td>\n",
       "    </tr>\n",
       "    <tr>\n",
       "      <th>3</th>\n",
       "      <td>10003</td>\n",
       "      <td>0.00000</td>\n",
       "      <td>0.00000</td>\n",
       "      <td>0.00000</td>\n",
       "      <td>0.00000</td>\n",
       "      <td>0.00000</td>\n",
       "      <td>0.00000</td>\n",
       "      <td>0.00000</td>\n",
       "      <td>0.00000</td>\n",
       "      <td>0.00000</td>\n",
       "      <td>0.00000</td>\n",
       "      <td>0.00000</td>\n",
       "      <td>0.00000</td>\n",
       "      <td>0.00000</td>\n",
       "    </tr>\n",
       "    <tr>\n",
       "      <th>4</th>\n",
       "      <td>10004</td>\n",
       "      <td>0.00000</td>\n",
       "      <td>0.00000</td>\n",
       "      <td>0.00000</td>\n",
       "      <td>0.00000</td>\n",
       "      <td>0.00000</td>\n",
       "      <td>4.00000</td>\n",
       "      <td>87.00000</td>\n",
       "      <td>1044.00000</td>\n",
       "      <td>0.00000</td>\n",
       "      <td>0.00000</td>\n",
       "      <td>48.00000</td>\n",
       "      <td>0.00000</td>\n",
       "      <td>0.00000</td>\n",
       "    </tr>\n",
       "  </tbody>\n",
       "</table>\n",
       "</div>"
      ],
      "text/plain": [
       "   user_id  quality_0  quality_1  quality_2  quality_3  quality_4  quality_5  \\\n",
       "0    10000    0.00000    0.00000    0.00000    0.00000    0.00000   12.00000   \n",
       "1    10001    0.00000    0.00000    0.00000    0.00000    0.00000    0.00000   \n",
       "2    10002    2.00000    0.00000    1.00000    0.00000    0.00000   31.00000   \n",
       "3    10003    0.00000    0.00000    0.00000    0.00000    0.00000    0.00000   \n",
       "4    10004    0.00000    0.00000    0.00000    0.00000    0.00000    4.00000   \n",
       "\n",
       "   quality_6  quality_7  quality_8  quality_9  quality_10  quality_11  \\\n",
       "0    0.00000    0.00000    0.00000    0.00000   144.00000     0.00000   \n",
       "1    0.00000    0.00000    0.00000    0.00000     0.00000     0.00000   \n",
       "2   46.00000  552.00000    0.00000   12.00000   372.00000     0.00000   \n",
       "3    0.00000    0.00000    0.00000    0.00000     0.00000     0.00000   \n",
       "4   87.00000 1044.00000    0.00000    0.00000    48.00000     0.00000   \n",
       "\n",
       "   quality_12  \n",
       "0     0.00000  \n",
       "1     0.00000  \n",
       "2     0.00000  \n",
       "3     0.00000  \n",
       "4     0.00000  "
      ]
     },
     "execution_count": 115,
     "metadata": {},
     "output_type": "execute_result"
    }
   ],
   "source": [
    "qual_sum.head()"
   ]
  },
  {
   "cell_type": "code",
   "execution_count": 194,
   "metadata": {},
   "outputs": [],
   "source": [
    "# del qual_sum['quality_3']\n",
    "# del qual_sum['quality_4']"
   ]
  },
  {
   "cell_type": "code",
   "execution_count": 195,
   "metadata": {},
   "outputs": [
    {
     "data": {
      "text/html": [
       "<div>\n",
       "<style scoped>\n",
       "    .dataframe tbody tr th:only-of-type {\n",
       "        vertical-align: middle;\n",
       "    }\n",
       "\n",
       "    .dataframe tbody tr th {\n",
       "        vertical-align: top;\n",
       "    }\n",
       "\n",
       "    .dataframe thead th {\n",
       "        text-align: right;\n",
       "    }\n",
       "</style>\n",
       "<table border=\"1\" class=\"dataframe\">\n",
       "  <thead>\n",
       "    <tr style=\"text-align: right;\">\n",
       "      <th></th>\n",
       "      <th>user_id</th>\n",
       "      <th>quality_0</th>\n",
       "      <th>quality_1</th>\n",
       "      <th>quality_2</th>\n",
       "      <th>quality_5</th>\n",
       "      <th>quality_6</th>\n",
       "      <th>quality_7</th>\n",
       "      <th>quality_8</th>\n",
       "      <th>quality_9</th>\n",
       "      <th>quality_10</th>\n",
       "      <th>quality_11</th>\n",
       "      <th>quality_12</th>\n",
       "    </tr>\n",
       "  </thead>\n",
       "  <tbody>\n",
       "    <tr>\n",
       "      <th>user_id</th>\n",
       "      <td>1.00000</td>\n",
       "      <td>0.01775</td>\n",
       "      <td>0.00618</td>\n",
       "      <td>0.01177</td>\n",
       "      <td>-0.00422</td>\n",
       "      <td>-0.00978</td>\n",
       "      <td>-0.00978</td>\n",
       "      <td>0.00618</td>\n",
       "      <td>0.01177</td>\n",
       "      <td>-0.00422</td>\n",
       "      <td>0.00959</td>\n",
       "      <td>0.00959</td>\n",
       "    </tr>\n",
       "    <tr>\n",
       "      <th>quality_0</th>\n",
       "      <td>0.01775</td>\n",
       "      <td>1.00000</td>\n",
       "      <td>-0.00106</td>\n",
       "      <td>0.88105</td>\n",
       "      <td>0.04295</td>\n",
       "      <td>0.00066</td>\n",
       "      <td>0.00066</td>\n",
       "      <td>-0.00106</td>\n",
       "      <td>0.88105</td>\n",
       "      <td>0.04295</td>\n",
       "      <td>0.00106</td>\n",
       "      <td>0.00106</td>\n",
       "    </tr>\n",
       "    <tr>\n",
       "      <th>quality_1</th>\n",
       "      <td>0.00618</td>\n",
       "      <td>-0.00106</td>\n",
       "      <td>1.00000</td>\n",
       "      <td>-0.00035</td>\n",
       "      <td>0.02997</td>\n",
       "      <td>0.00733</td>\n",
       "      <td>0.00733</td>\n",
       "      <td>1.00000</td>\n",
       "      <td>-0.00035</td>\n",
       "      <td>0.02997</td>\n",
       "      <td>0.10275</td>\n",
       "      <td>0.10275</td>\n",
       "    </tr>\n",
       "    <tr>\n",
       "      <th>quality_2</th>\n",
       "      <td>0.01177</td>\n",
       "      <td>0.88105</td>\n",
       "      <td>-0.00035</td>\n",
       "      <td>1.00000</td>\n",
       "      <td>0.04433</td>\n",
       "      <td>0.00107</td>\n",
       "      <td>0.00107</td>\n",
       "      <td>-0.00035</td>\n",
       "      <td>1.00000</td>\n",
       "      <td>0.04433</td>\n",
       "      <td>0.02326</td>\n",
       "      <td>0.02326</td>\n",
       "    </tr>\n",
       "    <tr>\n",
       "      <th>quality_5</th>\n",
       "      <td>-0.00422</td>\n",
       "      <td>0.04295</td>\n",
       "      <td>0.02997</td>\n",
       "      <td>0.04433</td>\n",
       "      <td>1.00000</td>\n",
       "      <td>0.01970</td>\n",
       "      <td>0.01970</td>\n",
       "      <td>0.02997</td>\n",
       "      <td>0.04433</td>\n",
       "      <td>1.00000</td>\n",
       "      <td>0.07244</td>\n",
       "      <td>0.07244</td>\n",
       "    </tr>\n",
       "    <tr>\n",
       "      <th>quality_6</th>\n",
       "      <td>-0.00978</td>\n",
       "      <td>0.00066</td>\n",
       "      <td>0.00733</td>\n",
       "      <td>0.00107</td>\n",
       "      <td>0.01970</td>\n",
       "      <td>1.00000</td>\n",
       "      <td>1.00000</td>\n",
       "      <td>0.00733</td>\n",
       "      <td>0.00107</td>\n",
       "      <td>0.01970</td>\n",
       "      <td>0.00061</td>\n",
       "      <td>0.00061</td>\n",
       "    </tr>\n",
       "    <tr>\n",
       "      <th>quality_7</th>\n",
       "      <td>-0.00978</td>\n",
       "      <td>0.00066</td>\n",
       "      <td>0.00733</td>\n",
       "      <td>0.00107</td>\n",
       "      <td>0.01970</td>\n",
       "      <td>1.00000</td>\n",
       "      <td>1.00000</td>\n",
       "      <td>0.00733</td>\n",
       "      <td>0.00107</td>\n",
       "      <td>0.01970</td>\n",
       "      <td>0.00061</td>\n",
       "      <td>0.00061</td>\n",
       "    </tr>\n",
       "    <tr>\n",
       "      <th>quality_8</th>\n",
       "      <td>0.00618</td>\n",
       "      <td>-0.00106</td>\n",
       "      <td>1.00000</td>\n",
       "      <td>-0.00035</td>\n",
       "      <td>0.02997</td>\n",
       "      <td>0.00733</td>\n",
       "      <td>0.00733</td>\n",
       "      <td>1.00000</td>\n",
       "      <td>-0.00035</td>\n",
       "      <td>0.02997</td>\n",
       "      <td>0.10275</td>\n",
       "      <td>0.10275</td>\n",
       "    </tr>\n",
       "    <tr>\n",
       "      <th>quality_9</th>\n",
       "      <td>0.01177</td>\n",
       "      <td>0.88105</td>\n",
       "      <td>-0.00035</td>\n",
       "      <td>1.00000</td>\n",
       "      <td>0.04433</td>\n",
       "      <td>0.00107</td>\n",
       "      <td>0.00107</td>\n",
       "      <td>-0.00035</td>\n",
       "      <td>1.00000</td>\n",
       "      <td>0.04433</td>\n",
       "      <td>0.02326</td>\n",
       "      <td>0.02326</td>\n",
       "    </tr>\n",
       "    <tr>\n",
       "      <th>quality_10</th>\n",
       "      <td>-0.00422</td>\n",
       "      <td>0.04295</td>\n",
       "      <td>0.02997</td>\n",
       "      <td>0.04433</td>\n",
       "      <td>1.00000</td>\n",
       "      <td>0.01970</td>\n",
       "      <td>0.01970</td>\n",
       "      <td>0.02997</td>\n",
       "      <td>0.04433</td>\n",
       "      <td>1.00000</td>\n",
       "      <td>0.07244</td>\n",
       "      <td>0.07244</td>\n",
       "    </tr>\n",
       "    <tr>\n",
       "      <th>quality_11</th>\n",
       "      <td>0.00959</td>\n",
       "      <td>0.00106</td>\n",
       "      <td>0.10275</td>\n",
       "      <td>0.02326</td>\n",
       "      <td>0.07244</td>\n",
       "      <td>0.00061</td>\n",
       "      <td>0.00061</td>\n",
       "      <td>0.10275</td>\n",
       "      <td>0.02326</td>\n",
       "      <td>0.07244</td>\n",
       "      <td>1.00000</td>\n",
       "      <td>1.00000</td>\n",
       "    </tr>\n",
       "    <tr>\n",
       "      <th>quality_12</th>\n",
       "      <td>0.00959</td>\n",
       "      <td>0.00106</td>\n",
       "      <td>0.10275</td>\n",
       "      <td>0.02326</td>\n",
       "      <td>0.07244</td>\n",
       "      <td>0.00061</td>\n",
       "      <td>0.00061</td>\n",
       "      <td>0.10275</td>\n",
       "      <td>0.02326</td>\n",
       "      <td>0.07244</td>\n",
       "      <td>1.00000</td>\n",
       "      <td>1.00000</td>\n",
       "    </tr>\n",
       "  </tbody>\n",
       "</table>\n",
       "</div>"
      ],
      "text/plain": [
       "            user_id  quality_0  quality_1  quality_2  quality_5  quality_6  \\\n",
       "user_id     1.00000    0.01775    0.00618    0.01177   -0.00422   -0.00978   \n",
       "quality_0   0.01775    1.00000   -0.00106    0.88105    0.04295    0.00066   \n",
       "quality_1   0.00618   -0.00106    1.00000   -0.00035    0.02997    0.00733   \n",
       "quality_2   0.01177    0.88105   -0.00035    1.00000    0.04433    0.00107   \n",
       "quality_5  -0.00422    0.04295    0.02997    0.04433    1.00000    0.01970   \n",
       "quality_6  -0.00978    0.00066    0.00733    0.00107    0.01970    1.00000   \n",
       "quality_7  -0.00978    0.00066    0.00733    0.00107    0.01970    1.00000   \n",
       "quality_8   0.00618   -0.00106    1.00000   -0.00035    0.02997    0.00733   \n",
       "quality_9   0.01177    0.88105   -0.00035    1.00000    0.04433    0.00107   \n",
       "quality_10 -0.00422    0.04295    0.02997    0.04433    1.00000    0.01970   \n",
       "quality_11  0.00959    0.00106    0.10275    0.02326    0.07244    0.00061   \n",
       "quality_12  0.00959    0.00106    0.10275    0.02326    0.07244    0.00061   \n",
       "\n",
       "            quality_7  quality_8  quality_9  quality_10  quality_11  \\\n",
       "user_id      -0.00978    0.00618    0.01177    -0.00422     0.00959   \n",
       "quality_0     0.00066   -0.00106    0.88105     0.04295     0.00106   \n",
       "quality_1     0.00733    1.00000   -0.00035     0.02997     0.10275   \n",
       "quality_2     0.00107   -0.00035    1.00000     0.04433     0.02326   \n",
       "quality_5     0.01970    0.02997    0.04433     1.00000     0.07244   \n",
       "quality_6     1.00000    0.00733    0.00107     0.01970     0.00061   \n",
       "quality_7     1.00000    0.00733    0.00107     0.01970     0.00061   \n",
       "quality_8     0.00733    1.00000   -0.00035     0.02997     0.10275   \n",
       "quality_9     0.00107   -0.00035    1.00000     0.04433     0.02326   \n",
       "quality_10    0.01970    0.02997    0.04433     1.00000     0.07244   \n",
       "quality_11    0.00061    0.10275    0.02326     0.07244     1.00000   \n",
       "quality_12    0.00061    0.10275    0.02326     0.07244     1.00000   \n",
       "\n",
       "            quality_12  \n",
       "user_id        0.00959  \n",
       "quality_0      0.00106  \n",
       "quality_1      0.10275  \n",
       "quality_2      0.02326  \n",
       "quality_5      0.07244  \n",
       "quality_6      0.00061  \n",
       "quality_7      0.00061  \n",
       "quality_8      0.10275  \n",
       "quality_9      0.02326  \n",
       "quality_10     0.07244  \n",
       "quality_11     1.00000  \n",
       "quality_12     1.00000  "
      ]
     },
     "execution_count": 195,
     "metadata": {},
     "output_type": "execute_result"
    }
   ],
   "source": [
    "qual_sum.corr()"
   ]
  },
  {
   "cell_type": "markdown",
   "metadata": {},
   "source": [
    "### → `Quality` 값을 유저별로 합하여 만든 파생 변수들 중에, <span style=\"color:red\"><u>완벽한 선형관계</u></span>를 보이는 관계를 발견\n"
   ]
  },
  {
   "cell_type": "markdown",
   "metadata": {},
   "source": [
    "|완벽한 선형관계|상관계수|  \n",
    "|-------|-------|  \n",
    "|Quality_1 ~ Quality_8|1.000|  \n",
    "|Quality_2 ~ Quality_9|1.000|  \n",
    "|Quality_5 ~ Quality_10|1.000|  \n",
    "|Quality_6 ~ Quality_7|1.000|  \n",
    "|Quality_11 ~ Quality_12|1.000|<br><br>"
   ]
  },
  {
   "cell_type": "markdown",
   "metadata": {},
   "source": [
    "<center><span style=\"color : gray\">* 실제 데이터를 살펴본 결과, <b>$y=12x$</b> 관계가 있음을 확인<br>\n",
    "&nbsp;&nbsp;Example) Quality_8 = Quality_1 * 4</span></center>"
   ]
  },
  {
   "cell_type": "code",
   "execution_count": 117,
   "metadata": {},
   "outputs": [
    {
     "data": {
      "text/html": [
       "<div>\n",
       "<style scoped>\n",
       "    .dataframe tbody tr th:only-of-type {\n",
       "        vertical-align: middle;\n",
       "    }\n",
       "\n",
       "    .dataframe tbody tr th {\n",
       "        vertical-align: top;\n",
       "    }\n",
       "\n",
       "    .dataframe thead th {\n",
       "        text-align: right;\n",
       "    }\n",
       "</style>\n",
       "<table border=\"1\" class=\"dataframe\">\n",
       "  <thead>\n",
       "    <tr style=\"text-align: right;\">\n",
       "      <th></th>\n",
       "      <th>quality_1</th>\n",
       "      <th>quality_8</th>\n",
       "    </tr>\n",
       "  </thead>\n",
       "  <tbody>\n",
       "    <tr>\n",
       "      <th>2505</th>\n",
       "      <td>4.00000</td>\n",
       "      <td>48.00000</td>\n",
       "    </tr>\n",
       "    <tr>\n",
       "      <th>2506</th>\n",
       "      <td>0.00000</td>\n",
       "      <td>0.00000</td>\n",
       "    </tr>\n",
       "    <tr>\n",
       "      <th>2507</th>\n",
       "      <td>0.00000</td>\n",
       "      <td>0.00000</td>\n",
       "    </tr>\n",
       "    <tr>\n",
       "      <th>2508</th>\n",
       "      <td>2.00000</td>\n",
       "      <td>24.00000</td>\n",
       "    </tr>\n",
       "    <tr>\n",
       "      <th>2509</th>\n",
       "      <td>0.00000</td>\n",
       "      <td>0.00000</td>\n",
       "    </tr>\n",
       "  </tbody>\n",
       "</table>\n",
       "</div>"
      ],
      "text/plain": [
       "      quality_1  quality_8\n",
       "2505    4.00000   48.00000\n",
       "2506    0.00000    0.00000\n",
       "2507    0.00000    0.00000\n",
       "2508    2.00000   24.00000\n",
       "2509    0.00000    0.00000"
      ]
     },
     "metadata": {},
     "output_type": "display_data"
    },
    {
     "data": {
      "text/html": [
       "<div>\n",
       "<style scoped>\n",
       "    .dataframe tbody tr th:only-of-type {\n",
       "        vertical-align: middle;\n",
       "    }\n",
       "\n",
       "    .dataframe tbody tr th {\n",
       "        vertical-align: top;\n",
       "    }\n",
       "\n",
       "    .dataframe thead th {\n",
       "        text-align: right;\n",
       "    }\n",
       "</style>\n",
       "<table border=\"1\" class=\"dataframe\">\n",
       "  <thead>\n",
       "    <tr style=\"text-align: right;\">\n",
       "      <th></th>\n",
       "      <th>quality_2</th>\n",
       "      <th>quality_9</th>\n",
       "    </tr>\n",
       "  </thead>\n",
       "  <tbody>\n",
       "    <tr>\n",
       "      <th>250</th>\n",
       "      <td>0.00000</td>\n",
       "      <td>0.00000</td>\n",
       "    </tr>\n",
       "    <tr>\n",
       "      <th>251</th>\n",
       "      <td>70.00000</td>\n",
       "      <td>840.00000</td>\n",
       "    </tr>\n",
       "    <tr>\n",
       "      <th>252</th>\n",
       "      <td>0.00000</td>\n",
       "      <td>0.00000</td>\n",
       "    </tr>\n",
       "    <tr>\n",
       "      <th>253</th>\n",
       "      <td>0.00000</td>\n",
       "      <td>0.00000</td>\n",
       "    </tr>\n",
       "    <tr>\n",
       "      <th>254</th>\n",
       "      <td>0.00000</td>\n",
       "      <td>0.00000</td>\n",
       "    </tr>\n",
       "  </tbody>\n",
       "</table>\n",
       "</div>"
      ],
      "text/plain": [
       "     quality_2  quality_9\n",
       "250    0.00000    0.00000\n",
       "251   70.00000  840.00000\n",
       "252    0.00000    0.00000\n",
       "253    0.00000    0.00000\n",
       "254    0.00000    0.00000"
      ]
     },
     "metadata": {},
     "output_type": "display_data"
    },
    {
     "data": {
      "text/html": [
       "<div>\n",
       "<style scoped>\n",
       "    .dataframe tbody tr th:only-of-type {\n",
       "        vertical-align: middle;\n",
       "    }\n",
       "\n",
       "    .dataframe tbody tr th {\n",
       "        vertical-align: top;\n",
       "    }\n",
       "\n",
       "    .dataframe thead th {\n",
       "        text-align: right;\n",
       "    }\n",
       "</style>\n",
       "<table border=\"1\" class=\"dataframe\">\n",
       "  <thead>\n",
       "    <tr style=\"text-align: right;\">\n",
       "      <th></th>\n",
       "      <th>quality_5</th>\n",
       "      <th>quality_10</th>\n",
       "    </tr>\n",
       "  </thead>\n",
       "  <tbody>\n",
       "    <tr>\n",
       "      <th>2505</th>\n",
       "      <td>10.00000</td>\n",
       "      <td>120.00000</td>\n",
       "    </tr>\n",
       "    <tr>\n",
       "      <th>2506</th>\n",
       "      <td>5.00000</td>\n",
       "      <td>60.00000</td>\n",
       "    </tr>\n",
       "    <tr>\n",
       "      <th>2507</th>\n",
       "      <td>0.00000</td>\n",
       "      <td>0.00000</td>\n",
       "    </tr>\n",
       "    <tr>\n",
       "      <th>2508</th>\n",
       "      <td>0.00000</td>\n",
       "      <td>0.00000</td>\n",
       "    </tr>\n",
       "    <tr>\n",
       "      <th>2509</th>\n",
       "      <td>0.00000</td>\n",
       "      <td>0.00000</td>\n",
       "    </tr>\n",
       "  </tbody>\n",
       "</table>\n",
       "</div>"
      ],
      "text/plain": [
       "      quality_5  quality_10\n",
       "2505   10.00000   120.00000\n",
       "2506    5.00000    60.00000\n",
       "2507    0.00000     0.00000\n",
       "2508    0.00000     0.00000\n",
       "2509    0.00000     0.00000"
      ]
     },
     "metadata": {},
     "output_type": "display_data"
    },
    {
     "data": {
      "text/html": [
       "<div>\n",
       "<style scoped>\n",
       "    .dataframe tbody tr th:only-of-type {\n",
       "        vertical-align: middle;\n",
       "    }\n",
       "\n",
       "    .dataframe tbody tr th {\n",
       "        vertical-align: top;\n",
       "    }\n",
       "\n",
       "    .dataframe thead th {\n",
       "        text-align: right;\n",
       "    }\n",
       "</style>\n",
       "<table border=\"1\" class=\"dataframe\">\n",
       "  <thead>\n",
       "    <tr style=\"text-align: right;\">\n",
       "      <th></th>\n",
       "      <th>quality_6</th>\n",
       "      <th>quality_7</th>\n",
       "    </tr>\n",
       "  </thead>\n",
       "  <tbody>\n",
       "    <tr>\n",
       "      <th>2505</th>\n",
       "      <td>4.00000</td>\n",
       "      <td>48.00000</td>\n",
       "    </tr>\n",
       "    <tr>\n",
       "      <th>2506</th>\n",
       "      <td>1.00000</td>\n",
       "      <td>12.00000</td>\n",
       "    </tr>\n",
       "    <tr>\n",
       "      <th>2507</th>\n",
       "      <td>0.00000</td>\n",
       "      <td>0.00000</td>\n",
       "    </tr>\n",
       "    <tr>\n",
       "      <th>2508</th>\n",
       "      <td>0.00000</td>\n",
       "      <td>0.00000</td>\n",
       "    </tr>\n",
       "    <tr>\n",
       "      <th>2509</th>\n",
       "      <td>0.00000</td>\n",
       "      <td>0.00000</td>\n",
       "    </tr>\n",
       "  </tbody>\n",
       "</table>\n",
       "</div>"
      ],
      "text/plain": [
       "      quality_6  quality_7\n",
       "2505    4.00000   48.00000\n",
       "2506    1.00000   12.00000\n",
       "2507    0.00000    0.00000\n",
       "2508    0.00000    0.00000\n",
       "2509    0.00000    0.00000"
      ]
     },
     "metadata": {},
     "output_type": "display_data"
    },
    {
     "data": {
      "text/html": [
       "<div>\n",
       "<style scoped>\n",
       "    .dataframe tbody tr th:only-of-type {\n",
       "        vertical-align: middle;\n",
       "    }\n",
       "\n",
       "    .dataframe tbody tr th {\n",
       "        vertical-align: top;\n",
       "    }\n",
       "\n",
       "    .dataframe thead th {\n",
       "        text-align: right;\n",
       "    }\n",
       "</style>\n",
       "<table border=\"1\" class=\"dataframe\">\n",
       "  <thead>\n",
       "    <tr style=\"text-align: right;\">\n",
       "      <th></th>\n",
       "      <th>quality_11</th>\n",
       "      <th>quality_12</th>\n",
       "    </tr>\n",
       "  </thead>\n",
       "  <tbody>\n",
       "    <tr>\n",
       "      <th>150</th>\n",
       "      <td>1.00000</td>\n",
       "      <td>12.00000</td>\n",
       "    </tr>\n",
       "    <tr>\n",
       "      <th>151</th>\n",
       "      <td>0.00000</td>\n",
       "      <td>0.00000</td>\n",
       "    </tr>\n",
       "    <tr>\n",
       "      <th>152</th>\n",
       "      <td>0.00000</td>\n",
       "      <td>0.00000</td>\n",
       "    </tr>\n",
       "    <tr>\n",
       "      <th>153</th>\n",
       "      <td>0.00000</td>\n",
       "      <td>0.00000</td>\n",
       "    </tr>\n",
       "    <tr>\n",
       "      <th>154</th>\n",
       "      <td>0.00000</td>\n",
       "      <td>0.00000</td>\n",
       "    </tr>\n",
       "  </tbody>\n",
       "</table>\n",
       "</div>"
      ],
      "text/plain": [
       "     quality_11  quality_12\n",
       "150     1.00000    12.00000\n",
       "151     0.00000     0.00000\n",
       "152     0.00000     0.00000\n",
       "153     0.00000     0.00000\n",
       "154     0.00000     0.00000"
      ]
     },
     "metadata": {},
     "output_type": "display_data"
    }
   ],
   "source": [
    "display(qual_sum.iloc[:,[2,9]][2505:2510])\n",
    "display(qual_sum.iloc[:,[3,10]][250:255])\n",
    "display(qual_sum.iloc[:,[6,11]][2505:2510])\n",
    "display(qual_sum.iloc[:,[7,8]][2505:2510])\n",
    "display(qual_sum.iloc[:,[12,13]][150:155])"
   ]
  },
  {
   "cell_type": "markdown",
   "metadata": {},
   "source": [
    "---"
   ]
  },
  {
   "cell_type": "markdown",
   "metadata": {},
   "source": [
    "## 6-2. Fwver in quality data"
   ]
  },
  {
   "cell_type": "markdown",
   "metadata": {},
   "source": [
    "* 먼저, Fwver의 대표적인 종류는 다음과 같다.\n",
    "    - '03'으로 시작하는 펌웨어 버전\n",
    "    - '04'으로 시작하는 펌웨어 버전\n",
    "    - '05'으로 시작하는 펌웨어 버전\n",
    "    - '09.17.1431' 특수한 펌웨어 버전"
   ]
  },
  {
   "cell_type": "code",
   "execution_count": 118,
   "metadata": {},
   "outputs": [
    {
     "name": "stdout",
     "output_type": "stream",
     "text": [
      "['03.11.1149', '03.11.1167', '04.16.3345', '04.16.3439', '04.16.3553', '04.16.3571', '04.22.1442', '04.22.1656', '04.22.1666', '04.22.1684', '04.22.1750', '04.22.1778', '04.33.1125', '04.33.1149', '04.33.1185', '04.33.1261', '04.73.2237', '04.73.2571', '04.82.1684', '04.82.1778', '05.15.2114', '05.15.2120', '05.15.2122', '05.15.2138', '05.66.3237', '05.66.3571', '09.17.1431']\n"
     ]
    }
   ],
   "source": [
    "print(sorted(train_qual.fwver.unique()))"
   ]
  },
  {
   "cell_type": "markdown",
   "metadata": {},
   "source": [
    "###### 1. 펌웨어 버전에 따라서, 불만 제기 확률이 달라질까?"
   ]
  },
  {
   "cell_type": "code",
   "execution_count": 119,
   "metadata": {
    "scrolled": true
   },
   "outputs": [
    {
     "name": "stderr",
     "output_type": "stream",
     "text": [
      "100%|██████████| 27/27 [00:01<00:00, 24.85it/s]"
     ]
    },
    {
     "name": "stdout",
     "output_type": "stream",
     "text": [
      "펌웨어 버전 04.22.1684를 사용중인 사람들 가운데, 59.09%는 불만을 제기하였습니다. \n",
      "불만 제기를 한 사람의 수는 전체 22명중 13명입니다.\n",
      "\n",
      "펌웨어 버전 09.17.1431를 사용중인 사람들 가운데, 96.00%는 불만을 제기하였습니다. \n",
      "불만 제기를 한 사람의 수는 전체 25명중 24명입니다.\n",
      "\n",
      "펌웨어 버전 04.16.3571를 사용중인 사람들 가운데, 63.24%는 불만을 제기하였습니다. \n",
      "불만 제기를 한 사람의 수는 전체 68명중 43명입니다.\n",
      "\n",
      "펌웨어 버전 04.82.1684를 사용중인 사람들 가운데, 54.55%는 불만을 제기하였습니다. \n",
      "불만 제기를 한 사람의 수는 전체 22명중 12명입니다.\n",
      "\n",
      "펌웨어 버전 04.33.1149를 사용중인 사람들 가운데, 70.27%는 불만을 제기하였습니다. \n",
      "불만 제기를 한 사람의 수는 전체 37명중 26명입니다.\n",
      "\n",
      "펌웨어 버전 05.66.3237를 사용중인 사람들 가운데, 75.00%는 불만을 제기하였습니다. \n",
      "불만 제기를 한 사람의 수는 전체 8명중 6명입니다.\n",
      "\n",
      "펌웨어 버전 04.82.1778를 사용중인 사람들 가운데, 61.54%는 불만을 제기하였습니다. \n",
      "불만 제기를 한 사람의 수는 전체 13명중 8명입니다.\n",
      "\n",
      "펌웨어 버전 05.66.3571를 사용중인 사람들 가운데, 60.00%는 불만을 제기하였습니다. \n",
      "불만 제기를 한 사람의 수는 전체 5명중 3명입니다.\n",
      "\n"
     ]
    },
    {
     "name": "stderr",
     "output_type": "stream",
     "text": [
      "\n"
     ]
    }
   ],
   "source": [
    "view_relation_fw_complain(train_qual)"
   ]
  },
  {
   "cell_type": "markdown",
   "metadata": {},
   "source": [
    "<b>특정 펌웨어 버전이 불만 제기에 유의미한 영향을 미침</b>임을 알 수 있다.<br>\n",
    "→ &nbsp; 따라서 <span style=\"color:red\">펌웨어 버전과 불만 제기 간의 관계</span>를 알 수 있는 파생변수를 만들어야 함을 알 수 있다."
   ]
  },
  {
   "cell_type": "markdown",
   "metadata": {},
   "source": [
    "---"
   ]
  },
  {
   "cell_type": "markdown",
   "metadata": {},
   "source": [
    "# 7. Err Data & Quality Data 관계"
   ]
  },
  {
   "cell_type": "markdown",
   "metadata": {},
   "source": [
    "---"
   ]
  },
  {
   "cell_type": "markdown",
   "metadata": {},
   "source": [
    "### Err Data & Quality Data에서 중복되는 컬럼인 `Fwver`을 기준으로 먼저 생각해보기\n",
    "&nbsp;&nbsp; → 두 Data에서 <u>모두 관측되는 Fwver</u>을 기준으로 두었다. (관계를 보기 위하여)"
   ]
  },
  {
   "cell_type": "markdown",
   "metadata": {},
   "source": [
    "###### 1. Quality Data에서 -1을 제외한 0보다 크거나 같은 quality값을 보았을 경우 "
   ]
  },
  {
   "cell_type": "code",
   "execution_count": 120,
   "metadata": {},
   "outputs": [],
   "source": [
    "def f2int(data):\n",
    "    for i in data.columns:\n",
    "        data[i] = data[i].apply(lambda x : int(x))\n",
    "    return data"
   ]
  },
  {
   "cell_type": "code",
   "execution_count": 121,
   "metadata": {},
   "outputs": [],
   "source": [
    "te_fwlst = list(train_err.fwver.unique())\n",
    "\n",
    "for i in train_qual.columns[3:]:\n",
    "    tq_fw = train_qual.groupby('fwver')[i].max().to_frame().reset_index()\n",
    "    if i == 'quality_0':\n",
    "        result_fw = tq_fw[tq_fw['fwver'].isin(te_fwlst)]\n",
    "    else:\n",
    "        tmp_2 = tq_fw[tq_fw['fwver'].isin(te_fwlst)].iloc[:,1]\n",
    "        result_fw = pd.concat([result_fw, tmp_2], axis = 1)"
   ]
  },
  {
   "cell_type": "code",
   "execution_count": 122,
   "metadata": {},
   "outputs": [
    {
     "data": {
      "text/html": [
       "<div>\n",
       "<style scoped>\n",
       "    .dataframe tbody tr th:only-of-type {\n",
       "        vertical-align: middle;\n",
       "    }\n",
       "\n",
       "    .dataframe tbody tr th {\n",
       "        vertical-align: top;\n",
       "    }\n",
       "\n",
       "    .dataframe thead th {\n",
       "        text-align: right;\n",
       "    }\n",
       "</style>\n",
       "<table border=\"1\" class=\"dataframe\">\n",
       "  <thead>\n",
       "    <tr style=\"text-align: right;\">\n",
       "      <th></th>\n",
       "      <th>fwver</th>\n",
       "      <th>quality_0</th>\n",
       "      <th>quality_1</th>\n",
       "      <th>quality_2</th>\n",
       "      <th>quality_3</th>\n",
       "      <th>quality_4</th>\n",
       "      <th>quality_5</th>\n",
       "      <th>quality_6</th>\n",
       "      <th>quality_7</th>\n",
       "      <th>quality_8</th>\n",
       "      <th>quality_9</th>\n",
       "      <th>quality_10</th>\n",
       "      <th>quality_11</th>\n",
       "      <th>quality_12</th>\n",
       "    </tr>\n",
       "  </thead>\n",
       "  <tbody>\n",
       "    <tr>\n",
       "      <th>0</th>\n",
       "      <td>03.11.1149</td>\n",
       "      <td>0</td>\n",
       "      <td>0</td>\n",
       "      <td>13</td>\n",
       "      <td>0</td>\n",
       "      <td>0</td>\n",
       "      <td>10</td>\n",
       "      <td>0</td>\n",
       "      <td>0</td>\n",
       "      <td>0</td>\n",
       "      <td>13</td>\n",
       "      <td>12</td>\n",
       "      <td>0</td>\n",
       "      <td>0</td>\n",
       "    </tr>\n",
       "    <tr>\n",
       "      <th>1</th>\n",
       "      <td>03.11.1167</td>\n",
       "      <td>0</td>\n",
       "      <td>171</td>\n",
       "      <td>191859</td>\n",
       "      <td>0</td>\n",
       "      <td>0</td>\n",
       "      <td>65221</td>\n",
       "      <td>500</td>\n",
       "      <td>5828</td>\n",
       "      <td>1317</td>\n",
       "      <td>315367</td>\n",
       "      <td>120367</td>\n",
       "      <td>14</td>\n",
       "      <td>14</td>\n",
       "    </tr>\n",
       "    <tr>\n",
       "      <th>2</th>\n",
       "      <td>04.16.3345</td>\n",
       "      <td>0</td>\n",
       "      <td>0</td>\n",
       "      <td>0</td>\n",
       "      <td>0</td>\n",
       "      <td>0</td>\n",
       "      <td>0</td>\n",
       "      <td>543</td>\n",
       "      <td>718</td>\n",
       "      <td>0</td>\n",
       "      <td>0</td>\n",
       "      <td>0</td>\n",
       "      <td>0</td>\n",
       "      <td>0</td>\n",
       "    </tr>\n",
       "    <tr>\n",
       "      <th>3</th>\n",
       "      <td>04.16.3439</td>\n",
       "      <td>0</td>\n",
       "      <td>1</td>\n",
       "      <td>0</td>\n",
       "      <td>0</td>\n",
       "      <td>0</td>\n",
       "      <td>1</td>\n",
       "      <td>5</td>\n",
       "      <td>5</td>\n",
       "      <td>1</td>\n",
       "      <td>0</td>\n",
       "      <td>2</td>\n",
       "      <td>0</td>\n",
       "      <td>0</td>\n",
       "    </tr>\n",
       "    <tr>\n",
       "      <th>4</th>\n",
       "      <td>04.16.3553</td>\n",
       "      <td>0</td>\n",
       "      <td>20</td>\n",
       "      <td>12089</td>\n",
       "      <td>0</td>\n",
       "      <td>0</td>\n",
       "      <td>127495</td>\n",
       "      <td>600</td>\n",
       "      <td>7200</td>\n",
       "      <td>42</td>\n",
       "      <td>12098</td>\n",
       "      <td>343052</td>\n",
       "      <td>4</td>\n",
       "      <td>4</td>\n",
       "    </tr>\n",
       "    <tr>\n",
       "      <th>5</th>\n",
       "      <td>04.16.3571</td>\n",
       "      <td>0</td>\n",
       "      <td>4</td>\n",
       "      <td>0</td>\n",
       "      <td>0</td>\n",
       "      <td>0</td>\n",
       "      <td>2082</td>\n",
       "      <td>94</td>\n",
       "      <td>124</td>\n",
       "      <td>7</td>\n",
       "      <td>0</td>\n",
       "      <td>4416</td>\n",
       "      <td>0</td>\n",
       "      <td>0</td>\n",
       "    </tr>\n",
       "    <tr>\n",
       "      <th>6</th>\n",
       "      <td>04.22.1442</td>\n",
       "      <td>0</td>\n",
       "      <td>0</td>\n",
       "      <td>0</td>\n",
       "      <td>0</td>\n",
       "      <td>0</td>\n",
       "      <td>3</td>\n",
       "      <td>0</td>\n",
       "      <td>0</td>\n",
       "      <td>0</td>\n",
       "      <td>0</td>\n",
       "      <td>8</td>\n",
       "      <td>0</td>\n",
       "      <td>0</td>\n",
       "    </tr>\n",
       "    <tr>\n",
       "      <th>7</th>\n",
       "      <td>04.22.1656</td>\n",
       "      <td>0</td>\n",
       "      <td>0</td>\n",
       "      <td>0</td>\n",
       "      <td>0</td>\n",
       "      <td>0</td>\n",
       "      <td>0</td>\n",
       "      <td>73</td>\n",
       "      <td>97</td>\n",
       "      <td>0</td>\n",
       "      <td>0</td>\n",
       "      <td>0</td>\n",
       "      <td>0</td>\n",
       "      <td>0</td>\n",
       "    </tr>\n",
       "    <tr>\n",
       "      <th>8</th>\n",
       "      <td>04.22.1666</td>\n",
       "      <td>0</td>\n",
       "      <td>1</td>\n",
       "      <td>0</td>\n",
       "      <td>0</td>\n",
       "      <td>0</td>\n",
       "      <td>531</td>\n",
       "      <td>0</td>\n",
       "      <td>0</td>\n",
       "      <td>1</td>\n",
       "      <td>0</td>\n",
       "      <td>636</td>\n",
       "      <td>0</td>\n",
       "      <td>0</td>\n",
       "    </tr>\n",
       "    <tr>\n",
       "      <th>9</th>\n",
       "      <td>04.22.1684</td>\n",
       "      <td>0</td>\n",
       "      <td>1</td>\n",
       "      <td>0</td>\n",
       "      <td>0</td>\n",
       "      <td>0</td>\n",
       "      <td>8698</td>\n",
       "      <td>600</td>\n",
       "      <td>3026</td>\n",
       "      <td>1</td>\n",
       "      <td>0</td>\n",
       "      <td>8841</td>\n",
       "      <td>0</td>\n",
       "      <td>0</td>\n",
       "    </tr>\n",
       "    <tr>\n",
       "      <th>10</th>\n",
       "      <td>04.22.1750</td>\n",
       "      <td>0</td>\n",
       "      <td>21</td>\n",
       "      <td>0</td>\n",
       "      <td>0</td>\n",
       "      <td>0</td>\n",
       "      <td>308940</td>\n",
       "      <td>600</td>\n",
       "      <td>7199</td>\n",
       "      <td>42</td>\n",
       "      <td>0</td>\n",
       "      <td>1249398</td>\n",
       "      <td>3</td>\n",
       "      <td>3</td>\n",
       "    </tr>\n",
       "    <tr>\n",
       "      <th>11</th>\n",
       "      <td>04.22.1778</td>\n",
       "      <td>0</td>\n",
       "      <td>23</td>\n",
       "      <td>0</td>\n",
       "      <td>0</td>\n",
       "      <td>0</td>\n",
       "      <td>166662</td>\n",
       "      <td>600</td>\n",
       "      <td>3772</td>\n",
       "      <td>47</td>\n",
       "      <td>0</td>\n",
       "      <td>1037689</td>\n",
       "      <td>9</td>\n",
       "      <td>12</td>\n",
       "    </tr>\n",
       "    <tr>\n",
       "      <th>12</th>\n",
       "      <td>04.33.1125</td>\n",
       "      <td>0</td>\n",
       "      <td>1</td>\n",
       "      <td>0</td>\n",
       "      <td>0</td>\n",
       "      <td>0</td>\n",
       "      <td>5</td>\n",
       "      <td>41</td>\n",
       "      <td>41</td>\n",
       "      <td>1</td>\n",
       "      <td>0</td>\n",
       "      <td>8</td>\n",
       "      <td>0</td>\n",
       "      <td>0</td>\n",
       "    </tr>\n",
       "    <tr>\n",
       "      <th>13</th>\n",
       "      <td>04.33.1149</td>\n",
       "      <td>0</td>\n",
       "      <td>2</td>\n",
       "      <td>0</td>\n",
       "      <td>0</td>\n",
       "      <td>0</td>\n",
       "      <td>2837</td>\n",
       "      <td>599</td>\n",
       "      <td>746</td>\n",
       "      <td>3</td>\n",
       "      <td>0</td>\n",
       "      <td>2848</td>\n",
       "      <td>0</td>\n",
       "      <td>0</td>\n",
       "    </tr>\n",
       "    <tr>\n",
       "      <th>14</th>\n",
       "      <td>04.33.1185</td>\n",
       "      <td>0</td>\n",
       "      <td>17</td>\n",
       "      <td>0</td>\n",
       "      <td>0</td>\n",
       "      <td>0</td>\n",
       "      <td>121477</td>\n",
       "      <td>600</td>\n",
       "      <td>4821</td>\n",
       "      <td>17</td>\n",
       "      <td>0</td>\n",
       "      <td>681199</td>\n",
       "      <td>8</td>\n",
       "      <td>13</td>\n",
       "    </tr>\n",
       "    <tr>\n",
       "      <th>15</th>\n",
       "      <td>04.33.1261</td>\n",
       "      <td>0</td>\n",
       "      <td>19</td>\n",
       "      <td>0</td>\n",
       "      <td>0</td>\n",
       "      <td>0</td>\n",
       "      <td>157092</td>\n",
       "      <td>600</td>\n",
       "      <td>7200</td>\n",
       "      <td>38</td>\n",
       "      <td>0</td>\n",
       "      <td>1015637</td>\n",
       "      <td>6</td>\n",
       "      <td>8</td>\n",
       "    </tr>\n",
       "    <tr>\n",
       "      <th>16</th>\n",
       "      <td>04.73.2237</td>\n",
       "      <td>0</td>\n",
       "      <td>1</td>\n",
       "      <td>0</td>\n",
       "      <td>0</td>\n",
       "      <td>0</td>\n",
       "      <td>9692</td>\n",
       "      <td>51</td>\n",
       "      <td>51</td>\n",
       "      <td>4</td>\n",
       "      <td>0</td>\n",
       "      <td>9692</td>\n",
       "      <td>0</td>\n",
       "      <td>0</td>\n",
       "    </tr>\n",
       "    <tr>\n",
       "      <th>17</th>\n",
       "      <td>04.73.2571</td>\n",
       "      <td>0</td>\n",
       "      <td>0</td>\n",
       "      <td>0</td>\n",
       "      <td>0</td>\n",
       "      <td>0</td>\n",
       "      <td>6</td>\n",
       "      <td>0</td>\n",
       "      <td>0</td>\n",
       "      <td>0</td>\n",
       "      <td>0</td>\n",
       "      <td>6</td>\n",
       "      <td>0</td>\n",
       "      <td>0</td>\n",
       "    </tr>\n",
       "    <tr>\n",
       "      <th>18</th>\n",
       "      <td>04.82.1684</td>\n",
       "      <td>0</td>\n",
       "      <td>5</td>\n",
       "      <td>0</td>\n",
       "      <td>0</td>\n",
       "      <td>0</td>\n",
       "      <td>127</td>\n",
       "      <td>600</td>\n",
       "      <td>2566</td>\n",
       "      <td>7</td>\n",
       "      <td>0</td>\n",
       "      <td>678</td>\n",
       "      <td>0</td>\n",
       "      <td>0</td>\n",
       "    </tr>\n",
       "    <tr>\n",
       "      <th>19</th>\n",
       "      <td>04.82.1778</td>\n",
       "      <td>0</td>\n",
       "      <td>2</td>\n",
       "      <td>0</td>\n",
       "      <td>0</td>\n",
       "      <td>0</td>\n",
       "      <td>62</td>\n",
       "      <td>10</td>\n",
       "      <td>10</td>\n",
       "      <td>2</td>\n",
       "      <td>0</td>\n",
       "      <td>62</td>\n",
       "      <td>0</td>\n",
       "      <td>0</td>\n",
       "    </tr>\n",
       "    <tr>\n",
       "      <th>20</th>\n",
       "      <td>05.15.2114</td>\n",
       "      <td>0</td>\n",
       "      <td>0</td>\n",
       "      <td>0</td>\n",
       "      <td>0</td>\n",
       "      <td>0</td>\n",
       "      <td>830</td>\n",
       "      <td>0</td>\n",
       "      <td>0</td>\n",
       "      <td>0</td>\n",
       "      <td>0</td>\n",
       "      <td>2176</td>\n",
       "      <td>0</td>\n",
       "      <td>0</td>\n",
       "    </tr>\n",
       "    <tr>\n",
       "      <th>21</th>\n",
       "      <td>05.15.2120</td>\n",
       "      <td>0</td>\n",
       "      <td>0</td>\n",
       "      <td>0</td>\n",
       "      <td>0</td>\n",
       "      <td>0</td>\n",
       "      <td>8</td>\n",
       "      <td>355</td>\n",
       "      <td>463</td>\n",
       "      <td>0</td>\n",
       "      <td>0</td>\n",
       "      <td>12</td>\n",
       "      <td>0</td>\n",
       "      <td>0</td>\n",
       "    </tr>\n",
       "    <tr>\n",
       "      <th>22</th>\n",
       "      <td>05.15.2122</td>\n",
       "      <td>0</td>\n",
       "      <td>0</td>\n",
       "      <td>0</td>\n",
       "      <td>0</td>\n",
       "      <td>0</td>\n",
       "      <td>143</td>\n",
       "      <td>0</td>\n",
       "      <td>0</td>\n",
       "      <td>0</td>\n",
       "      <td>0</td>\n",
       "      <td>144</td>\n",
       "      <td>0</td>\n",
       "      <td>0</td>\n",
       "    </tr>\n",
       "    <tr>\n",
       "      <th>23</th>\n",
       "      <td>05.15.2138</td>\n",
       "      <td>157667</td>\n",
       "      <td>20</td>\n",
       "      <td>157667</td>\n",
       "      <td>0</td>\n",
       "      <td>0</td>\n",
       "      <td>637385</td>\n",
       "      <td>600</td>\n",
       "      <td>7199</td>\n",
       "      <td>73</td>\n",
       "      <td>397424</td>\n",
       "      <td>1910175</td>\n",
       "      <td>6</td>\n",
       "      <td>10</td>\n",
       "    </tr>\n",
       "    <tr>\n",
       "      <th>24</th>\n",
       "      <td>05.66.3237</td>\n",
       "      <td>0</td>\n",
       "      <td>2</td>\n",
       "      <td>0</td>\n",
       "      <td>0</td>\n",
       "      <td>0</td>\n",
       "      <td>71</td>\n",
       "      <td>148</td>\n",
       "      <td>148</td>\n",
       "      <td>2</td>\n",
       "      <td>0</td>\n",
       "      <td>72</td>\n",
       "      <td>0</td>\n",
       "      <td>0</td>\n",
       "    </tr>\n",
       "    <tr>\n",
       "      <th>25</th>\n",
       "      <td>05.66.3571</td>\n",
       "      <td>0</td>\n",
       "      <td>2</td>\n",
       "      <td>0</td>\n",
       "      <td>0</td>\n",
       "      <td>0</td>\n",
       "      <td>233</td>\n",
       "      <td>169</td>\n",
       "      <td>189</td>\n",
       "      <td>2</td>\n",
       "      <td>0</td>\n",
       "      <td>365</td>\n",
       "      <td>0</td>\n",
       "      <td>0</td>\n",
       "    </tr>\n",
       "  </tbody>\n",
       "</table>\n",
       "</div>"
      ],
      "text/plain": [
       "         fwver  quality_0  quality_1  quality_2  quality_3  quality_4  \\\n",
       "0   03.11.1149          0          0         13          0          0   \n",
       "1   03.11.1167          0        171     191859          0          0   \n",
       "2   04.16.3345          0          0          0          0          0   \n",
       "3   04.16.3439          0          1          0          0          0   \n",
       "4   04.16.3553          0         20      12089          0          0   \n",
       "5   04.16.3571          0          4          0          0          0   \n",
       "6   04.22.1442          0          0          0          0          0   \n",
       "7   04.22.1656          0          0          0          0          0   \n",
       "8   04.22.1666          0          1          0          0          0   \n",
       "9   04.22.1684          0          1          0          0          0   \n",
       "10  04.22.1750          0         21          0          0          0   \n",
       "11  04.22.1778          0         23          0          0          0   \n",
       "12  04.33.1125          0          1          0          0          0   \n",
       "13  04.33.1149          0          2          0          0          0   \n",
       "14  04.33.1185          0         17          0          0          0   \n",
       "15  04.33.1261          0         19          0          0          0   \n",
       "16  04.73.2237          0          1          0          0          0   \n",
       "17  04.73.2571          0          0          0          0          0   \n",
       "18  04.82.1684          0          5          0          0          0   \n",
       "19  04.82.1778          0          2          0          0          0   \n",
       "20  05.15.2114          0          0          0          0          0   \n",
       "21  05.15.2120          0          0          0          0          0   \n",
       "22  05.15.2122          0          0          0          0          0   \n",
       "23  05.15.2138     157667         20     157667          0          0   \n",
       "24  05.66.3237          0          2          0          0          0   \n",
       "25  05.66.3571          0          2          0          0          0   \n",
       "\n",
       "    quality_5  quality_6  quality_7  quality_8  quality_9  quality_10  \\\n",
       "0          10          0          0          0         13          12   \n",
       "1       65221        500       5828       1317     315367      120367   \n",
       "2           0        543        718          0          0           0   \n",
       "3           1          5          5          1          0           2   \n",
       "4      127495        600       7200         42      12098      343052   \n",
       "5        2082         94        124          7          0        4416   \n",
       "6           3          0          0          0          0           8   \n",
       "7           0         73         97          0          0           0   \n",
       "8         531          0          0          1          0         636   \n",
       "9        8698        600       3026          1          0        8841   \n",
       "10     308940        600       7199         42          0     1249398   \n",
       "11     166662        600       3772         47          0     1037689   \n",
       "12          5         41         41          1          0           8   \n",
       "13       2837        599        746          3          0        2848   \n",
       "14     121477        600       4821         17          0      681199   \n",
       "15     157092        600       7200         38          0     1015637   \n",
       "16       9692         51         51          4          0        9692   \n",
       "17          6          0          0          0          0           6   \n",
       "18        127        600       2566          7          0         678   \n",
       "19         62         10         10          2          0          62   \n",
       "20        830          0          0          0          0        2176   \n",
       "21          8        355        463          0          0          12   \n",
       "22        143          0          0          0          0         144   \n",
       "23     637385        600       7199         73     397424     1910175   \n",
       "24         71        148        148          2          0          72   \n",
       "25        233        169        189          2          0         365   \n",
       "\n",
       "    quality_11  quality_12  \n",
       "0            0           0  \n",
       "1           14          14  \n",
       "2            0           0  \n",
       "3            0           0  \n",
       "4            4           4  \n",
       "5            0           0  \n",
       "6            0           0  \n",
       "7            0           0  \n",
       "8            0           0  \n",
       "9            0           0  \n",
       "10           3           3  \n",
       "11           9          12  \n",
       "12           0           0  \n",
       "13           0           0  \n",
       "14           8          13  \n",
       "15           6           8  \n",
       "16           0           0  \n",
       "17           0           0  \n",
       "18           0           0  \n",
       "19           0           0  \n",
       "20           0           0  \n",
       "21           0           0  \n",
       "22           0           0  \n",
       "23           6          10  \n",
       "24           0           0  \n",
       "25           0           0  "
      ]
     },
     "execution_count": 122,
     "metadata": {},
     "output_type": "execute_result"
    }
   ],
   "source": [
    "result_fw"
   ]
  },
  {
   "cell_type": "markdown",
   "metadata": {},
   "source": [
    "<b>특정 펌웨어 버전이 quality columns와 유의미한 관계가 있지 않음</b>임을 알 수 있다.<br>\n",
    "→ &nbsp; 그렇다면 <span style=\"color:red\">펌웨어 버전을 포함하는 더 큰 개념인 Model</span>은 어떨까?"
   ]
  },
  {
   "cell_type": "code",
   "execution_count": 123,
   "metadata": {},
   "outputs": [],
   "source": [
    "def change_fw_to_md(x):\n",
    "    if x in ['04.22.1442', '04.22.1656', '04.22.1666', '04.22.1684', '04.22.1750', '04.22.1778']:\n",
    "        return 'model_0'\n",
    "    elif x in ['04.16.2641', '04.16.3345', '04.16.3439', '04.16.3553', '04.16.3569', '04.16.3571']:\n",
    "        return 'model_1'\n",
    "    elif x in ['04.33.1095', '04.33.1125', '04.33.1149', '04.33.1171', '04.33.1185', '04.33.1261']:\n",
    "        return 'model_2'\n",
    "    elif x in ['05.15.2090', '05.15.2092', '05.15.2114', '05.15.2120', '05.15.2122', '05.15.2138', '05.15.3104']:\n",
    "        return 'model_3'\n",
    "    elif x in ['03.11.1141', '03.11.1149', '03.11.1167']:\n",
    "        return 'model_4'\n",
    "    elif x in ['04.82.1684', '04.82.1730', '04.82.1778']:\n",
    "        return 'model_5'\n",
    "    elif x in ['10', '8.5.3']:\n",
    "        return 'model_6'\n",
    "    elif x in ['05.66.3237', '05.66.3571']:\n",
    "        return 'model_7'\n",
    "    elif x in ['04.73.2237', '04.73.2571']:\n",
    "        return 'model_8'"
   ]
  },
  {
   "cell_type": "code",
   "execution_count": 124,
   "metadata": {},
   "outputs": [
    {
     "data": {
      "text/html": [
       "<div>\n",
       "<style scoped>\n",
       "    .dataframe tbody tr th:only-of-type {\n",
       "        vertical-align: middle;\n",
       "    }\n",
       "\n",
       "    .dataframe tbody tr th {\n",
       "        vertical-align: top;\n",
       "    }\n",
       "\n",
       "    .dataframe thead th {\n",
       "        text-align: right;\n",
       "    }\n",
       "</style>\n",
       "<table border=\"1\" class=\"dataframe\">\n",
       "  <thead>\n",
       "    <tr style=\"text-align: right;\">\n",
       "      <th></th>\n",
       "      <th>quality_0</th>\n",
       "      <th>quality_1</th>\n",
       "      <th>quality_2</th>\n",
       "      <th>quality_3</th>\n",
       "      <th>quality_4</th>\n",
       "      <th>quality_5</th>\n",
       "      <th>quality_6</th>\n",
       "      <th>quality_7</th>\n",
       "      <th>quality_8</th>\n",
       "      <th>quality_9</th>\n",
       "      <th>quality_10</th>\n",
       "      <th>quality_11</th>\n",
       "      <th>quality_12</th>\n",
       "    </tr>\n",
       "    <tr>\n",
       "      <th>model_nm</th>\n",
       "      <th></th>\n",
       "      <th></th>\n",
       "      <th></th>\n",
       "      <th></th>\n",
       "      <th></th>\n",
       "      <th></th>\n",
       "      <th></th>\n",
       "      <th></th>\n",
       "      <th></th>\n",
       "      <th></th>\n",
       "      <th></th>\n",
       "      <th></th>\n",
       "      <th></th>\n",
       "    </tr>\n",
       "  </thead>\n",
       "  <tbody>\n",
       "    <tr>\n",
       "      <th>model_0</th>\n",
       "      <td>0</td>\n",
       "      <td>46</td>\n",
       "      <td>0</td>\n",
       "      <td>0</td>\n",
       "      <td>0</td>\n",
       "      <td>484834</td>\n",
       "      <td>1873</td>\n",
       "      <td>14094</td>\n",
       "      <td>91</td>\n",
       "      <td>0</td>\n",
       "      <td>2296572</td>\n",
       "      <td>12</td>\n",
       "      <td>15</td>\n",
       "    </tr>\n",
       "    <tr>\n",
       "      <th>model_1</th>\n",
       "      <td>0</td>\n",
       "      <td>25</td>\n",
       "      <td>12089</td>\n",
       "      <td>0</td>\n",
       "      <td>0</td>\n",
       "      <td>129578</td>\n",
       "      <td>1242</td>\n",
       "      <td>8047</td>\n",
       "      <td>50</td>\n",
       "      <td>12098</td>\n",
       "      <td>347470</td>\n",
       "      <td>4</td>\n",
       "      <td>4</td>\n",
       "    </tr>\n",
       "    <tr>\n",
       "      <th>model_2</th>\n",
       "      <td>0</td>\n",
       "      <td>39</td>\n",
       "      <td>0</td>\n",
       "      <td>0</td>\n",
       "      <td>0</td>\n",
       "      <td>281411</td>\n",
       "      <td>1840</td>\n",
       "      <td>12808</td>\n",
       "      <td>59</td>\n",
       "      <td>0</td>\n",
       "      <td>1699692</td>\n",
       "      <td>14</td>\n",
       "      <td>21</td>\n",
       "    </tr>\n",
       "    <tr>\n",
       "      <th>model_3</th>\n",
       "      <td>157667</td>\n",
       "      <td>20</td>\n",
       "      <td>157667</td>\n",
       "      <td>0</td>\n",
       "      <td>0</td>\n",
       "      <td>638366</td>\n",
       "      <td>955</td>\n",
       "      <td>7662</td>\n",
       "      <td>73</td>\n",
       "      <td>397424</td>\n",
       "      <td>1912507</td>\n",
       "      <td>6</td>\n",
       "      <td>10</td>\n",
       "    </tr>\n",
       "    <tr>\n",
       "      <th>model_4</th>\n",
       "      <td>0</td>\n",
       "      <td>171</td>\n",
       "      <td>191872</td>\n",
       "      <td>0</td>\n",
       "      <td>0</td>\n",
       "      <td>65231</td>\n",
       "      <td>500</td>\n",
       "      <td>5828</td>\n",
       "      <td>1317</td>\n",
       "      <td>315380</td>\n",
       "      <td>120379</td>\n",
       "      <td>14</td>\n",
       "      <td>14</td>\n",
       "    </tr>\n",
       "    <tr>\n",
       "      <th>model_5</th>\n",
       "      <td>0</td>\n",
       "      <td>7</td>\n",
       "      <td>0</td>\n",
       "      <td>0</td>\n",
       "      <td>0</td>\n",
       "      <td>189</td>\n",
       "      <td>610</td>\n",
       "      <td>2576</td>\n",
       "      <td>9</td>\n",
       "      <td>0</td>\n",
       "      <td>740</td>\n",
       "      <td>0</td>\n",
       "      <td>0</td>\n",
       "    </tr>\n",
       "    <tr>\n",
       "      <th>model_7</th>\n",
       "      <td>0</td>\n",
       "      <td>4</td>\n",
       "      <td>0</td>\n",
       "      <td>0</td>\n",
       "      <td>0</td>\n",
       "      <td>304</td>\n",
       "      <td>317</td>\n",
       "      <td>337</td>\n",
       "      <td>4</td>\n",
       "      <td>0</td>\n",
       "      <td>437</td>\n",
       "      <td>0</td>\n",
       "      <td>0</td>\n",
       "    </tr>\n",
       "    <tr>\n",
       "      <th>model_8</th>\n",
       "      <td>0</td>\n",
       "      <td>1</td>\n",
       "      <td>0</td>\n",
       "      <td>0</td>\n",
       "      <td>0</td>\n",
       "      <td>9698</td>\n",
       "      <td>51</td>\n",
       "      <td>51</td>\n",
       "      <td>4</td>\n",
       "      <td>0</td>\n",
       "      <td>9698</td>\n",
       "      <td>0</td>\n",
       "      <td>0</td>\n",
       "    </tr>\n",
       "  </tbody>\n",
       "</table>\n",
       "</div>"
      ],
      "text/plain": [
       "          quality_0  quality_1  quality_2  quality_3  quality_4  quality_5  \\\n",
       "model_nm                                                                     \n",
       "model_0           0         46          0          0          0     484834   \n",
       "model_1           0         25      12089          0          0     129578   \n",
       "model_2           0         39          0          0          0     281411   \n",
       "model_3      157667         20     157667          0          0     638366   \n",
       "model_4           0        171     191872          0          0      65231   \n",
       "model_5           0          7          0          0          0        189   \n",
       "model_7           0          4          0          0          0        304   \n",
       "model_8           0          1          0          0          0       9698   \n",
       "\n",
       "          quality_6  quality_7  quality_8  quality_9  quality_10  quality_11  \\\n",
       "model_nm                                                                       \n",
       "model_0        1873      14094         91          0     2296572          12   \n",
       "model_1        1242       8047         50      12098      347470           4   \n",
       "model_2        1840      12808         59          0     1699692          14   \n",
       "model_3         955       7662         73     397424     1912507           6   \n",
       "model_4         500       5828       1317     315380      120379          14   \n",
       "model_5         610       2576          9          0         740           0   \n",
       "model_7         317        337          4          0         437           0   \n",
       "model_8          51         51          4          0        9698           0   \n",
       "\n",
       "          quality_12  \n",
       "model_nm              \n",
       "model_0           15  \n",
       "model_1            4  \n",
       "model_2           21  \n",
       "model_3           10  \n",
       "model_4           14  \n",
       "model_5            0  \n",
       "model_7            0  \n",
       "model_8            0  "
      ]
     },
     "execution_count": 124,
     "metadata": {},
     "output_type": "execute_result"
    }
   ],
   "source": [
    "result_fw.fwver = result_fw.fwver.apply(lambda x : change_fw_to_md(x))\n",
    "fwver_dup = result_fw.groupby('fwver').sum()\n",
    "fwver_dup.index.name = 'model_nm'\n",
    "fwver_dup = f2int(fwver_dup)\n",
    "fwver_dup"
   ]
  },
  {
   "cell_type": "markdown",
   "metadata": {},
   "source": [
    "이 역시 Fwver과 마찬가지로 <b>quality columns와 유의미한 관계가 있지 않음</b>임을 알 수 있다.<br>"
   ]
  },
  {
   "cell_type": "markdown",
   "metadata": {},
   "source": [
    "###### 2. Quality값에서 언급하였던 <span style=\"color:blue\"> -1값</span>만을 보았을 경우 "
   ]
  },
  {
   "cell_type": "code",
   "execution_count": 125,
   "metadata": {},
   "outputs": [],
   "source": [
    "minus_qual = pd.read_csv(save_path+\"train_quality_data_time.csv\")"
   ]
  },
  {
   "cell_type": "code",
   "execution_count": 126,
   "metadata": {},
   "outputs": [],
   "source": [
    "for i in minus_qual.columns[3:]:\n",
    "    idx = minus_qual[minus_qual[i] != -1].index\n",
    "    minus_qual.loc[idx,i] = 0 # -1이 아닌 값을 모두 0으로 교체"
   ]
  },
  {
   "cell_type": "code",
   "execution_count": 127,
   "metadata": {},
   "outputs": [],
   "source": [
    "te_fwlst = list(train_err.fwver.unique())\n",
    "\n",
    "for i in minus_qual.columns[3:]:\n",
    "    tq_fw = minus_qual.groupby('fwver')[i].sum().to_frame().reset_index()\n",
    "    if i == 'quality_0':\n",
    "        restmp = tq_fw[tq_fw['fwver'].isin(te_fwlst)]\n",
    "    else:\n",
    "        tmp_2 = tq_fw[tq_fw['fwver'].isin(te_fwlst)].iloc[:,1]\n",
    "        restmp = pd.concat([restmp, tmp_2], axis = 1)"
   ]
  },
  {
   "cell_type": "code",
   "execution_count": 128,
   "metadata": {},
   "outputs": [
    {
     "data": {
      "text/html": [
       "<div>\n",
       "<style scoped>\n",
       "    .dataframe tbody tr th:only-of-type {\n",
       "        vertical-align: middle;\n",
       "    }\n",
       "\n",
       "    .dataframe tbody tr th {\n",
       "        vertical-align: top;\n",
       "    }\n",
       "\n",
       "    .dataframe thead th {\n",
       "        text-align: right;\n",
       "    }\n",
       "</style>\n",
       "<table border=\"1\" class=\"dataframe\">\n",
       "  <thead>\n",
       "    <tr style=\"text-align: right;\">\n",
       "      <th></th>\n",
       "      <th>quality_0</th>\n",
       "      <th>quality_1</th>\n",
       "      <th>quality_2</th>\n",
       "      <th>quality_3</th>\n",
       "      <th>quality_4</th>\n",
       "      <th>quality_5</th>\n",
       "      <th>quality_6</th>\n",
       "      <th>quality_7</th>\n",
       "      <th>quality_8</th>\n",
       "      <th>quality_9</th>\n",
       "      <th>quality_10</th>\n",
       "      <th>quality_11</th>\n",
       "      <th>quality_12</th>\n",
       "    </tr>\n",
       "    <tr>\n",
       "      <th>model_nm</th>\n",
       "      <th></th>\n",
       "      <th></th>\n",
       "      <th></th>\n",
       "      <th></th>\n",
       "      <th></th>\n",
       "      <th></th>\n",
       "      <th></th>\n",
       "      <th></th>\n",
       "      <th></th>\n",
       "      <th></th>\n",
       "      <th></th>\n",
       "      <th></th>\n",
       "      <th></th>\n",
       "    </tr>\n",
       "  </thead>\n",
       "  <tbody>\n",
       "    <tr>\n",
       "      <th>model_0</th>\n",
       "      <td>-38743</td>\n",
       "      <td>-38743</td>\n",
       "      <td>-38743</td>\n",
       "      <td>0</td>\n",
       "      <td>0</td>\n",
       "      <td>-38742</td>\n",
       "      <td>-38743</td>\n",
       "      <td>0</td>\n",
       "      <td>0</td>\n",
       "      <td>0</td>\n",
       "      <td>0</td>\n",
       "      <td>-38743</td>\n",
       "      <td>0</td>\n",
       "    </tr>\n",
       "    <tr>\n",
       "      <th>model_1</th>\n",
       "      <td>-19731</td>\n",
       "      <td>-19730</td>\n",
       "      <td>-19731</td>\n",
       "      <td>0</td>\n",
       "      <td>0</td>\n",
       "      <td>-19731</td>\n",
       "      <td>-19730</td>\n",
       "      <td>0</td>\n",
       "      <td>0</td>\n",
       "      <td>0</td>\n",
       "      <td>0</td>\n",
       "      <td>-19730</td>\n",
       "      <td>0</td>\n",
       "    </tr>\n",
       "    <tr>\n",
       "      <th>model_2</th>\n",
       "      <td>-41207</td>\n",
       "      <td>-41207</td>\n",
       "      <td>-41207</td>\n",
       "      <td>0</td>\n",
       "      <td>0</td>\n",
       "      <td>-41207</td>\n",
       "      <td>-41207</td>\n",
       "      <td>0</td>\n",
       "      <td>0</td>\n",
       "      <td>0</td>\n",
       "      <td>0</td>\n",
       "      <td>-41207</td>\n",
       "      <td>0</td>\n",
       "    </tr>\n",
       "    <tr>\n",
       "      <th>model_3</th>\n",
       "      <td>-29560</td>\n",
       "      <td>-29560</td>\n",
       "      <td>-29560</td>\n",
       "      <td>0</td>\n",
       "      <td>0</td>\n",
       "      <td>-29560</td>\n",
       "      <td>-29560</td>\n",
       "      <td>0</td>\n",
       "      <td>0</td>\n",
       "      <td>0</td>\n",
       "      <td>0</td>\n",
       "      <td>-29560</td>\n",
       "      <td>0</td>\n",
       "    </tr>\n",
       "    <tr>\n",
       "      <th>model_4</th>\n",
       "      <td>0</td>\n",
       "      <td>-13564</td>\n",
       "      <td>-13564</td>\n",
       "      <td>0</td>\n",
       "      <td>0</td>\n",
       "      <td>-13564</td>\n",
       "      <td>-13564</td>\n",
       "      <td>0</td>\n",
       "      <td>0</td>\n",
       "      <td>0</td>\n",
       "      <td>0</td>\n",
       "      <td>-13564</td>\n",
       "      <td>0</td>\n",
       "    </tr>\n",
       "    <tr>\n",
       "      <th>model_5</th>\n",
       "      <td>-314</td>\n",
       "      <td>-314</td>\n",
       "      <td>-314</td>\n",
       "      <td>0</td>\n",
       "      <td>0</td>\n",
       "      <td>-314</td>\n",
       "      <td>-314</td>\n",
       "      <td>0</td>\n",
       "      <td>0</td>\n",
       "      <td>0</td>\n",
       "      <td>0</td>\n",
       "      <td>-314</td>\n",
       "      <td>0</td>\n",
       "    </tr>\n",
       "    <tr>\n",
       "      <th>model_7</th>\n",
       "      <td>-170</td>\n",
       "      <td>-170</td>\n",
       "      <td>-170</td>\n",
       "      <td>0</td>\n",
       "      <td>0</td>\n",
       "      <td>-170</td>\n",
       "      <td>-170</td>\n",
       "      <td>0</td>\n",
       "      <td>0</td>\n",
       "      <td>0</td>\n",
       "      <td>0</td>\n",
       "      <td>-170</td>\n",
       "      <td>0</td>\n",
       "    </tr>\n",
       "    <tr>\n",
       "      <th>model_8</th>\n",
       "      <td>-43</td>\n",
       "      <td>-43</td>\n",
       "      <td>-43</td>\n",
       "      <td>0</td>\n",
       "      <td>0</td>\n",
       "      <td>-43</td>\n",
       "      <td>-43</td>\n",
       "      <td>0</td>\n",
       "      <td>0</td>\n",
       "      <td>0</td>\n",
       "      <td>0</td>\n",
       "      <td>-43</td>\n",
       "      <td>0</td>\n",
       "    </tr>\n",
       "  </tbody>\n",
       "</table>\n",
       "</div>"
      ],
      "text/plain": [
       "          quality_0  quality_1  quality_2  quality_3  quality_4  quality_5  \\\n",
       "model_nm                                                                     \n",
       "model_0      -38743     -38743     -38743          0          0     -38742   \n",
       "model_1      -19731     -19730     -19731          0          0     -19731   \n",
       "model_2      -41207     -41207     -41207          0          0     -41207   \n",
       "model_3      -29560     -29560     -29560          0          0     -29560   \n",
       "model_4           0     -13564     -13564          0          0     -13564   \n",
       "model_5        -314       -314       -314          0          0       -314   \n",
       "model_7        -170       -170       -170          0          0       -170   \n",
       "model_8         -43        -43        -43          0          0        -43   \n",
       "\n",
       "          quality_6  quality_7  quality_8  quality_9  quality_10  quality_11  \\\n",
       "model_nm                                                                       \n",
       "model_0      -38743          0          0          0           0      -38743   \n",
       "model_1      -19730          0          0          0           0      -19730   \n",
       "model_2      -41207          0          0          0           0      -41207   \n",
       "model_3      -29560          0          0          0           0      -29560   \n",
       "model_4      -13564          0          0          0           0      -13564   \n",
       "model_5        -314          0          0          0           0        -314   \n",
       "model_7        -170          0          0          0           0        -170   \n",
       "model_8         -43          0          0          0           0         -43   \n",
       "\n",
       "          quality_12  \n",
       "model_nm              \n",
       "model_0            0  \n",
       "model_1            0  \n",
       "model_2            0  \n",
       "model_3            0  \n",
       "model_4            0  \n",
       "model_5            0  \n",
       "model_7            0  \n",
       "model_8            0  "
      ]
     },
     "execution_count": 128,
     "metadata": {},
     "output_type": "execute_result"
    }
   ],
   "source": [
    "restmp.fwver = restmp.fwver.apply(lambda x : change_fw_to_md(x))\n",
    "restmp = restmp.groupby('fwver').sum()\n",
    "restmp.index.name = 'model_nm'\n",
    "restmp = f2int(restmp)\n",
    "restmp"
   ]
  },
  {
   "cell_type": "markdown",
   "metadata": {},
   "source": [
    "---"
   ]
  },
  {
   "cell_type": "markdown",
   "metadata": {},
   "source": [
    "### Fwver을 Err Data에 있는 Model에 해당하는 카테고리로 변경하였을 경우에는 <span style=\"color:red\">유의미한 결과</span>를 확인할 수 있었다.  \n",
    "&nbsp;→ Model_4 & Quality_0과 Model_1 & Quality_1을 제외하고 모든 데이터프레임 안의 값이 같다는 사실을 확인할 수 있다.  "
   ]
  },
  {
   "cell_type": "markdown",
   "metadata": {},
   "source": [
    "&nbsp;→ &nbsp;`-1값`은 Quality_0 & Quality_1 & Quality_2 & Qualiy_5 & Quality_6 & Quality_11&nbsp;에서 모두 (합이) 같게 측정된다.  \n",
    "&nbsp;→ &nbsp;Quality_0 & Quality_1 & Quality_2 & Qualiy_5 & Quality_6 & Quality_11&nbsp;는 `-1값`을 측정할 때 같이 움직인다."
   ]
  },
  {
   "cell_type": "markdown",
   "metadata": {},
   "source": [
    "### ⇒ 그러므로, Quality 수치 해석에서 다루었던 `-1`을 따로 보는 것은 유의미하다."
   ]
  },
  {
   "cell_type": "markdown",
   "metadata": {},
   "source": [
    "<center><span style=\"color:gray\">※ 참고 : Model_4 + Quality_0에서 -13564이 아닌 0값이 측정된 이유는 Fwver 결측치를 제거하는 과정에서 삭제된 것으로 예상된다.<br>따라서 Fwver 결측치는 13564개의 -1로 대체하는 것이 바람직하다는 결론을 내릴 수 있다.</span></center>"
   ]
  },
  {
   "cell_type": "markdown",
   "metadata": {},
   "source": [
    "---"
   ]
  },
  {
   "cell_type": "markdown",
   "metadata": {},
   "source": [
    "# 8. 결과 정리"
   ]
  },
  {
   "cell_type": "markdown",
   "metadata": {},
   "source": [
    "---"
   ]
  },
  {
   "cell_type": "markdown",
   "metadata": {},
   "source": [
    "## Err Data & Quality Data를 분석해본 결과 정리"
   ]
  },
  {
   "cell_type": "markdown",
   "metadata": {},
   "source": [
    "#### 1. `Errtype & Errcode`가 불만 제기에 유의미한 변수였으며, 각 종류별 Err 발생 횟수와 이를 단위 시간별로 나누어 보는 것이 중요하다.\n",
    "#### 2. `Fwver`과 `Model`은 포함관계를 갖고 있으며, 불만 제기에 유의미한 변수는 `Fwver`이었다.\n",
    "#### 3. 사용자들은 `Fwver`과 `Model`의 변화에 민감하게 반응하였음을 알 수 있다.\n",
    "#### 4. `Quality Log`의 수치들은 -1과 나머지로 먼저 나누어 볼 수 있고, 특히 -1은 불만 제기에 유의미한 영향을 미친다.\n",
    "#### 5. `Quality` 칼럼들 간의 관계성이 있음을 입증할 수 있었고, `Quality` 데이터의 통계적 분석(최대값, 평균, 표준편차, 이동평균 등)도 중요할 것으로 예상된다.\n",
    "#### 6. Err Data의 `Model`과 Quality Data의 `Quality 측정값`의 데이터프레임을 보면, `특정 모델별` 측정되는 `Quality` 의 `관계`를 확인할 수 있다."
   ]
  },
  {
   "cell_type": "markdown",
   "metadata": {},
   "source": [
    "---"
   ]
  }
 ],
 "metadata": {
  "kernelspec": {
   "display_name": "Python 3",
   "language": "python",
   "name": "python3"
  },
  "language_info": {
   "codemirror_mode": {
    "name": "ipython",
    "version": 3
   },
   "file_extension": ".py",
   "mimetype": "text/x-python",
   "name": "python",
   "nbconvert_exporter": "python",
   "pygments_lexer": "ipython3",
   "version": "3.8.3"
  },
  "toc": {
   "base_numbering": 1,
   "nav_menu": {},
   "number_sections": false,
   "sideBar": true,
   "skip_h1_title": false,
   "title_cell": "Table of Contents",
   "title_sidebar": "Contents",
   "toc_cell": false,
   "toc_position": {
    "height": "calc(100% - 180px)",
    "left": "10px",
    "top": "150px",
    "width": "315.671px"
   },
   "toc_section_display": true,
   "toc_window_display": false
  },
  "varInspector": {
   "cols": {
    "lenName": 16,
    "lenType": 16,
    "lenVar": 40
   },
   "kernels_config": {
    "python": {
     "delete_cmd_postfix": "",
     "delete_cmd_prefix": "del ",
     "library": "var_list.py",
     "varRefreshCmd": "print(var_dic_list())"
    },
    "r": {
     "delete_cmd_postfix": ") ",
     "delete_cmd_prefix": "rm(",
     "library": "var_list.r",
     "varRefreshCmd": "cat(var_dic_list()) "
    }
   },
   "types_to_exclude": [
    "module",
    "function",
    "builtin_function_or_method",
    "instance",
    "_Feature"
   ],
   "window_display": false
  }
 },
 "nbformat": 4,
 "nbformat_minor": 4
}
